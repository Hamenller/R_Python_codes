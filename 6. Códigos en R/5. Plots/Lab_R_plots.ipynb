{
 "cells": [
  {
   "cell_type": "markdown",
   "id": "36a35f24",
   "metadata": {},
   "source": [
    "## 1. Quantities: \n",
    "This type of graph shows the levels of variables. Also, these graphs show the variables according to categories or classifications."
   ]
  },
  {
   "cell_type": "code",
   "execution_count": 1,
   "id": "2ffcdfda",
   "metadata": {},
   "outputs": [
    {
     "name": "stderr",
     "output_type": "stream",
     "text": [
      "also installing the dependency 'rlang'\n",
      "\n"
     ]
    },
    {
     "name": "stdout",
     "output_type": "stream",
     "text": [
      "\n",
      "  There are binary versions available but the source versions are later:\n",
      "        binary source needs_compilation\n",
      "rlang   0.4.11  1.0.2              TRUE\n",
      "ggplot2  3.3.3  3.3.6             FALSE\n",
      "\n",
      "  Binaries will be installed\n",
      "package 'rlang' successfully unpacked and MD5 sums checked\n"
     ]
    },
    {
     "name": "stderr",
     "output_type": "stream",
     "text": [
      "Warning message:\n",
      "\"cannot remove prior installation of package 'rlang'\"Warning message in file.copy(savedcopy, lib, recursive = TRUE):\n",
      "\"problema al copiar C:\\Users\\Rodolfo\\anaconda3\\Lib\\R\\library\\00LOCK\\rlang\\libs\\x64\\rlang.dll  a C:\\Users\\Rodolfo\\anaconda3\\Lib\\R\\library\\rlang\\libs\\x64\\rlang.dll: Permission denied\"Warning message:\n",
      "\"restored 'rlang'\""
     ]
    },
    {
     "name": "stdout",
     "output_type": "stream",
     "text": [
      "\n",
      "The downloaded binary packages are in\n",
      "\tC:\\Users\\Rodolfo\\AppData\\Local\\Temp\\RtmpyC7Cc0\\downloaded_packages\n"
     ]
    },
    {
     "name": "stderr",
     "output_type": "stream",
     "text": [
      "installing the source package 'ggplot2'\n",
      "\n",
      "Warning message in install.packages(\"ggplot2\"):\n",
      "\"installation of package 'ggplot2' had non-zero exit status\"also installing the dependencies 'cli', 'glue', 'rlang', 'tibble', 'tidyselect', 'vctrs', 'pillar'\n",
      "\n"
     ]
    },
    {
     "name": "stdout",
     "output_type": "stream",
     "text": [
      "\n",
      "  There are binary versions available but the source versions are later:\n",
      "           binary source needs_compilation\n",
      "cli         2.5.0  3.3.0              TRUE\n",
      "glue        1.4.2  1.6.2              TRUE\n",
      "rlang      0.4.11  1.0.2              TRUE\n",
      "tibble      3.1.1  3.1.7              TRUE\n",
      "tidyselect  1.1.1  1.1.2              TRUE\n",
      "vctrs       0.3.8  0.4.1              TRUE\n",
      "pillar      1.6.0  1.7.0             FALSE\n",
      "dplyr       1.0.6  1.0.9              TRUE\n",
      "\n",
      "  Binaries will be installed\n",
      "package 'cli' successfully unpacked and MD5 sums checked\n",
      "package 'glue' successfully unpacked and MD5 sums checked\n"
     ]
    },
    {
     "name": "stderr",
     "output_type": "stream",
     "text": [
      "Warning message:\n",
      "\"cannot remove prior installation of package 'glue'\"Warning message in file.copy(savedcopy, lib, recursive = TRUE):\n",
      "\"problema al copiar C:\\Users\\Rodolfo\\anaconda3\\Lib\\R\\library\\00LOCK\\glue\\libs\\x64\\glue.dll  a C:\\Users\\Rodolfo\\anaconda3\\Lib\\R\\library\\glue\\libs\\x64\\glue.dll: Permission denied\"Warning message:\n",
      "\"restored 'glue'\""
     ]
    },
    {
     "name": "stdout",
     "output_type": "stream",
     "text": [
      "package 'rlang' successfully unpacked and MD5 sums checked\n"
     ]
    },
    {
     "name": "stderr",
     "output_type": "stream",
     "text": [
      "Warning message:\n",
      "\"cannot remove prior installation of package 'rlang'\"Warning message in file.copy(savedcopy, lib, recursive = TRUE):\n",
      "\"problema al copiar C:\\Users\\Rodolfo\\anaconda3\\Lib\\R\\library\\00LOCK\\rlang\\libs\\x64\\rlang.dll  a C:\\Users\\Rodolfo\\anaconda3\\Lib\\R\\library\\rlang\\libs\\x64\\rlang.dll: Permission denied\"Warning message:\n",
      "\"restored 'rlang'\""
     ]
    },
    {
     "name": "stdout",
     "output_type": "stream",
     "text": [
      "package 'tibble' successfully unpacked and MD5 sums checked\n"
     ]
    },
    {
     "name": "stderr",
     "output_type": "stream",
     "text": [
      "Warning message:\n",
      "\"cannot remove prior installation of package 'tibble'\"Warning message in file.copy(savedcopy, lib, recursive = TRUE):\n",
      "\"problema al copiar C:\\Users\\Rodolfo\\anaconda3\\Lib\\R\\library\\00LOCK\\tibble\\libs\\x64\\tibble.dll  a C:\\Users\\Rodolfo\\anaconda3\\Lib\\R\\library\\tibble\\libs\\x64\\tibble.dll: Permission denied\"Warning message:\n",
      "\"restored 'tibble'\""
     ]
    },
    {
     "name": "stdout",
     "output_type": "stream",
     "text": [
      "package 'tidyselect' successfully unpacked and MD5 sums checked\n"
     ]
    },
    {
     "name": "stderr",
     "output_type": "stream",
     "text": [
      "Warning message:\n",
      "\"cannot remove prior installation of package 'tidyselect'\"Warning message in file.copy(savedcopy, lib, recursive = TRUE):\n",
      "\"problema al copiar C:\\Users\\Rodolfo\\anaconda3\\Lib\\R\\library\\00LOCK\\tidyselect\\libs\\x64\\tidyselect.dll  a C:\\Users\\Rodolfo\\anaconda3\\Lib\\R\\library\\tidyselect\\libs\\x64\\tidyselect.dll: Permission denied\"Warning message:\n",
      "\"restored 'tidyselect'\""
     ]
    },
    {
     "name": "stdout",
     "output_type": "stream",
     "text": [
      "package 'vctrs' successfully unpacked and MD5 sums checked\n",
      "package 'dplyr' successfully unpacked and MD5 sums checked\n"
     ]
    },
    {
     "name": "stderr",
     "output_type": "stream",
     "text": [
      "Warning message:\n",
      "\"cannot remove prior installation of package 'dplyr'\"Warning message in file.copy(savedcopy, lib, recursive = TRUE):\n",
      "\"problema al copiar C:\\Users\\Rodolfo\\anaconda3\\Lib\\R\\library\\00LOCK\\dplyr\\libs\\x64\\dplyr.dll  a C:\\Users\\Rodolfo\\anaconda3\\Lib\\R\\library\\dplyr\\libs\\x64\\dplyr.dll: Permission denied\"Warning message:\n",
      "\"restored 'dplyr'\""
     ]
    },
    {
     "name": "stdout",
     "output_type": "stream",
     "text": [
      "\n",
      "The downloaded binary packages are in\n",
      "\tC:\\Users\\Rodolfo\\AppData\\Local\\Temp\\RtmpyC7Cc0\\downloaded_packages\n"
     ]
    },
    {
     "name": "stderr",
     "output_type": "stream",
     "text": [
      "installing the source package 'pillar'\n",
      "\n",
      "Warning message in install.packages(\"dplyr\"):\n",
      "\"installation of package 'pillar' had non-zero exit status\"also installing the dependencies 'glue', 'cli', 'rlang'\n",
      "\n"
     ]
    },
    {
     "name": "stdout",
     "output_type": "stream",
     "text": [
      "\n",
      "  There are binary versions available but the source versions are later:\n",
      "      binary source needs_compilation\n",
      "glue   1.4.2  1.6.2              TRUE\n",
      "cli    2.5.0  3.3.0              TRUE\n",
      "rlang 0.4.11  1.0.2              TRUE\n",
      "haven  2.4.1  2.5.0              TRUE\n",
      "\n",
      "  Binaries will be installed\n",
      "package 'glue' successfully unpacked and MD5 sums checked\n"
     ]
    },
    {
     "name": "stderr",
     "output_type": "stream",
     "text": [
      "Warning message:\n",
      "\"cannot remove prior installation of package 'glue'\"Warning message in file.copy(savedcopy, lib, recursive = TRUE):\n",
      "\"problema al copiar C:\\Users\\Rodolfo\\anaconda3\\Lib\\R\\library\\00LOCK\\glue\\libs\\x64\\glue.dll  a C:\\Users\\Rodolfo\\anaconda3\\Lib\\R\\library\\glue\\libs\\x64\\glue.dll: Permission denied\"Warning message:\n",
      "\"restored 'glue'\""
     ]
    },
    {
     "name": "stdout",
     "output_type": "stream",
     "text": [
      "package 'cli' successfully unpacked and MD5 sums checked\n",
      "package 'rlang' successfully unpacked and MD5 sums checked\n"
     ]
    },
    {
     "name": "stderr",
     "output_type": "stream",
     "text": [
      "Warning message:\n",
      "\"cannot remove prior installation of package 'rlang'\"Warning message in file.copy(savedcopy, lib, recursive = TRUE):\n",
      "\"problema al copiar C:\\Users\\Rodolfo\\anaconda3\\Lib\\R\\library\\00LOCK\\rlang\\libs\\x64\\rlang.dll  a C:\\Users\\Rodolfo\\anaconda3\\Lib\\R\\library\\rlang\\libs\\x64\\rlang.dll: Permission denied\"Warning message:\n",
      "\"restored 'rlang'\""
     ]
    },
    {
     "name": "stdout",
     "output_type": "stream",
     "text": [
      "package 'haven' successfully unpacked and MD5 sums checked\n"
     ]
    },
    {
     "name": "stderr",
     "output_type": "stream",
     "text": [
      "Warning message:\n",
      "\"cannot remove prior installation of package 'haven'\"Warning message in file.copy(savedcopy, lib, recursive = TRUE):\n",
      "\"problema al copiar C:\\Users\\Rodolfo\\anaconda3\\Lib\\R\\library\\00LOCK\\haven\\libs\\x64\\haven.dll  a C:\\Users\\Rodolfo\\anaconda3\\Lib\\R\\library\\haven\\libs\\x64\\haven.dll: Permission denied\"Warning message:\n",
      "\"restored 'haven'\""
     ]
    },
    {
     "name": "stdout",
     "output_type": "stream",
     "text": [
      "\n",
      "The downloaded binary packages are in\n",
      "\tC:\\Users\\Rodolfo\\AppData\\Local\\Temp\\RtmpyC7Cc0\\downloaded_packages\n"
     ]
    }
   ],
   "source": [
    "#install.packages(\"ggplot2\")\n",
    "#install.packages(\"dplyr\")\n",
    "#install.packages(\"haven\")  "
   ]
  },
  {
   "cell_type": "code",
   "execution_count": 1,
   "id": "69feb6bf",
   "metadata": {},
   "outputs": [
    {
     "name": "stderr",
     "output_type": "stream",
     "text": [
      "Registered S3 methods overwritten by 'ggplot2':\n",
      "  method         from \n",
      "  [.quosures     rlang\n",
      "  c.quosures     rlang\n",
      "  print.quosures rlang\n",
      "\n",
      "Attaching package: 'dplyr'\n",
      "\n",
      "The following objects are masked from 'package:stats':\n",
      "\n",
      "    filter, lag\n",
      "\n",
      "The following objects are masked from 'package:base':\n",
      "\n",
      "    intersect, setdiff, setequal, union\n",
      "\n"
     ]
    }
   ],
   "source": [
    "library(ggplot2)  # plots packages\n",
    "library(tidyr) # read and filter dataset\n",
    "\n",
    "library(haven)  # read STATA.dta \n",
    "library(dplyr)  # filter dataset"
   ]
  },
  {
   "cell_type": "code",
   "execution_count": 2,
   "id": "00be6927",
   "metadata": {},
   "outputs": [],
   "source": [
    "enaho <- read_dta(\"../../data/ENAHO/enaho.dta\", encoding = \"latin1\")"
   ]
  },
  {
   "cell_type": "code",
   "execution_count": 3,
   "id": "5232480e",
   "metadata": {
    "scrolled": true
   },
   "outputs": [],
   "source": [
    "attach(enaho)"
   ]
  },
  {
   "cell_type": "code",
   "execution_count": 4,
   "id": "86462979",
   "metadata": {},
   "outputs": [
    {
     "data": {
      "text/html": [
       "<table>\n",
       "<thead><tr><th scope=col>year</th><th scope=col>conglome</th><th scope=col>vivienda</th><th scope=col>hogar</th><th scope=col>ubigeo</th><th scope=col>codperso</th><th scope=col>dominio</th><th scope=col>estrato</th><th scope=col>panel</th><th scope=col>p203</th><th scope=col>...</th><th scope=col>acumulado</th><th scope=col>estud</th><th scope=col>educa</th><th scope=col>d_edu</th><th scope=col>exper</th><th scope=col>exper_2</th><th scope=col>tenure_2</th><th scope=col>edad_2</th><th scope=col>jefe</th><th scope=col>ubigeo_2</th></tr></thead>\n",
       "<tbody>\n",
       "\t<tr><td>2011        </td><td>0061        </td><td>077         </td><td>11          </td><td>010701      </td><td>04          </td><td>7           </td><td>4           </td><td>2.011006e+14</td><td>3           </td><td>...         </td><td> 6          </td><td>5           </td><td>11          </td><td>1           </td><td>2           </td><td> 4          </td><td>NA          </td><td>361         </td><td>0           </td><td>010000      </td></tr>\n",
       "\t<tr><td>2011        </td><td>0110        </td><td>112         </td><td>11          </td><td>010705      </td><td>05          </td><td>7           </td><td>7           </td><td>2.011011e+14</td><td>3           </td><td>...         </td><td> 6          </td><td>5           </td><td>11          </td><td>1           </td><td>3           </td><td> 9          </td><td> 9          </td><td>400         </td><td>0           </td><td>010000      </td></tr>\n",
       "\t<tr><td>2011        </td><td>0090        </td><td>076         </td><td>11          </td><td>010205      </td><td>03          </td><td>7           </td><td>7           </td><td>2.011009e+14</td><td>5           </td><td>...         </td><td> 6          </td><td>5           </td><td>11          </td><td>1           </td><td>5           </td><td>25          </td><td>36          </td><td>484         </td><td>0           </td><td>010000      </td></tr>\n",
       "\t<tr><td>2011        </td><td>0118        </td><td>080         </td><td>11          </td><td>010401      </td><td>03          </td><td>7           </td><td>8           </td><td>2.011012e+14</td><td>3           </td><td>...         </td><td> 6          </td><td>5           </td><td>11          </td><td>1           </td><td>6           </td><td>36          </td><td>NA          </td><td>529         </td><td>0           </td><td>010000      </td></tr>\n",
       "\t<tr><td>2011        </td><td>3408        </td><td>066         </td><td>11          </td><td>010402      </td><td>03          </td><td>7           </td><td>7           </td><td>2.011341e+14</td><td>3           </td><td>...         </td><td> 6          </td><td>5           </td><td>11          </td><td>1           </td><td>3           </td><td> 9          </td><td> 0          </td><td>400         </td><td>0           </td><td>010000      </td></tr>\n",
       "\t<tr><td>2011        </td><td>0002        </td><td>045         </td><td>11          </td><td>010101      </td><td>03          </td><td>4           </td><td>4           </td><td>2.011000e+14</td><td>3           </td><td>...         </td><td>11          </td><td>2           </td><td>13          </td><td>4           </td><td>0           </td><td> 0          </td><td>NA          </td><td>361         </td><td>0           </td><td>010000      </td></tr>\n",
       "</tbody>\n",
       "</table>\n"
      ],
      "text/latex": [
       "\\begin{tabular}{r|lllllllllllllllllllllllllllllllllllllllllllllllllllllllllllllllllllllllllllllllllllllllllllllllllllllllll}\n",
       " year & conglome & vivienda & hogar & ubigeo & codperso & dominio & estrato & panel & p203 & ... & acumulado & estud & educa & d\\_edu & exper & exper\\_2 & tenure\\_2 & edad\\_2 & jefe & ubigeo\\_2\\\\\n",
       "\\hline\n",
       "\t 2011         & 0061         & 077          & 11           & 010701       & 04           & 7            & 4            & 2.011006e+14 & 3            & ...          &  6           & 5            & 11           & 1            & 2            &  4           & NA           & 361          & 0            & 010000      \\\\\n",
       "\t 2011         & 0110         & 112          & 11           & 010705       & 05           & 7            & 7            & 2.011011e+14 & 3            & ...          &  6           & 5            & 11           & 1            & 3            &  9           &  9           & 400          & 0            & 010000      \\\\\n",
       "\t 2011         & 0090         & 076          & 11           & 010205       & 03           & 7            & 7            & 2.011009e+14 & 5            & ...          &  6           & 5            & 11           & 1            & 5            & 25           & 36           & 484          & 0            & 010000      \\\\\n",
       "\t 2011         & 0118         & 080          & 11           & 010401       & 03           & 7            & 8            & 2.011012e+14 & 3            & ...          &  6           & 5            & 11           & 1            & 6            & 36           & NA           & 529          & 0            & 010000      \\\\\n",
       "\t 2011         & 3408         & 066          & 11           & 010402       & 03           & 7            & 7            & 2.011341e+14 & 3            & ...          &  6           & 5            & 11           & 1            & 3            &  9           &  0           & 400          & 0            & 010000      \\\\\n",
       "\t 2011         & 0002         & 045          & 11           & 010101       & 03           & 4            & 4            & 2.011000e+14 & 3            & ...          & 11           & 2            & 13           & 4            & 0            &  0           & NA           & 361          & 0            & 010000      \\\\\n",
       "\\end{tabular}\n"
      ],
      "text/markdown": [
       "\n",
       "| year | conglome | vivienda | hogar | ubigeo | codperso | dominio | estrato | panel | p203 | ... | acumulado | estud | educa | d_edu | exper | exper_2 | tenure_2 | edad_2 | jefe | ubigeo_2 |\n",
       "|---|---|---|---|---|---|---|---|---|---|---|---|---|---|---|---|---|---|---|---|---|\n",
       "| 2011         | 0061         | 077          | 11           | 010701       | 04           | 7            | 4            | 2.011006e+14 | 3            | ...          |  6           | 5            | 11           | 1            | 2            |  4           | NA           | 361          | 0            | 010000       |\n",
       "| 2011         | 0110         | 112          | 11           | 010705       | 05           | 7            | 7            | 2.011011e+14 | 3            | ...          |  6           | 5            | 11           | 1            | 3            |  9           |  9           | 400          | 0            | 010000       |\n",
       "| 2011         | 0090         | 076          | 11           | 010205       | 03           | 7            | 7            | 2.011009e+14 | 5            | ...          |  6           | 5            | 11           | 1            | 5            | 25           | 36           | 484          | 0            | 010000       |\n",
       "| 2011         | 0118         | 080          | 11           | 010401       | 03           | 7            | 8            | 2.011012e+14 | 3            | ...          |  6           | 5            | 11           | 1            | 6            | 36           | NA           | 529          | 0            | 010000       |\n",
       "| 2011         | 3408         | 066          | 11           | 010402       | 03           | 7            | 7            | 2.011341e+14 | 3            | ...          |  6           | 5            | 11           | 1            | 3            |  9           |  0           | 400          | 0            | 010000       |\n",
       "| 2011         | 0002         | 045          | 11           | 010101       | 03           | 4            | 4            | 2.011000e+14 | 3            | ...          | 11           | 2            | 13           | 4            | 0            |  0           | NA           | 361          | 0            | 010000       |\n",
       "\n"
      ],
      "text/plain": [
       "  year conglome vivienda hogar ubigeo codperso dominio estrato panel       \n",
       "1 2011 0061     077      11    010701 04       7       4       2.011006e+14\n",
       "2 2011 0110     112      11    010705 05       7       7       2.011011e+14\n",
       "3 2011 0090     076      11    010205 03       7       7       2.011009e+14\n",
       "4 2011 0118     080      11    010401 03       7       8       2.011012e+14\n",
       "5 2011 3408     066      11    010402 03       7       7       2.011341e+14\n",
       "6 2011 0002     045      11    010101 03       4       4       2.011000e+14\n",
       "  p203 ... acumulado estud educa d_edu exper exper_2 tenure_2 edad_2 jefe\n",
       "1 3    ...  6        5     11    1     2      4      NA       361    0   \n",
       "2 3    ...  6        5     11    1     3      9       9       400    0   \n",
       "3 5    ...  6        5     11    1     5     25      36       484    0   \n",
       "4 3    ...  6        5     11    1     6     36      NA       529    0   \n",
       "5 3    ...  6        5     11    1     3      9       0       400    0   \n",
       "6 3    ... 11        2     13    4     0      0      NA       361    0   \n",
       "  ubigeo_2\n",
       "1 010000  \n",
       "2 010000  \n",
       "3 010000  \n",
       "4 010000  \n",
       "5 010000  \n",
       "6 010000  "
      ]
     },
     "metadata": {},
     "output_type": "display_data"
    }
   ],
   "source": [
    "head(enaho)"
   ]
  },
  {
   "cell_type": "code",
   "execution_count": 5,
   "id": "0111498a",
   "metadata": {},
   "outputs": [
    {
     "name": "stdout",
     "output_type": "stream",
     "text": [
      "Classes 'tbl_df', 'tbl' and 'data.frame':\t160772 obs. of  105 variables:\n",
      " $ year        : chr  \"2011\" \"2011\" \"2011\" \"2011\" ...\n",
      "  ..- attr(*, \"format.stata\")= chr \"%9s\"\n",
      " $ conglome    : chr  \"0061\" \"0110\" \"0090\" \"0118\" ...\n",
      "  ..- attr(*, \"label\")= chr \"conglomerado\"\n",
      "  ..- attr(*, \"format.stata\")= chr \"%9s\"\n",
      " $ vivienda    : chr  \"077\" \"112\" \"076\" \"080\" ...\n",
      "  ..- attr(*, \"label\")= chr \"nÂ° de selecciÃ³n de la vivienda\"\n",
      "  ..- attr(*, \"format.stata\")= chr \"%3s\"\n",
      " $ hogar       : chr  \"11\" \"11\" \"11\" \"11\" ...\n",
      "  ..- attr(*, \"label\")= chr \"hogar\"\n",
      "  ..- attr(*, \"format.stata\")= chr \"%2s\"\n",
      " $ ubigeo      : chr  \"010701\" \"010705\" \"010205\" \"010401\" ...\n",
      "  ..- attr(*, \"label\")= chr \"cÃ³digo de distrito (ubicaciÃ³n geogrÃ¡fica)\"\n",
      "  ..- attr(*, \"format.stata\")= chr \"%6s\"\n",
      " $ codperso    : chr  \"04\" \"05\" \"03\" \"03\" ...\n",
      "  ..- attr(*, \"label\")= chr \"nÂ° de orden de la persona\"\n",
      "  ..- attr(*, \"format.stata\")= chr \"%2s\"\n",
      " $ dominio     : 'haven_labelled' num  7 7 7 7 7 4 7 7 7 7 ...\n",
      "  ..- attr(*, \"label\")= chr \"dominio\"\n",
      "  ..- attr(*, \"format.stata\")= chr \"%8.0g\"\n",
      "  ..- attr(*, \"labels\")= Named num  1 2 3 4 5 6 7 8\n",
      "  .. ..- attr(*, \"names\")= chr  \"costa norte\" \"costa centro\" \"costa sur\" \"sierra norte\" ...\n",
      " $ estrato     : 'haven_labelled' num  4 7 7 8 7 4 4 8 8 7 ...\n",
      "  ..- attr(*, \"label\")= chr \"estrato\"\n",
      "  ..- attr(*, \"format.stata\")= chr \"%46.0g\"\n",
      "  ..- attr(*, \"labels\")= Named num  1 2 3 4 5 6 7 8\n",
      "  .. ..- attr(*, \"names\")= chr  \"mayor de 100,000 viviendas\" \"de 20,001 a 100,000 viviendas\" \"de 10,001 a 20,000 viviendas\" \"de 4,001 a 10,000 viviendas\" ...\n",
      " $ panel       : num  2.01e+14 2.01e+14 2.01e+14 2.01e+14 2.01e+14 ...\n",
      "  ..- attr(*, \"label\")= chr \"cÃ³digo panel de persona\"\n",
      "  ..- attr(*, \"format.stata\")= chr \"%10.0g\"\n",
      " $ p203        : 'haven_labelled' num  3 3 5 3 3 3 3 1 3 2 ...\n",
      "  ..- attr(*, \"label\")= chr \"relaciÃ³n de parentesco con el jefe del hogar\"\n",
      "  ..- attr(*, \"format.stata\")= chr \"%8.0g\"\n",
      "  ..- attr(*, \"labels\")= Named num  0 1 2 3 4 5 6 7 8 9 ...\n",
      "  .. ..- attr(*, \"names\")= chr  \"panel\" \"jefe/jefa\" \"esposo/esposa\" \"hijo/hija\" ...\n",
      " $ p204        : 'haven_labelled' num  1 1 1 1 1 1 1 1 1 1 ...\n",
      "  ..- attr(*, \"label\")= chr \"Â¿es miembro del hogar?\"\n",
      "  ..- attr(*, \"format.stata\")= chr \"%8.0g\"\n",
      "  ..- attr(*, \"labels\")= Named num  1 2\n",
      "  .. ..- attr(*, \"names\")= chr  \"si\" \"no\"\n",
      " $ sexo        : 'haven_labelled' num  1 0 0 0 0 0 0 0 0 1 ...\n",
      "  ..- attr(*, \"label\")= chr \"sexo\"\n",
      "  ..- attr(*, \"format.stata\")= chr \"%8.0g\"\n",
      "  ..- attr(*, \"labels\")= Named num  0 1\n",
      "  .. ..- attr(*, \"names\")= chr  \"hombre\" \"mujer\"\n",
      " $ edad        : num  19 20 22 23 20 19 20 27 26 29 ...\n",
      "  ..- attr(*, \"label\")= chr \"Â¿qÃºe edad tiene en aÃ±os cumplidos? - aÃ±os\"\n",
      "  ..- attr(*, \"format.stata\")= chr \"%8.0g\"\n",
      " $ civil       : 'haven_labelled' num  0 0 0 0 0 0 0 1 1 1 ...\n",
      "  ..- attr(*, \"label\")= chr \"Â¿cuÃ¡l es su estado civil o conyugal?\"\n",
      "  ..- attr(*, \"format.stata\")= chr \"%20.0g\"\n",
      "  ..- attr(*, \"labels\")= Named num 1\n",
      "  .. ..- attr(*, \"names\")= chr \"casado o conviviente\"\n",
      " $ facpob07    : num  119.7 90.2 116.7 102.8 102.8 ...\n",
      "  ..- attr(*, \"label\")= chr \"factor de expansiÃ³n anual proyecciones cpv-2007\"\n",
      "  ..- attr(*, \"format.stata\")= chr \"%9.0g\"\n",
      " $ lengua      : 'haven_labelled' num  0 0 1 1 1 0 0 0 0 0 ...\n",
      "  ..- attr(*, \"label\")= chr \"idioma o lengua materna que aprendiÃ³ en su niÃ±ez\"\n",
      "  ..- attr(*, \"format.stata\")= chr \"%14.0g\"\n",
      "  ..- attr(*, \"labels\")= Named num 1\n",
      "  .. ..- attr(*, \"names\")= chr \"indioma nativo\"\n",
      " $ educ        : 'haven_labelled' num  6 6 6 6 6 9 6 6 6 6 ...\n",
      "  ..- attr(*, \"label\")= chr \"nivel educativo que aprobÃ³\"\n",
      "  ..- attr(*, \"format.stata\")= chr \"%24.0g\"\n",
      "  ..- attr(*, \"labels\")= Named num  1 2 3 4 5 6 7 8 9 10 ...\n",
      "  .. ..- attr(*, \"names\")= chr  \"sin nivel\" \"educaciÃ³n inicial\" \"primaria incompleta\" \"primaria completa\" ...\n",
      " $ nivel_edu1  : num  5 5 5 5 5 2 5 5 5 5 ...\n",
      "  ..- attr(*, \"label\")= chr \"Ã<U+009A>ltimo aÃ±o de estudios que aprobÃ³\"\n",
      "  ..- attr(*, \"format.stata\")= chr \"%8.0g\"\n",
      " $ nivel_edu2  : num  NA NA NA NA NA NA NA NA NA NA ...\n",
      "  ..- attr(*, \"label\")= chr \"Ã<U+009A>ltimo grado de estudios que aprobÃ³\"\n",
      "  ..- attr(*, \"format.stata\")= chr \"%8.0g\"\n",
      " $ labor       : 'haven_labelled' num  NA 1 7 NA 6 NA 1 8 NA 1 ...\n",
      "  ..- attr(*, \"label\")= chr \"Â¿cuÃ¡l es la ocupaciÃ³n principal que desempeÃ±o?\"\n",
      "  ..- attr(*, \"format.stata\")= chr \"%55.0g\"\n",
      "  ..- attr(*, \"labels\")= Named num  1 2 3 4 5 6 7 8 9\n",
      "  .. ..- attr(*, \"names\")= chr  \"Ocupaciones elementales\" \"Administradores\" \"Profesionales y fuerzas armadas\" \"TÃ©cnicos y similares\" ...\n",
      " $ sector      : 'haven_labelled' num  NA 1 1 NA 8 NA 5 3 NA 6 ...\n",
      "  ..- attr(*, \"label\")= chr \"Â¿ a quÃ© se dedica el negocio, organismo o empresa en la que trabajo en su ocupac\"\n",
      "  ..- attr(*, \"format.stata\")= chr \"%44.0g\"\n",
      "  ..- attr(*, \"labels\")= Named num  1 2 3 4 5 6 7 8\n",
      "  .. ..- attr(*, \"names\")= chr  \"agricultura, selvicultura y pesca\" \"minerÃ­a\" \"Manufactura y servicios pÃºblcios\" \"ConstrucciÃ³n\" ...\n",
      " $ p507        : 'haven_labelled' num  NA 4 2 NA 3 NA 4 2 NA 2 ...\n",
      "  ..- attr(*, \"label\")= chr \"ud., se desempeÃ±o en su ocupaciÃ³n principal o negocio como:\"\n",
      "  ..- attr(*, \"format.stata\")= chr \"%8.0g\"\n",
      "  ..- attr(*, \"labels\")= Named num  1 2 3 4 5 6 7\n",
      "  .. ..- attr(*, \"names\")= chr  \"empleador o patrono\" \"trabajador independiente\" \"empleado\" \"obrero\" ...\n",
      " $ contrato    : 'haven_labelled' num  NA 7 NA NA 6 NA 7 NA NA NA ...\n",
      "  ..- attr(*, \"label\")= chr \"bajo que tipo de contrato\"\n",
      "  ..- attr(*, \"format.stata\")= chr \"%60.0g\"\n",
      "  ..- attr(*, \"labels\")= Named num  1 2 3 4 5 6 7 8\n",
      "  .. ..- attr(*, \"names\")= chr  \"contrato indefinido\" \"contrato a plazo fijo\" \"esta en periodo de prueba\" \"convenios de formacion laboral juvenil\" ...\n",
      " $ empresa     : 'haven_labelled' num  NA 1 1 NA 4 NA 1 1 NA 1 ...\n",
      "  ..- attr(*, \"label\")= chr \"nÂ° de personas que laboraron en su empresa\"\n",
      "  ..- attr(*, \"format.stata\")= chr \"%16.0g\"\n",
      "  ..- attr(*, \"labels\")= Named num  1 2 3 4\n",
      "  .. ..- attr(*, \"names\")= chr  \"microempresa\" \"pequeÃ±a empresa\" \"mediana empresa\" \"gran empresa\"\n",
      " $ tenure      : num  NA 3 6 NA 0 NA 0 2 NA 0 ...\n",
      "  ..- attr(*, \"label\")= chr \"(aÃ±os) Â¿cuÃ¡nto tiempo trabaja ud., en esta ocupaciÃ³n principal\"\n",
      "  ..- attr(*, \"format.stata\")= chr \"%8.0g\"\n",
      " $ informal    : 'haven_labelled' num  1 1 1 1 1 1 1 1 1 1 ...\n",
      "  ..- attr(*, \"label\")= chr \"el sistema de pensiones al cual ud., estÃ¡ afiliado es: no estÃ¡ afiliado\"\n",
      "  ..- attr(*, \"format.stata\")= chr \"%55.0g\"\n",
      "  ..- attr(*, \"labels\")= Named num  0 1\n",
      "  .. ..- attr(*, \"names\")= chr  \"Trabajor con seguro de pensiones\" \"Trabajor sin seguro de pensiones\"\n",
      " $ d544t       : num  NA NA NA NA NA NA NA NA NA NA ...\n",
      "  ..- attr(*, \"label\")= chr \"(deflactado, anualizado) en los Ãºltimos 12 meses Â¿ recibiÃ³ en total ( monto tota\"\n",
      "  ..- attr(*, \"format.stata\")= chr \"%12.0g\"\n",
      " $ d556t1      : num  NA NA NA NA NA NA NA NA NA NA ...\n",
      "  ..- attr(*, \"label\")= chr \"(deflactado, anualizado) los Ãºltimos 6 meses, Â¿ recibiÃ³ ud. ingresos por el tota\"\n",
      "  ..- attr(*, \"format.stata\")= chr \"%12.0g\"\n",
      " $ d556t2      : num  NA NA NA NA NA NA NA NA NA NA ...\n",
      "  ..- attr(*, \"label\")= chr \"(deflactado, anualizado) los Ãºltimos 6 meses, Â¿ recibiÃ³ ud. ingresos por el tota\"\n",
      "  ..- attr(*, \"format.stata\")= chr \"%12.0g\"\n",
      " $ d557t       : num  NA NA NA NA NA NA NA NA NA NA ...\n",
      "  ..- attr(*, \"label\")= chr \"(deflactado, anualizado) los Ãºltimos 12 meses el monto total por rentas de la pr\"\n",
      "  ..- attr(*, \"format.stata\")= chr \"%12.0g\"\n",
      " $ d558t       : num  NA 308 10 NA 20 NA 103 51 NA 62 ...\n",
      "  ..- attr(*, \"label\")= chr \"(deflactado, anualizado) los Ãºltimos 12 meses, el monto total por otros ingresos\"\n",
      "  ..- attr(*, \"format.stata\")= chr \"%12.0g\"\n",
      " $ horas_2     : num  NA 2 NA NA 11 NA NA 10.5 NA 14 ...\n",
      "  ..- attr(*, \"label\")= chr \"(imputado) Â¿ cuÃ¡ntas horas trabajÃ³ la semana pasada en su(s) ocupaciÃ³n(es) secun\"\n",
      "  ..- attr(*, \"format.stata\")= chr \"%9.0g\"\n",
      " $ horas_1     : num  NA 48 21 NA 0 NA 60 21 NA 4 ...\n",
      "  ..- attr(*, \"label\")= chr \"(imputado) total de horas trabajadas la semana pasada en su ocupaciÃ³n principal?\"\n",
      "  ..- attr(*, \"format.stata\")= chr \"%8.0g\"\n",
      " $ i530a       : num  NA NA 36 NA NA ...\n",
      "  ..- attr(*, \"label\")= chr \"(imputado, deflactado, anualizado) en su ocupaciÃ³n principal, Â¿ cuÃ¡l fue la gana\"\n",
      "  ..- attr(*, \"format.stata\")= chr \"%10.0g\"\n",
      " $ i524e1      : num  NA 4778 NA NA 9145 ...\n",
      "  ..- attr(*, \"label\")= chr \"(imputado, deflactado, anualizado) Â¿ingreso lÃ­quido  en la ocupaciÃ³n principal?\"\n",
      "  ..- attr(*, \"format.stata\")= chr \"%10.0g\"\n",
      " $ i538e1      : num  NA NA NA NA NA NA NA NA NA NA ...\n",
      "  ..- attr(*, \"label\")= chr \"(imputado, deflactado, anualizado) Â¿ingreso lÃ­quido en sus ocupaciÃ³nes secundari\"\n",
      "  ..- attr(*, \"format.stata\")= chr \"%9.0g\"\n",
      " $ i541a       : num  NA NA NA NA NA ...\n",
      "  ..- attr(*, \"label\")= chr \"(imputado, deflactado, anualizado) en su(s) ocupaciÃ³n(es) secundaria(s), Â¿ cuÃ¡l \"\n",
      "  ..- attr(*, \"format.stata\")= chr \"%10.0g\"\n",
      " $ ocu500      : 'haven_labelled' num  4 1 1 4 1 4 1 1 4 1 ...\n",
      "  ..- attr(*, \"label\")= chr \"indicador de la pea\"\n",
      "  ..- attr(*, \"format.stata\")= chr \"%8.0g\"\n",
      "  ..- attr(*, \"labels\")= Named num  1 2 3 4\n",
      "  .. ..- attr(*, \"names\")= chr  \"ocupado\" \"desocupado abierto\" \"desocupado oculto\" \"no pea\"\n",
      " $ aniorec     : num  2011 2011 2011 2011 2011 ...\n",
      "  ..- attr(*, \"format.stata\")= chr \"%9.0g\"\n",
      " $ area        : 'haven_labelled' num  1 0 0 0 0 1 1 0 0 0 ...\n",
      "  ..- attr(*, \"label\")= chr \"RECODE of estrato (estrato)\"\n",
      "  ..- attr(*, \"format.stata\")= chr \"%9.0g\"\n",
      "  ..- attr(*, \"labels\")= Named num  0 1\n",
      "  .. ..- attr(*, \"names\")= chr  \"Rural\" \"Urbana\"\n",
      " $ dpto        : 'haven_labelled' num  1 1 1 1 1 1 1 1 1 1 ...\n",
      "  ..- attr(*, \"label\")= chr \"Departamentos\"\n",
      "  ..- attr(*, \"format.stata\")= chr \"%13.0g\"\n",
      "  ..- attr(*, \"labels\")= Named num  1 2 3 4 5 6 8 9 10 11 ...\n",
      "  .. ..- attr(*, \"names\")= chr  \"Amazonas\" \"Ancash\" \"Apurimac\" \"Arequipa\" ...\n",
      " $ dep_1       : num  1 1 1 1 1 1 1 1 1 1 ...\n",
      "  ..- attr(*, \"label\")= chr \"dpto==Amazonas\"\n",
      "  ..- attr(*, \"format.stata\")= chr \"%8.0g\"\n",
      " $ dep_2       : num  0 0 0 0 0 0 0 0 0 0 ...\n",
      "  ..- attr(*, \"label\")= chr \"dpto==Ancash\"\n",
      "  ..- attr(*, \"format.stata\")= chr \"%8.0g\"\n",
      " $ dep_3       : num  0 0 0 0 0 0 0 0 0 0 ...\n",
      "  ..- attr(*, \"label\")= chr \"dpto==Apurimac\"\n",
      "  ..- attr(*, \"format.stata\")= chr \"%8.0g\"\n",
      " $ dep_4       : num  0 0 0 0 0 0 0 0 0 0 ...\n",
      "  ..- attr(*, \"label\")= chr \"dpto==Arequipa\"\n",
      "  ..- attr(*, \"format.stata\")= chr \"%8.0g\"\n",
      " $ dep_5       : num  0 0 0 0 0 0 0 0 0 0 ...\n",
      "  ..- attr(*, \"label\")= chr \"dpto==Ayacucho\"\n",
      "  ..- attr(*, \"format.stata\")= chr \"%8.0g\"\n",
      " $ dep_6       : num  0 0 0 0 0 0 0 0 0 0 ...\n",
      "  ..- attr(*, \"label\")= chr \"dpto==Cajamarca\"\n",
      "  ..- attr(*, \"format.stata\")= chr \"%8.0g\"\n",
      " $ dep_7       : num  0 0 0 0 0 0 0 0 0 0 ...\n",
      "  ..- attr(*, \"label\")= chr \"dpto==Cusco\"\n",
      "  ..- attr(*, \"format.stata\")= chr \"%8.0g\"\n",
      " $ dep_8       : num  0 0 0 0 0 0 0 0 0 0 ...\n",
      "  ..- attr(*, \"label\")= chr \"dpto==Huancavelica\"\n",
      "  ..- attr(*, \"format.stata\")= chr \"%8.0g\"\n",
      " $ dep_9       : num  0 0 0 0 0 0 0 0 0 0 ...\n",
      "  ..- attr(*, \"label\")= chr \"dpto==Huanuco\"\n",
      "  ..- attr(*, \"format.stata\")= chr \"%8.0g\"\n",
      " $ dep_10      : num  0 0 0 0 0 0 0 0 0 0 ...\n",
      "  ..- attr(*, \"label\")= chr \"dpto==Ica\"\n",
      "  ..- attr(*, \"format.stata\")= chr \"%8.0g\"\n",
      " $ dep_11      : num  0 0 0 0 0 0 0 0 0 0 ...\n",
      "  ..- attr(*, \"label\")= chr \"dpto==Junin\"\n",
      "  ..- attr(*, \"format.stata\")= chr \"%8.0g\"\n",
      " $ dep_12      : num  0 0 0 0 0 0 0 0 0 0 ...\n",
      "  ..- attr(*, \"label\")= chr \"dpto==La Libertad\"\n",
      "  ..- attr(*, \"format.stata\")= chr \"%8.0g\"\n",
      " $ dep_13      : num  0 0 0 0 0 0 0 0 0 0 ...\n",
      "  ..- attr(*, \"label\")= chr \"dpto==Lambayeque\"\n",
      "  ..- attr(*, \"format.stata\")= chr \"%8.0g\"\n",
      " $ dep_14      : num  0 0 0 0 0 0 0 0 0 0 ...\n",
      "  ..- attr(*, \"label\")= chr \"dpto==Lima\"\n",
      "  ..- attr(*, \"format.stata\")= chr \"%8.0g\"\n",
      " $ dep_15      : num  0 0 0 0 0 0 0 0 0 0 ...\n",
      "  ..- attr(*, \"label\")= chr \"dpto==Loreto\"\n",
      "  ..- attr(*, \"format.stata\")= chr \"%8.0g\"\n",
      " $ dep_16      : num  0 0 0 0 0 0 0 0 0 0 ...\n",
      "  ..- attr(*, \"label\")= chr \"dpto==Madre de Dios\"\n",
      "  ..- attr(*, \"format.stata\")= chr \"%8.0g\"\n",
      " $ dep_17      : num  0 0 0 0 0 0 0 0 0 0 ...\n",
      "  ..- attr(*, \"label\")= chr \"dpto==Moquegua\"\n",
      "  ..- attr(*, \"format.stata\")= chr \"%8.0g\"\n",
      " $ dep_18      : num  0 0 0 0 0 0 0 0 0 0 ...\n",
      "  ..- attr(*, \"label\")= chr \"dpto==Pasco\"\n",
      "  ..- attr(*, \"format.stata\")= chr \"%8.0g\"\n",
      " $ dep_19      : num  0 0 0 0 0 0 0 0 0 0 ...\n",
      "  ..- attr(*, \"label\")= chr \"dpto==Piura\"\n",
      "  ..- attr(*, \"format.stata\")= chr \"%8.0g\"\n",
      " $ dep_20      : num  0 0 0 0 0 0 0 0 0 0 ...\n",
      "  ..- attr(*, \"label\")= chr \"dpto==Puno\"\n",
      "  ..- attr(*, \"format.stata\")= chr \"%8.0g\"\n",
      " $ dep_21      : num  0 0 0 0 0 0 0 0 0 0 ...\n",
      "  ..- attr(*, \"label\")= chr \"dpto==San Martin\"\n",
      "  ..- attr(*, \"format.stata\")= chr \"%8.0g\"\n",
      " $ dep_22      : num  0 0 0 0 0 0 0 0 0 0 ...\n",
      "  ..- attr(*, \"label\")= chr \"dpto==Tacna\"\n",
      "  ..- attr(*, \"format.stata\")= chr \"%8.0g\"\n",
      " $ dep_23      : num  0 0 0 0 0 0 0 0 0 0 ...\n",
      "  ..- attr(*, \"label\")= chr \"dpto==Tumbes\"\n",
      "  ..- attr(*, \"format.stata\")= chr \"%8.0g\"\n",
      " $ dep_24      : num  0 0 0 0 0 0 0 0 0 0 ...\n",
      "  ..- attr(*, \"label\")= chr \"dpto==Ucayali\"\n",
      "  ..- attr(*, \"format.stata\")= chr \"%8.0g\"\n",
      " $ dominioA    : 'haven_labelled' num  13 14 14 14 14 7 13 14 14 14 ...\n",
      "  ..- attr(*, \"format.stata\")= chr \"%20.0g\"\n",
      "  ..- attr(*, \"labels\")= Named num  1 2 3 4 5 6 7 8 9 10 ...\n",
      "  .. ..- attr(*, \"names\")= chr  \"Costa norte urbana\" \"Costa norte rural\" \"Costa centro urbana\" \"Costa centro rural\" ...\n",
      " $ ld          : num  0.809 0.832 0.832 0.832 0.832 ...\n",
      "  ..- attr(*, \"format.stata\")= chr \"%15.9g\"\n",
      " $ menores_6   : num  0 0 0 0 3 0 1 1 0 1 ...\n",
      "  ..- attr(*, \"label\")= chr \"(sum) menores_6\"\n",
      "  ..- attr(*, \"format.stata\")= chr \"%9.0g\"\n",
      " $ menores_17  : num  1 2 1 2 4 2 0 0 1 2 ...\n",
      "  ..- attr(*, \"label\")= chr \"(sum) menores_17\"\n",
      "  ..- attr(*, \"format.stata\")= chr \"%9.0g\"\n",
      " $ alfa1       : num  1 1 1 1 1 1 1 1 1 1 ...\n",
      "  ..- attr(*, \"label\")= chr \"(max) alfap1\"\n",
      "  ..- attr(*, \"format.stata\")= chr \"%9.0g\"\n",
      " $ alfa2       : num  1 1 1 1 1 1 0 1 1 1 ...\n",
      "  ..- attr(*, \"label\")= chr \"(max) alfap2\"\n",
      "  ..- attr(*, \"format.stata\")= chr \"%9.0g\"\n",
      " $ alfa3       : num  1 1 0 1 1 1 1 1 1 1 ...\n",
      "  ..- attr(*, \"label\")= chr \"(max) alfap3\"\n",
      "  ..- attr(*, \"format.stata\")= chr \"%9.0g\"\n",
      " $ alfa4       : num  0 0 1 1 0 0 1 0 1 0 ...\n",
      "  ..- attr(*, \"label\")= chr \"(max) alfap4\"\n",
      "  ..- attr(*, \"format.stata\")= chr \"%9.0g\"\n",
      " $ alfa5       : num  0 0 0 0 0 0 0 0 0 0 ...\n",
      "  ..- attr(*, \"label\")= chr \"(max) alfap5\"\n",
      "  ..- attr(*, \"format.stata\")= chr \"%9.0g\"\n",
      " $ alfa6       : num  0 0 0 0 0 0 0 0 0 0 ...\n",
      "  ..- attr(*, \"label\")= chr \"(max) alfap6\"\n",
      "  ..- attr(*, \"format.stata\")= chr \"%9.0g\"\n",
      " $ alfa7       : num  0 0 0 0 0 0 0 0 0 0 ...\n",
      "  ..- attr(*, \"label\")= chr \"(max) alfap7\"\n",
      "  ..- attr(*, \"format.stata\")= chr \"%9.0g\"\n",
      " $ tipo_hogar  : 'haven_labelled' num  2 2 4 5 2 2 6 2 5 2 ...\n",
      "  ..- attr(*, \"format.stata\")= chr \"%30.0g\"\n",
      "  ..- attr(*, \"labels\")= Named num  1 2 3 4 5 6 7 8 9 10 ...\n",
      "  .. ..- attr(*, \"names\")= chr  \"Nuclear sin hijos\" \"Nuclear con hijos\" \"Nuclear monoparental\" \"Extenso sin hijos\" ...\n",
      " $ monoparental: num  0 0 0 0 0 0 1 0 0 0 ...\n",
      "  ..- attr(*, \"format.stata\")= chr \"%9.0g\"\n",
      " $ i00         : num  0.813 0.813 0.813 0.813 0.813 ...\n",
      "  ..- attr(*, \"format.stata\")= chr \"%9.0g\"\n",
      " $ i01         : num  0.774 0.774 0.774 0.774 0.774 ...\n",
      "  ..- attr(*, \"format.stata\")= chr \"%9.0g\"\n",
      " $ i02         : num  0.906 0.906 0.906 0.906 0.906 ...\n",
      "  ..- attr(*, \"format.stata\")= chr \"%9.0g\"\n",
      " $ i03         : num  0.8 0.8 0.8 0.8 0.8 ...\n",
      "  ..- attr(*, \"format.stata\")= chr \"%9.0g\"\n",
      " $ i04         : num  0.779 0.779 0.779 0.779 0.779 ...\n",
      "  ..- attr(*, \"format.stata\")= chr \"%9.0g\"\n",
      " $ i05         : num  0.743 0.743 0.743 0.743 0.743 ...\n",
      "  ..- attr(*, \"format.stata\")= chr \"%9.0g\"\n",
      " $ i06         : num  0.915 0.915 0.915 0.915 0.915 ...\n",
      "  ..- attr(*, \"format.stata\")= chr \"%9.0g\"\n",
      " $ i07         : num  0.886 0.886 0.886 0.886 0.886 ...\n",
      "  ..- attr(*, \"format.stata\")= chr \"%9.0g\"\n",
      " $ i08         : num  0.886 0.886 0.886 0.886 0.886 ...\n",
      "  ..- attr(*, \"format.stata\")= chr \"%9.0g\"\n",
      " $ ingreso     : num  0 4778 0 0 9145 ...\n",
      "  ..- attr(*, \"format.stata\")= chr \"%9.0g\"\n",
      " $ ingreso_r   : num  0 7065 0 0 13522 ...\n",
      "  ..- attr(*, \"format.stata\")= chr \"%9.0g\"\n",
      " $ horas       : num  0 50 21 0 11 0 60 31.5 0 18 ...\n",
      "  ..- attr(*, \"format.stata\")= chr \"%9.0g\"\n",
      " $ salario     : num  NA 2.94 NA NA 25.61 ...\n",
      "  ..- attr(*, \"format.stata\")= chr \"%9.0g\"\n",
      " $ l_salario   : num  NA 1.08 NA NA 3.24 ...\n",
      "  ..- attr(*, \"format.stata\")= chr \"%9.0g\"\n",
      " $ n_labor     : num  0 308 10 0 20 0 103 51 0 62 ...\n",
      "  ..- attr(*, \"format.stata\")= chr \"%9.0g\"\n",
      " $ ing_n_labor : num  0 455.4 14.8 0 29.6 ...\n",
      "  ..- attr(*, \"format.stata\")= chr \"%9.0g\"\n",
      " $ l_n_labor   : num  NA 5.73 2.3 NA 3 ...\n",
      "  ..- attr(*, \"format.stata\")= chr \"%9.0g\"\n",
      " $ acumulado   : num  6 6 6 6 6 11 6 6 6 6 ...\n",
      "  ..- attr(*, \"label\")= chr \"RECODE of educ (nivel educativo que aprobÃ³)\"\n",
      "  ..- attr(*, \"format.stata\")= chr \"%9.0g\"\n",
      " $ estud       : num  5 5 5 5 5 2 5 5 5 5 ...\n",
      "  ..- attr(*, \"format.stata\")= chr \"%9.0g\"\n",
      " $ educa       : num  11 11 11 11 11 13 11 11 11 11 ...\n",
      "  ..- attr(*, \"format.stata\")= chr \"%9.0g\"\n",
      " $ d_edu       : 'haven_labelled' num  1 1 1 1 1 4 1 1 1 1 ...\n",
      "  ..- attr(*, \"label\")= chr \"RECODE of educ (nivel educativo que aprobÃ³)\"\n",
      "  ..- attr(*, \"format.stata\")= chr \"%27.0g\"\n",
      "  ..- attr(*, \"labels\")= Named num  1 2 3 4 5 6\n",
      "  .. ..- attr(*, \"names\")= chr  \"Secundaria completa\" \"No universitaria incompleta\" \"No universitaria completa\" \"Universitaria incompleta\" ...\n",
      "  [list output truncated]\n"
     ]
    }
   ],
   "source": [
    "str(enaho)"
   ]
  },
  {
   "cell_type": "code",
   "execution_count": 6,
   "id": "361b48ac",
   "metadata": {},
   "outputs": [
    {
     "data": {
      "text/html": [
       "<table>\n",
       "<thead><tr><th scope=col>empresa</th></tr></thead>\n",
       "<tbody>\n",
       "\t<tr><td>NA</td></tr>\n",
       "\t<tr><td> 1</td></tr>\n",
       "\t<tr><td> 4</td></tr>\n",
       "\t<tr><td> 2</td></tr>\n",
       "\t<tr><td> 3</td></tr>\n",
       "</tbody>\n",
       "</table>\n"
      ],
      "text/latex": [
       "\\begin{tabular}{r|l}\n",
       " empresa\\\\\n",
       "\\hline\n",
       "\t NA\\\\\n",
       "\t  1\\\\\n",
       "\t  4\\\\\n",
       "\t  2\\\\\n",
       "\t  3\\\\\n",
       "\\end{tabular}\n"
      ],
      "text/markdown": [
       "\n",
       "| empresa |\n",
       "|---|\n",
       "| NA |\n",
       "|  1 |\n",
       "|  4 |\n",
       "|  2 |\n",
       "|  3 |\n",
       "\n"
      ],
      "text/plain": [
       "  empresa\n",
       "1 NA     \n",
       "2  1     \n",
       "3  4     \n",
       "4  2     \n",
       "5  3     "
      ]
     },
     "metadata": {},
     "output_type": "display_data"
    }
   ],
   "source": [
    "unique(enaho[\"empresa\"])"
   ]
  },
  {
   "cell_type": "code",
   "execution_count": 7,
   "id": "556242fa",
   "metadata": {},
   "outputs": [],
   "source": [
    "enaho <- enaho %>% mutate(empresa = case_when(empresa == 1 ~ \"Microempresa\",\n",
    "                                          empresa == 2 ~ \"Pequeña empresa\", empresa == 3 ~ \"Mediana empresa\",\n",
    "                                          empresa == 4 ~ \"Gran empresa\")) %>%\n",
    "                    mutate(area = case_when(area == 0 ~ \"Rural\",\n",
    "                                          area == 1 ~ \"Urbano\"))\n",
    "\n",
    "# tydeverse : dplyr , ggplot2, tdyr"
   ]
  },
  {
   "cell_type": "code",
   "execution_count": 8,
   "id": "b1df9db8",
   "metadata": {},
   "outputs": [
    {
     "data": {
      "text/html": [
       "<table>\n",
       "<thead><tr><th scope=col>empresa</th></tr></thead>\n",
       "<tbody>\n",
       "\t<tr><td>NA             </td></tr>\n",
       "\t<tr><td>Microempresa   </td></tr>\n",
       "\t<tr><td>Gran empresa   </td></tr>\n",
       "\t<tr><td>Pequeña empresa</td></tr>\n",
       "\t<tr><td>Mediana empresa</td></tr>\n",
       "</tbody>\n",
       "</table>\n"
      ],
      "text/latex": [
       "\\begin{tabular}{r|l}\n",
       " empresa\\\\\n",
       "\\hline\n",
       "\t NA             \\\\\n",
       "\t Microempresa   \\\\\n",
       "\t Gran empresa   \\\\\n",
       "\t Pequeña empresa\\\\\n",
       "\t Mediana empresa\\\\\n",
       "\\end{tabular}\n"
      ],
      "text/markdown": [
       "\n",
       "| empresa |\n",
       "|---|\n",
       "| NA              |\n",
       "| Microempresa    |\n",
       "| Gran empresa    |\n",
       "| Pequeña empresa |\n",
       "| Mediana empresa |\n",
       "\n"
      ],
      "text/plain": [
       "  empresa        \n",
       "1 NA             \n",
       "2 Microempresa   \n",
       "3 Gran empresa   \n",
       "4 Pequeña empresa\n",
       "5 Mediana empresa"
      ]
     },
     "metadata": {},
     "output_type": "display_data"
    }
   ],
   "source": [
    "unique(enaho[\"empresa\"])"
   ]
  },
  {
   "cell_type": "code",
   "execution_count": 9,
   "id": "5acc6be6",
   "metadata": {},
   "outputs": [],
   "source": [
    "enaho$year <- as.numeric(year)"
   ]
  },
  {
   "cell_type": "code",
   "execution_count": 10,
   "id": "f5932279",
   "metadata": {},
   "outputs": [
    {
     "data": {
      "text/html": [
       "<table>\n",
       "<thead><tr><th scope=col>year</th></tr></thead>\n",
       "<tbody>\n",
       "\t<tr><td>2011</td></tr>\n",
       "\t<tr><td>2012</td></tr>\n",
       "\t<tr><td>2013</td></tr>\n",
       "\t<tr><td>2014</td></tr>\n",
       "\t<tr><td>2015</td></tr>\n",
       "\t<tr><td>2016</td></tr>\n",
       "\t<tr><td>2017</td></tr>\n",
       "\t<tr><td>2018</td></tr>\n",
       "\t<tr><td>2019</td></tr>\n",
       "</tbody>\n",
       "</table>\n"
      ],
      "text/latex": [
       "\\begin{tabular}{r|l}\n",
       " year\\\\\n",
       "\\hline\n",
       "\t 2011\\\\\n",
       "\t 2012\\\\\n",
       "\t 2013\\\\\n",
       "\t 2014\\\\\n",
       "\t 2015\\\\\n",
       "\t 2016\\\\\n",
       "\t 2017\\\\\n",
       "\t 2018\\\\\n",
       "\t 2019\\\\\n",
       "\\end{tabular}\n"
      ],
      "text/markdown": [
       "\n",
       "| year |\n",
       "|---|\n",
       "| 2011 |\n",
       "| 2012 |\n",
       "| 2013 |\n",
       "| 2014 |\n",
       "| 2015 |\n",
       "| 2016 |\n",
       "| 2017 |\n",
       "| 2018 |\n",
       "| 2019 |\n",
       "\n"
      ],
      "text/plain": [
       "  year\n",
       "1 2011\n",
       "2 2012\n",
       "3 2013\n",
       "4 2014\n",
       "5 2015\n",
       "6 2016\n",
       "7 2017\n",
       "8 2018\n",
       "9 2019"
      ]
     },
     "metadata": {},
     "output_type": "display_data"
    }
   ],
   "source": [
    "unique(enaho[\"year\"])"
   ]
  },
  {
   "cell_type": "markdown",
   "id": "a96fd685",
   "metadata": {},
   "source": [
    "### Number of companies classification by number of workers hired\n",
    "Microbusinesses < 10 workers ;\n",
    "Small businesses (10-20 workers);\n",
    "Medium businesses (21-100 workers);\n",
    "Big Businesses (>100 workers)"
   ]
  },
  {
   "cell_type": "code",
   "execution_count": 11,
   "id": "d2fcb97d",
   "metadata": {},
   "outputs": [
    {
     "name": "stderr",
     "output_type": "stream",
     "text": [
      "Registered S3 method overwritten by 'rvest':\n",
      "  method            from\n",
      "  read_xml.response xml2\n",
      "-- Attaching packages --------------------------------------- tidyverse 1.2.1 --\n",
      "v tibble  2.1.1     v purrr   0.3.4\n",
      "v readr   1.3.1     v stringr 1.4.0\n",
      "v tibble  2.1.1     v forcats 0.5.1\n",
      "Warning message:\n",
      "\"package 'purrr' was built under R version 3.6.3\"Warning message:\n",
      "\"package 'stringr' was built under R version 3.6.3\"Warning message:\n",
      "\"package 'forcats' was built under R version 3.6.3\"-- Conflicts ------------------------------------------ tidyverse_conflicts() --\n",
      "x dplyr::filter() masks stats::filter()\n",
      "x dplyr::lag()    masks stats::lag()\n"
     ]
    }
   ],
   "source": [
    "library(tidyverse)  # include ggplot2, dply, tidyr , readr more packages"
   ]
  },
  {
   "cell_type": "code",
   "execution_count": 12,
   "id": "c0ff74ef",
   "metadata": {},
   "outputs": [
    {
     "data": {
      "image/png": "[encoded data removed]",
      "text/plain": [
       "plot without title"
      ]
     },
     "metadata": {},
     "output_type": "display_data"
    }
   ],
   "source": [
    "theme_set(theme_bw())\n",
    "enaho %>% filter(year == 2019 & ! is.na(empresa)) %>%\n",
    " ggplot(aes(x= empresa)) + geom_bar()"
   ]
  },
  {
   "cell_type": "code",
   "execution_count": 13,
   "id": "6f9ef0e0",
   "metadata": {},
   "outputs": [
    {
     "data": {
      "image/png": "[encoded data removed]",
      "text/plain": [
       "plot without title"
      ]
     },
     "metadata": {},
     "output_type": "display_data"
    }
   ],
   "source": [
    "theme_set(theme_classic())\n",
    "\n",
    "enaho %>% filter(year == 2019 & ! is.na(empresa)) %>%\n",
    " ggplot(aes(x= empresa)) + geom_bar()"
   ]
  },
  {
   "cell_type": "code",
   "execution_count": 14,
   "id": "a18798ef",
   "metadata": {},
   "outputs": [
    {
     "data": {
      "image/png": "[encoded data removed]",
      "text/plain": [
       "plot without title"
      ]
     },
     "metadata": {},
     "output_type": "display_data"
    }
   ],
   "source": [
    "theme_set(theme_bw())\n",
    "\n",
    "enaho %>% filter(year == 2019 & ! is.na(empresa)) %>%\n",
    "    ggplot(aes(x= reorder(empresa, empresa, function(x) length(x)) )) + geom_bar() + \n",
    "                          labs(x = \"Clasificación de Empresa\", y = \" \", title = \"Bar plot - size business\") +\n",
    "     theme(axis.text.x = element_text(angle = 90, hjust = 1))\n",
    "\n",
    "#no considero missing values, porque si lo consideraria habria una barra de missing values \n",
    "#ordeno e menor a mayor y pon un titulo y cambia el sentido"
   ]
  },
  {
   "cell_type": "code",
   "execution_count": 15,
   "id": "2b071d57",
   "metadata": {},
   "outputs": [
    {
     "data": {
      "image/png": "[encoded data removed]",
      "text/plain": [
       "plot without title"
      ]
     },
     "metadata": {},
     "output_type": "display_data"
    }
   ],
   "source": [
    "theme_set(theme_bw(15))  # change letter's size \n",
    "\n",
    "enaho %>% filter(year == 2019 & ! is.na(empresa)) %>%\n",
    "    ggplot(aes(x= reorder(empresa, empresa, function(x) -length(x)) )) + geom_bar(width=0.7) + labs(x = \"Clasificación de Empresa\", y = \" \") +\n",
    "     theme(axis.text.x = element_text(angle = 90, hjust = 1))\n",
    "                          \n",
    " #se pone de mayor a menor: colar - adelante del lenght"
   ]
  },
  {
   "cell_type": "code",
   "execution_count": 16,
   "id": "b24f8a66",
   "metadata": {},
   "outputs": [
    {
     "data": {
      "image/png": "[encoded data removed]",
      "text/plain": [
       "plot without title"
      ]
     },
     "metadata": {},
     "output_type": "display_data"
    }
   ],
   "source": [
    "theme_set(theme_bw(15))\n",
    "\n",
    "\n",
    "enaho %>% filter(year == 2019 & ! is.na(empresa)) %>% \n",
    "    ggplot(aes(x= reorder(empresa, empresa, function(x) -length(x)) )) + geom_bar(width=0.7) + labs(x = \"Clasificación de Empresa\", y = \" \") "
   ]
  },
  {
   "cell_type": "code",
   "execution_count": 17,
   "id": "25ae03e3",
   "metadata": {},
   "outputs": [
    {
     "data": {
      "text/html": [
       "<table>\n",
       "<thead><tr><th scope=col>empresa</th><th scope=col>total</th></tr></thead>\n",
       "<tbody>\n",
       "\t<tr><td>Gran empresa   </td><td>3227           </td></tr>\n",
       "\t<tr><td>Mediana empresa</td><td>1145           </td></tr>\n",
       "\t<tr><td>Microempresa   </td><td>6798           </td></tr>\n",
       "\t<tr><td>Pequeña empresa</td><td>1026           </td></tr>\n",
       "</tbody>\n",
       "</table>\n"
      ],
      "text/latex": [
       "\\begin{tabular}{r|ll}\n",
       " empresa & total\\\\\n",
       "\\hline\n",
       "\t Gran empresa    & 3227           \\\\\n",
       "\t Mediana empresa & 1145           \\\\\n",
       "\t Microempresa    & 6798           \\\\\n",
       "\t Pequeña empresa & 1026           \\\\\n",
       "\\end{tabular}\n"
      ],
      "text/markdown": [
       "\n",
       "| empresa | total |\n",
       "|---|---|\n",
       "| Gran empresa    | 3227            |\n",
       "| Mediana empresa | 1145            |\n",
       "| Microempresa    | 6798            |\n",
       "| Pequeña empresa | 1026            |\n",
       "\n"
      ],
      "text/plain": [
       "  empresa         total\n",
       "1 Gran empresa    3227 \n",
       "2 Mediana empresa 1145 \n",
       "3 Microempresa    6798 \n",
       "4 Pequeña empresa 1026 "
      ]
     },
     "metadata": {},
     "output_type": "display_data"
    }
   ],
   "source": [
    "enaho %>%  filter(year == 2019 & ! is.na(empresa)) %>% group_by(empresa) %>%\n",
    "        summarise(total = n())"
   ]
  },
  {
   "cell_type": "code",
   "execution_count": 18,
   "id": "ca523677",
   "metadata": {},
   "outputs": [
    {
     "data": {
      "image/png": "[encoded data removed]",
      "text/plain": [
       "plot without title"
      ]
     },
     "metadata": {},
     "output_type": "display_data"
    }
   ],
   "source": [
    "theme_set(theme_bw(15))\n",
    "\n",
    "enaho %>%  filter(year == 2019 & ! is.na(empresa)) %>% group_by(empresa) %>%\n",
    "        summarise(total = n())  %>%\n",
    "    ggplot() + geom_col(aes(x = total, y= empresa), width = 0.5)  + labs(x = \" \", y = \" \")"
   ]
  },
  {
   "cell_type": "code",
   "execution_count": 19,
   "id": "a69fad10",
   "metadata": {},
   "outputs": [
    {
     "name": "stderr",
     "output_type": "stream",
     "text": [
      "ERROR while rich displaying an object: Error: stat_count() must not be used with a y aesthetic.\n",
      "\n",
      "Traceback:\n",
      "1. tryCatch(withCallingHandlers({\n",
      " .     if (!mime %in% names(repr::mime2repr)) \n",
      " .         stop(\"No repr_* for mimetype \", mime, \" in repr::mime2repr\")\n",
      " .     rpr <- repr::mime2repr[[mime]](obj)\n",
      " .     if (is.null(rpr)) \n",
      " .         return(NULL)\n",
      " .     prepare_content(is.raw(rpr), rpr)\n",
      " . }, error = error_handler), error = outer_handler)\n",
      "2. tryCatchList(expr, classes, parentenv, handlers)\n",
      "3. tryCatchOne(expr, names, parentenv, handlers[[1L]])\n",
      "4. doTryCatch(return(expr), name, parentenv, handler)\n",
      "5. withCallingHandlers({\n",
      " .     if (!mime %in% names(repr::mime2repr)) \n",
      " .         stop(\"No repr_* for mimetype \", mime, \" in repr::mime2repr\")\n",
      " .     rpr <- repr::mime2repr[[mime]](obj)\n",
      " .     if (is.null(rpr)) \n",
      " .         return(NULL)\n",
      " .     prepare_content(is.raw(rpr), rpr)\n",
      " . }, error = error_handler)\n",
      "6. repr::mime2repr[[mime]](obj)\n",
      "7. repr_text.default(obj)\n",
      "8. paste(capture.output(print(obj)), collapse = \"\\n\")\n",
      "9. capture.output(print(obj))\n",
      "10. evalVis(expr)\n",
      "11. withVisible(eval(expr, pf))\n",
      "12. eval(expr, pf)\n",
      "13. eval(expr, pf)\n",
      "14. print(obj)\n",
      "15. print.ggplot(obj)\n",
      "16. ggplot_build(x)\n",
      "17. ggplot_build.ggplot(x)\n",
      "18. by_layer(function(l, d) l$compute_statistic(d, layout))\n",
      "19. f(l = layers[[i]], d = data[[i]])\n",
      "20. l$compute_statistic(d, layout)\n",
      "21. f(..., self = self)\n",
      "22. self$stat$setup_params(data, self$stat_params)\n",
      "23. f(...)\n",
      "24. stop(\"stat_count() must not be used with a y aesthetic.\", call. = FALSE)\n"
     ]
    },
    {
     "data": {
      "image/png": "[encoded data removed]",
      "text/plain": [
       "plot without title"
      ]
     },
     "metadata": {},
     "output_type": "display_data"
    }
   ],
   "source": [
    "theme_set(theme_bw(15))\n",
    "\n",
    "enaho %>%  filter(year == 2019 & ! is.na(empresa)) %>%\n",
    "    ggplot() + geom_bar(aes(y= reorder(empresa, empresa, function(x) -length(x)) ), width = 0.5)  + labs(x = \" \", y = \" \")"
   ]
  },
  {
   "cell_type": "code",
   "execution_count": 22,
   "id": "0466ea32",
   "metadata": {
    "scrolled": false
   },
   "outputs": [
    {
     "data": {
      "image/png": "[encoded data removed]",
      "text/plain": [
       "plot without title"
      ]
     },
     "metadata": {},
     "output_type": "display_data"
    }
   ],
   "source": [
    "# Bar size \n",
    "\n",
    "theme_set(theme_bw(20))\n",
    "\n",
    "enaho %>%  filter(year == 2019 & ! is.na(empresa))  %>%\n",
    "    ggplot(aes(x= reorder(empresa, empresa, function(x) -length(x)) )) +\n",
    "    geom_bar( width=0.5 , fill=\"steelblue\") + labs(x = \"Tipo de Empresa\", y = \" \", title = \"Cantidad de empresas según clasificación\") + \n",
    "    theme(axis.title = element_text(size = 15, color = \"black\", face = \"italic\")) +   # change text format axis: titulo de ejes\n",
    "    theme(text=element_text(size =12), plot.title = element_text(hjust = 0.5))   # centrar el titulo: 0 a la izquierda, 1 a la derecha\n",
    "    \n",
    "                          \n",
    "    ggsave(\"../../data/imagen1.png\", width = 10, height = 10, dpi = 200)  # guardar la imagen en la pc: dpi = resolution, \n",
    "\n",
    "#de mayor a menor\n",
    "#el titulo de eje, se le puede cambiar el tamaño y la fuente"
   ]
  },
  {
   "cell_type": "code",
   "execution_count": 23,
   "id": "87cff524",
   "metadata": {},
   "outputs": [
    {
     "data": {
      "image/png": "[encoded data removed]",
      "text/plain": [
       "plot without title"
      ]
     },
     "metadata": {},
     "output_type": "display_data"
    }
   ],
   "source": [
    "theme_set(theme_bw(20))\n",
    "\n",
    "enaho %>%  filter(year == 2019 & ! is.na(empresa))  %>%\n",
    "    ggplot(aes(x= reorder(empresa, empresa, function(x) -length(x)) )) +\n",
    "    geom_bar( width=0.5 , fill=\"steelblue\") + labs(x = \"Tipo de Empresa\", y = \" \", title = \"Cantidad de empresas según clasificación\") + \n",
    "    theme(axis.title = element_text(size = 15, color = \"blue\", face = \"italic\")) + \n",
    "    theme(text=element_text(size =12), plot.title = element_text(hjust = 0.5)) +\n",
    "      geom_text(aes(x= empresa,label=..count..), stat='count', color=\"black\", hjust = 0.5, vjust = -0.5 ) #agregar el count (las cantidades)\n",
    "                          \n",
    "#quiero colocar numeros en el grafico"
   ]
  },
  {
   "cell_type": "code",
   "execution_count": 30,
   "id": "d8804ef7",
   "metadata": {},
   "outputs": [
    {
     "data": {
      "image/png": "[encoded data removed]",
      "text/plain": [
       "plot without title"
      ]
     },
     "metadata": {},
     "output_type": "display_data"
    }
   ],
   "source": [
    "theme_set(theme_bw(20))\n",
    "\n",
    "enaho %>%  filter(year > 2016 & ! is.na(empresa))  %>%\n",
    "    ggplot(aes(x= empresa, fill = year)) +\n",
    "    geom_bar(width=0.5, colour=\"black\", position=\"dodge\") + labs(x = \"Tipo de Empresa\", y = \" \", title = \"Cantidad de empresas según clasificación\") + \n",
    "    theme(axis.title = element_text(size = 15, color = \"blue\", face = \"italic\")) + \n",
    "    theme(text=element_text(size =12), plot.title = element_text(hjust = 0.5))\n",
    "\n",
    "#en fill year me va a clasificar por años\n",
    "#debe ponerse position=\"dodge\" para tener columnas separadas"
   ]
  },
  {
   "cell_type": "code",
   "execution_count": 26,
   "id": "5ee5e64e",
   "metadata": {},
   "outputs": [
    {
     "data": {
      "image/png": "[encoded data removed]",
      "text/plain": [
       "plot without title"
      ]
     },
     "metadata": {},
     "output_type": "display_data"
    }
   ],
   "source": [
    "\n",
    "theme_set(theme_bw(20))\n",
    "\n",
    "enaho %>%  filter(year > 2016 & ! is.na(empresa))  %>%\n",
    "    ggplot() +\n",
    "    geom_bar(aes(x= empresa), width=0.5 , fill=\"steelblue\", color=\"black\") +\n",
    "    facet_wrap(~area) + # get two plots: para que clasifique rural y urbana \n",
    "    labs(x = \"Tipo de Empresa\", y = \" \", title = \"Cantidad de empresas según clasificación\") + \n",
    "    theme(axis.title = element_text(size = 15, color = \"blue\", face = \"italic\")) + \n",
    "    theme(text=element_text(size =12), plot.title = element_text(hjust = 0.5))\n",
    "\n",
    "#cuando fill esta fuera de aes: me va a colorear las barras; color=black, son los bordes en negro"
   ]
  },
  {
   "cell_type": "code",
   "execution_count": 31,
   "id": "aef58e4c",
   "metadata": {},
   "outputs": [
    {
     "data": {
      "image/png": "[encoded data removed]",
      "text/plain": [
       "plot without title"
      ]
     },
     "metadata": {},
     "output_type": "display_data"
    }
   ],
   "source": [
    "enaho %>%  filter(year > 2016 & ! is.na(empresa))  %>%\n",
    "    ggplot() +\n",
    "    geom_bar(aes(x= empresa, fill = area), width=0.5, colour=\"black\") +\n",
    "    labs(x = \"Tipo de Empresa\", y = \" \", title = \"Cantidad de empresas según clasificación\") + \n",
    "    theme(axis.title = element_text(size = 15, color = \"blue\", face = \"italic\")) + \n",
    "    theme(text=element_text(size =12), plot.title = element_text(hjust = 0.5))\n",
    "\n",
    "#se llama stackear"
   ]
  },
  {
   "cell_type": "markdown",
   "id": "0b3399f0",
   "metadata": {},
   "source": [
    "## 2. Proportions\n",
    "\n",
    "Understandable plots to show categorical variables. Use this plots to explain participations from categories. "
   ]
  },
  {
   "cell_type": "code",
   "execution_count": 32,
   "id": "5b7aa31e",
   "metadata": {},
   "outputs": [
    {
     "data": {
      "text/html": [
       "<table>\n",
       "<thead><tr><th scope=col>empresa</th><th scope=col>total_por_tipo</th><th scope=col>percent</th></tr></thead>\n",
       "<tbody>\n",
       "\t<tr><td>Gran empresa   </td><td>3227           </td><td>26.5           </td></tr>\n",
       "\t<tr><td>Mediana empresa</td><td>1145           </td><td> 9.4           </td></tr>\n",
       "\t<tr><td>Microempresa   </td><td>6798           </td><td>55.7           </td></tr>\n",
       "\t<tr><td>Pequeña empresa</td><td>1026           </td><td> 8.4           </td></tr>\n",
       "</tbody>\n",
       "</table>\n"
      ],
      "text/latex": [
       "\\begin{tabular}{r|lll}\n",
       " empresa & total\\_por\\_tipo & percent\\\\\n",
       "\\hline\n",
       "\t Gran empresa    & 3227            & 26.5           \\\\\n",
       "\t Mediana empresa & 1145            &  9.4           \\\\\n",
       "\t Microempresa    & 6798            & 55.7           \\\\\n",
       "\t Pequeña empresa & 1026            &  8.4           \\\\\n",
       "\\end{tabular}\n"
      ],
      "text/markdown": [
       "\n",
       "| empresa | total_por_tipo | percent |\n",
       "|---|---|---|\n",
       "| Gran empresa    | 3227            | 26.5            |\n",
       "| Mediana empresa | 1145            |  9.4            |\n",
       "| Microempresa    | 6798            | 55.7            |\n",
       "| Pequeña empresa | 1026            |  8.4            |\n",
       "\n"
      ],
      "text/plain": [
       "  empresa         total_por_tipo percent\n",
       "1 Gran empresa    3227           26.5   \n",
       "2 Mediana empresa 1145            9.4   \n",
       "3 Microempresa    6798           55.7   \n",
       "4 Pequeña empresa 1026            8.4   "
      ]
     },
     "metadata": {},
     "output_type": "display_data"
    }
   ],
   "source": [
    "enaho %>%  filter(year == 2019 & ! is.na(empresa))  %>%  group_by(empresa) %>% \n",
    "    summarise(total_por_tipo = n())  %>%  mutate(percent = round(total_por_tipo/sum(total_por_tipo)*100,1)) \n",
    "\n",
    "#mutate para crear una nueva variable, redondear a un decimal"
   ]
  },
  {
   "cell_type": "code",
   "execution_count": 546,
   "id": "75325125",
   "metadata": {},
   "outputs": [
    {
     "data": {
      "image/png": "[encoded data removed]",
      "text/plain": [
       "plot without title"
      ]
     },
     "metadata": {
      "image/png": {
       "height": 420,
       "width": 420
      }
     },
     "output_type": "display_data"
    }
   ],
   "source": [
    "enaho %>%  filter(year == 2019 & ! is.na(empresa))  %>%  group_by(empresa) %>% \n",
    "    summarise(total_por_tipo = n())  %>%  mutate(percent = round(total_por_tipo/sum(total_por_tipo)*100,1))   %>% \n",
    "    ggplot(aes(x=\"\", y=percent, fill=empresa)) +\n",
    "  geom_bar(stat=\"identity\", width=1) +\n",
    "  coord_polar(\"y\", start=0) +\n",
    "  geom_text(aes(label = paste0(percent, \"%\")), position = position_stack(vjust=0.5)) +\n",
    "  labs(x = NULL, y = NULL) +\n",
    "  theme_classic() +\n",
    "labs( title = \"Cantidad de empresas según clasificación\") +\n",
    "  theme(axis.line = element_blank(),\n",
    "          axis.text = element_blank(),\n",
    "          axis.ticks = element_blank(), text=element_text(size =12), plot.title = element_text(hjust = 0.5)) +\n",
    "  scale_fill_brewer(palette=\"Reds\")\n",
    "\n",
    "#yo solo quiero que me aparezca el porcentaje, por eso en y van a estar los porcentajes, en x nada.\n",
    "#fill cuando esta dentro de aes me va a grupar: va a haber categorias\n",
    "#Ajusto el geo,bar para sacar el grafico: adaptar para que salga pyplot\n",
    "#agrego coord_polar, porque si no lo agrego me saldrian barras apiladas: adaptar para que salga pyplot (en circunferencia); start=0: el origen será 0 para que salga del medio (como el radio)\n",
    "#agregar texto: label:paste (agregar el %)\n",
    "#posicion: quiero que este centrado\n",
    "#Null: no quiero que me aparezcan ningun label en los ejes\n",
    "#agregar el theme_classic: me retira el cuadrado de encuadre\n",
    "#axis.line = element_blank(),\n",
    "          ##axis.text = element_blank(),\n",
    "          ##axis.ticks = element_blank(): en los ejes blancos para no tener lineas de encuadre restantes\n",
    "#scale_fill_brewer(palette=\"Reds\"): para poner paletas de rojos desde el mas intenso al mas suave"
   ]
  },
  {
   "cell_type": "markdown",
   "id": "09b82fcc",
   "metadata": {},
   "source": [
    "## 3. Distributions"
   ]
  },
  {
   "cell_type": "code",
   "execution_count": 33,
   "id": "044df88b",
   "metadata": {},
   "outputs": [
    {
     "data": {
      "image/png": "[encoded data removed]",
      "text/plain": [
       "plot without title"
      ]
     },
     "metadata": {},
     "output_type": "display_data"
    }
   ],
   "source": [
    "enaho %>%  filter(year == 2019 & !is.na(l_salario) ) %>%\n",
    "  ggplot() + geom_histogram(aes(x=l_salario), bins = 30) +\n",
    "    labs(x = \" \", y = \"Absolute frequency\", title = \"Log real - wage\") + \n",
    "    theme(text=element_text(size =12), plot.title = element_text(hjust = 0.5)) \n",
    "\n",
    "#eje x va a estar en el ln del salario\n",
    "#bin= quiero que me saques 30 barritas: dividio toda la muestra en 30"
   ]
  },
  {
   "cell_type": "code",
   "execution_count": 34,
   "id": "99b3fe48",
   "metadata": {},
   "outputs": [
    {
     "data": {
      "image/png": "[encoded data removed]",
      "text/plain": [
       "plot without title"
      ]
     },
     "metadata": {},
     "output_type": "display_data"
    }
   ],
   "source": [
    "theme_set(theme_classic() + theme(legend.position = \"top\"))\n",
    "\n",
    "enaho %>%  filter(year == 2019 & !is.na(l_salario) ) %>%\n",
    "  ggplot() + geom_histogram(aes(x=l_salario), bins = 30, color = \"black\", fill = \"steelblue\") +\n",
    "    labs(x = \" \", y = \"Absolute frequency\", title = \"Log real - wage\") + \n",
    "    theme(text=element_text(size =12), plot.title = element_text(hjust = 0.5))  +\n",
    "      geom_vline(aes(xintercept = mean(l_salario)), \n",
    "             linetype = \"dashed\", size =2 , color = \"red\")\n",
    "\n",
    "#lo mismo de arriba, pero se le cambia de color, se le agrega los bordes negros\n",
    "#se le agrega la media de todos los valores: que tenga una linea vertical en la media (vline), con fomato dashline (punteada); en el intercepto x\n",
    "#este es un histograma de frecuencias absolutas: el tamaño de cada barra es una contabilidad"
   ]
  },
  {
   "cell_type": "code",
   "execution_count": 35,
   "id": "cfeba944",
   "metadata": {},
   "outputs": [
    {
     "data": {
      "image/png": "[encoded data removed]",
      "text/plain": [
       "plot without title"
      ]
     },
     "metadata": {},
     "output_type": "display_data"
    }
   ],
   "source": [
    "# relative histogram \n",
    "\n",
    "theme_set(theme_classic() + theme(legend.position = \"top\"))\n",
    "\n",
    "enaho %>%  filter(year == 2019 & !is.na(l_salario) ) %>%\n",
    "  ggplot() + geom_histogram(aes(x=l_salario, y = ..density..), bins = 30, color = \"black\", fill = \"steelblue\") +\n",
    "    labs(x = \" \", y = \" \", title = \"Log real - wage (Density)\") + \n",
    "    theme(text=element_text(size =12), plot.title = element_text(hjust = 0.5))  +\n",
    "      geom_vline(aes(xintercept = mean(l_salario)), \n",
    "             linetype = \"dashed\", , color = \"red\")\n",
    "\n",
    "#frecuencia relativa: esta en porcentajes: se pone (Y:density: para que salga frecuencia relativa)"
   ]
  },
  {
   "cell_type": "code",
   "execution_count": 36,
   "id": "641b8175",
   "metadata": {},
   "outputs": [
    {
     "name": "stderr",
     "output_type": "stream",
     "text": [
      "`stat_bin()` using `bins = 30`. Pick better value with `binwidth`.\n"
     ]
    },
    {
     "data": {
      "image/png": "[encoded data removed]",
      "text/plain": [
       "plot without title"
      ]
     },
     "metadata": {},
     "output_type": "display_data"
    }
   ],
   "source": [
    "### Multiple histograms\n",
    "theme_set(theme_classic() + theme(legend.position = \"top\"))\n",
    "\n",
    "enaho %>%  filter(year == 2019 & !is.na(l_salario) ) %>%\n",
    " ggplot(aes(x=l_salario)) + geom_histogram(aes(color = empresa, fill = empresa),\n",
    "                         alpha = 0.4, position = \"identity\") +\n",
    "    labs(x = \" \", y = \"Absolute frequency\", title = \"Log real - wage\") + \n",
    "     theme(text=element_text(size =12), plot.title = element_text(hjust = 0.5)) \n",
    "\n",
    "#histogramas de ln de salario por tipo de empresa: fill: empresa (me clasifica por categoria y me grafica de forma conjunta)"
   ]
  },
  {
   "cell_type": "code",
   "execution_count": 37,
   "id": "72ad3a4d",
   "metadata": {},
   "outputs": [
    {
     "data": {
      "image/png": "[encoded data removed]",
      "text/plain": [
       "plot without title"
      ]
     },
     "metadata": {},
     "output_type": "display_data"
    }
   ],
   "source": [
    "theme_set(theme_classic() + theme(legend.position = \"right\"))\n",
    "\n",
    "enaho %>%  filter(year == 2019 & !is.na(l_salario)  & !is.na(empresa) ) %>%\n",
    " ggplot(aes(x=l_salario)) + geom_histogram(aes(fill = empresa), bins = 30, color =\"black\") +\n",
    "    labs(x = \" \", y = \"Absolute frequency\", title = \"Log real - wage\") + \n",
    "     theme(text=element_text(size =12), plot.title = element_text(hjust = 0.5)) +\n",
    "    facet_wrap(~empresa)\n",
    "\n",
    "#separacion por cuadros:facet_wrap(~empresa) \n",
    "#se pone geom_histogram: histograma"
   ]
  },
  {
   "cell_type": "code",
   "execution_count": 38,
   "id": "11f2b060",
   "metadata": {},
   "outputs": [
    {
     "name": "stderr",
     "output_type": "stream",
     "text": [
      "Warning message:\n",
      "\"Ignoring unknown parameters: bins\""
     ]
    },
    {
     "data": {
      "image/png": "[encoded data removed]",
      "text/plain": [
       "plot without title"
      ]
     },
     "metadata": {},
     "output_type": "display_data"
    }
   ],
   "source": [
    "theme_set(theme_classic() + theme(legend.position = \"right\"))\n",
    "\n",
    "enaho %>%  filter(year == 2019 & !is.na(l_salario)  & !is.na(empresa) ) %>%\n",
    " ggplot(aes(x=l_salario)) + geom_density(aes(fill = empresa), bins = 30) +\n",
    "    labs(x = \" \", y = \"Absolute frequency\", title = \"Log real - wage\") + \n",
    "     theme(text=element_text(size =12), plot.title = element_text(hjust = 0.5)) +\n",
    "    facet_wrap(~empresa)\n",
    "#es lo mismo de arriba pero es por densidades, se pone geom_density"
   ]
  },
  {
   "cell_type": "code",
   "execution_count": 39,
   "id": "7a01dd28",
   "metadata": {},
   "outputs": [
    {
     "data": {
      "image/png": "[encoded data removed]",
      "text/plain": [
       "plot without title"
      ]
     },
     "metadata": {},
     "output_type": "display_data"
    }
   ],
   "source": [
    "theme_set(theme_classic() + theme(legend.position = \"bottom\"))\n",
    "\n",
    "enaho %>%  filter(year == 2019 & !is.na(l_salario)  & !is.na(empresa) ) %>%\n",
    " ggplot(aes(x=l_salario)) + geom_histogram(aes(fill = empresa), bins = 30, color =\"black\") +\n",
    "    labs(x = \" \", y = \"Absolute frequency\", title = \"Log real - wage\") + \n",
    "     theme(text=element_text(size =12), plot.title = element_text(hjust = 0.5)) +\n",
    "    facet_wrap(~empresa)\n"
   ]
  },
  {
   "cell_type": "code",
   "execution_count": 40,
   "id": "db6bb29f",
   "metadata": {},
   "outputs": [
    {
     "data": {
      "image/png": "[encoded data removed]",
      "text/plain": [
       "plot without title"
      ]
     },
     "metadata": {},
     "output_type": "display_data"
    }
   ],
   "source": [
    "theme_set(theme_classic()) \n",
    "\n",
    "enaho %>%  filter(year == 2019 & !is.na(l_salario)  & !is.na(empresa) ) %>%\n",
    " ggplot(aes(x=l_salario)) + geom_histogram(aes(fill = empresa), bins = 30, color =\"black\") +\n",
    "    labs(x = \" \", y = \"Absolute frequency\", title = \"Log real - wage\") + \n",
    "     theme(text=element_text(size =12), plot.title = element_text(hjust = 0.5)) +\n",
    "    facet_wrap(~empresa) + theme(legend.position = c(0.55,0.85))"
   ]
  },
  {
   "cell_type": "code",
   "execution_count": 41,
   "id": "1e33456a",
   "metadata": {},
   "outputs": [],
   "source": [
    "    enaho <- enaho %>% mutate(sector = case_when(sector == 1 ~ \"Agricultura y pesca\", sector == 2 ~ \"Minería\",\n",
    "                                          sector == 3 ~ \"Manufactura\", sector == 4 ~ \"Construcción\",\n",
    "                                          sector == 5 ~ \"Comercio\", sector == 6 ~ \"Transporte y comunicaciones\",\n",
    "                                                sector == 7 ~ \"Finanzas y seguros\" , sector == 8 ~ \"Servicios\" ))"
   ]
  },
  {
   "cell_type": "code",
   "execution_count": 42,
   "id": "a94112d3",
   "metadata": {},
   "outputs": [
    {
     "name": "stderr",
     "output_type": "stream",
     "text": [
      "Warning message:\n",
      "\"Removed 345 rows containing non-finite values (stat_density).\"Warning message:\n",
      "\"Removed 345 rows containing non-finite values (stat_density).\""
     ]
    },
    {
     "data": {
      "image/png": "[encoded data removed]",
      "text/plain": [
       "plot without title"
      ]
     },
     "metadata": {},
     "output_type": "display_data"
    }
   ],
   "source": [
    "theme_set(theme_bw(20))\n",
    "\n",
    "enaho %>% filter(year == 2019 & !is.na(sector)) %>% filter(sector %in% c(\"Construcción\",\"Comercio\", \"Minería\"))  %>%\n",
    "ggplot(aes(x=l_salario, fill = sector , colour=sector)) +\n",
    "  geom_density(alpha=0.4, color = \"black\") +\n",
    "ggtitle(\"Log-wage density \") + theme(text=element_text(size =10), plot.title = element_text(hjust = 0.5)) +\n",
    "labs(x = \"\", \n",
    "     y = \"Density\")\n",
    "\n",
    " ggsave(\"imagen1.png\", width = 10, height = 10, dpi = 200)\n",
    "\n",
    "#juntar densidades: fill dentro de aes se categoria, solo para 3 tipos de sectores economicos (se filtra)"
   ]
  },
  {
   "cell_type": "code",
   "execution_count": 43,
   "id": "5f08b8d9",
   "metadata": {},
   "outputs": [],
   "source": [
    "    enaho <- enaho %>% mutate(educ = case_when(educ == 6 ~ \"Secundaria completa\", educ == 7 ~ \"No universitaria incompleta\",\n",
    "                                          educ == 8 ~ \"No universitaria completa\", educ == 9 ~ \"Universitaria incompleta\",\n",
    "                                          educ == 10 ~ \"Universitaria completa\", educ == 11 ~ \"Postgrado\" ))"
   ]
  },
  {
   "cell_type": "code",
   "execution_count": 44,
   "id": "32f3b03f",
   "metadata": {},
   "outputs": [
    {
     "name": "stderr",
     "output_type": "stream",
     "text": [
      "Warning message:\n",
      "\"Removed 8862 rows containing non-finite values (stat_boxplot).\""
     ]
    },
    {
     "data": {
      "image/png": "[encoded data removed]",
      "text/plain": [
       "plot without title"
      ]
     },
     "metadata": {},
     "output_type": "display_data"
    }
   ],
   "source": [
    "  enaho %>% filter(year == 2019 & !is.na(educ))  %>%\n",
    "   ggplot() +  coord_flip()+\n",
    "      geom_boxplot(aes(x=educ, y=l_salario))\n",
    "\n",
    "#se hace un boxplot: se compara los niveles educativos, segun los salarios"
   ]
  },
  {
   "cell_type": "code",
   "execution_count": 45,
   "id": "b652f350",
   "metadata": {},
   "outputs": [
    {
     "name": "stderr",
     "output_type": "stream",
     "text": [
      "Warning message:\n",
      "\"Removed 8862 rows containing non-finite values (stat_boxplot).\""
     ]
    },
    {
     "data": {
      "image/png": "[encoded data removed]",
      "text/plain": [
       "plot without title"
      ]
     },
     "metadata": {},
     "output_type": "display_data"
    }
   ],
   "source": [
    "  enaho %>% filter(year == 2019 & !is.na(educ))  %>%\n",
    "   ggplot() +  coord_flip()+\n",
    "      geom_boxplot(aes(x=educ, y=l_salario), outlier.shape = NA, width = 0.8) + \n",
    "            labs(y = \" \", x = \" \", title = \"Log real - wage and educational attaiment\") \n",
    "\n",
    "#outlier.shape = NA: se quitan los outliers"
   ]
  },
  {
   "cell_type": "markdown",
   "id": "a0215371",
   "metadata": {},
   "source": [
    "## References\n",
    "\n",
    "\n",
    "https://www.cedricscherer.com/2019/08/05/a-ggplot2-tutorial-for-beautiful-plotting-in-r/\n",
    "\n",
    "https://datanalytics.com/libro_r/elementos-de-un-grafico-en-ggplot2.html\n",
    "\n",
    "https://datavizpyr.com/add-percentage-label-on-bars-in-barplot-ggplot2/\n",
    "\n",
    "\n",
    "https://www.learnbyexample.org/r-bar-plot-ggplot2/\n",
    "\n",
    "\n",
    "https://bookdown.org/aschmi11/RESMHandbook/data-visualization-with-ggplot.html"
   ]
  }
 ],
 "metadata": {
  "kernelspec": {
   "display_name": "R",
   "language": "R",
   "name": "ir"
  },
  "language_info": {
   "codemirror_mode": "r",
   "file_extension": ".r",
   "mimetype": "text/x-r-source",
   "name": "R",
   "pygments_lexer": "r",
   "version": "3.6.1"
  }
 },
 "nbformat": 4,
 "nbformat_minor": 5
}
