{
 "cells": [
  {
   "cell_type": "markdown",
   "metadata": {},
   "source": [
    "# Otros tipos de datos\n",
    "\n",
    "A continuación cubriremos tipos adicionales: Tuplas, conjuntos y diccionarios. "
   ]
  },
  {
   "cell_type": "markdown",
   "metadata": {},
   "source": [
    "\n",
    "## Tuplas\n",
    "\n",
    "Las tuplas comparten mucha similaridad con las listas pues pueden almacenar variables de cualquier tipo. Sin embargo, su propiedad más importante es que son **inmutables**, por lo que cuando se crean, no pueden ser cambiadas de ninguna forma. \n",
    "\n",
    "Se crean de dos formas: "
   ]
  },
  {
   "cell_type": "code",
   "execution_count": 1,
   "metadata": {},
   "outputs": [
    {
     "ename": "NameError",
     "evalue": "name 'a' is not defined",
     "output_type": "error",
     "traceback": [
      "\u001b[0;31m---------------------------------------------------------------------------\u001b[0m",
      "\u001b[0;31mNameError\u001b[0m                                 Traceback (most recent call last)",
      "\u001b[0;32m<ipython-input-1-535b6680c5f9>\u001b[0m in \u001b[0;36m<module>\u001b[0;34m\u001b[0m\n\u001b[0;32m----> 1\u001b[0;31m \u001b[0ma\u001b[0m\u001b[0;34m\u001b[0m\u001b[0;34m\u001b[0m\u001b[0m\n\u001b[0m\u001b[1;32m      2\u001b[0m \u001b[0mtupla_a\u001b[0m \u001b[0;34m=\u001b[0m \u001b[0;36m1\u001b[0m\u001b[0;34m,\u001b[0m\u001b[0;36m2\u001b[0m\u001b[0;34m,\u001b[0m\u001b[0;36m3\u001b[0m\u001b[0;34m\u001b[0m\u001b[0;34m\u001b[0m\u001b[0m\n\u001b[1;32m      3\u001b[0m \u001b[0mtype\u001b[0m\u001b[0;34m(\u001b[0m\u001b[0mtupla_a\u001b[0m\u001b[0;34m)\u001b[0m\u001b[0;34m\u001b[0m\u001b[0;34m\u001b[0m\u001b[0m\n",
      "\u001b[0;31mNameError\u001b[0m: name 'a' is not defined"
     ]
    }
   ],
   "source": [
    "tupla_a = 1,2,3\n",
    "type(tupla_a)"
   ]
  },
  {
   "cell_type": "code",
   "execution_count": null,
   "metadata": {},
   "outputs": [],
   "source": [
    "tupla_b = (1,2,3)\n",
    "type(tupla_b)"
   ]
  },
  {
   "cell_type": "code",
   "execution_count": null,
   "metadata": {},
   "outputs": [],
   "source": [
    "tupla_a == tupla_b"
   ]
  },
  {
   "cell_type": "markdown",
   "metadata": {},
   "source": [
    "Sin embargo, la convención es usar los paréntesis para crear las tuplas.  \n",
    "\n",
    "Al ser inmutables, no pueden ser modificadas"
   ]
  },
  {
   "cell_type": "code",
   "execution_count": null,
   "metadata": {},
   "outputs": [],
   "source": [
    "tupla_a.append(1,)"
   ]
  },
  {
   "cell_type": "markdown",
   "metadata": {},
   "source": [
    "Pueden albergar distintos tipos de datos"
   ]
  },
  {
   "cell_type": "code",
   "execution_count": null,
   "metadata": {},
   "outputs": [],
   "source": [
    "tupla_varia = (1, 'b', [1,2,3], False)\n",
    "tupla_varia"
   ]
  },
  {
   "cell_type": "markdown",
   "metadata": {},
   "source": [
    "### Creando una tupla de un solo elemento\n",
    "\n",
    "Vean que cuando hago una tupla de un solo elemento, pasa algo curioso: no lo reconoce como tal. Como hemos visto antes, en la situación en que estamos escribiendo expresiones, los paréntesis significan priorizar el orden de los cálculos. Lo distintivo de la tupla es la coma ``` , ```"
   ]
  },
  {
   "cell_type": "code",
   "execution_count": null,
   "metadata": {},
   "outputs": [],
   "source": [
    "a = (2)\n",
    "type(a)"
   ]
  },
  {
   "cell_type": "code",
   "execution_count": null,
   "metadata": {},
   "outputs": [],
   "source": [
    "a = (2,)\n",
    "type(a)"
   ]
  },
  {
   "cell_type": "code",
   "execution_count": null,
   "metadata": {},
   "outputs": [],
   "source": [
    "a = 2,\n",
    "type(a)"
   ]
  },
  {
   "cell_type": "markdown",
   "metadata": {},
   "source": [
    "### Usando un constructor para la tupla"
   ]
  },
  {
   "cell_type": "code",
   "execution_count": null,
   "metadata": {},
   "outputs": [],
   "source": [
    "lst = [1,2,3,4]\n",
    "tupla_lst = tuple(lst) ## el keyword tuple es el constructor en este caso, y \"construye\" dicho tipo.\n",
    "tupla_lst\n"
   ]
  },
  {
   "cell_type": "code",
   "execution_count": null,
   "metadata": {},
   "outputs": [],
   "source": [
    "tuple(range(1,20,2))"
   ]
  },
  {
   "cell_type": "code",
   "execution_count": null,
   "metadata": {},
   "outputs": [],
   "source": [
    "tuple(\"aquelarre\")"
   ]
  },
  {
   "cell_type": "markdown",
   "metadata": {},
   "source": [
    "### Cuando especificar los paréntesis es necesario. "
   ]
  },
  {
   "cell_type": "code",
   "execution_count": null,
   "metadata": {},
   "outputs": [],
   "source": [
    "ejem_a = [1,2,3,4]\n",
    "ejem_b = [(1,2), (3,4)]"
   ]
  },
  {
   "cell_type": "code",
   "execution_count": null,
   "metadata": {},
   "outputs": [],
   "source": []
  },
  {
   "cell_type": "code",
   "execution_count": null,
   "metadata": {},
   "outputs": [],
   "source": []
  },
  {
   "cell_type": "markdown",
   "metadata": {},
   "source": [
    "### Seleccionar elementos de la tupla\n",
    "\n",
    "La selección de elementos se da de manera similar a la de las listas. "
   ]
  },
  {
   "cell_type": "code",
   "execution_count": null,
   "metadata": {},
   "outputs": [],
   "source": [
    "ejm = tuple(\"ballena_jorobada\")"
   ]
  },
  {
   "cell_type": "code",
   "execution_count": null,
   "metadata": {},
   "outputs": [],
   "source": [
    "print(ejm)"
   ]
  },
  {
   "cell_type": "code",
   "execution_count": null,
   "metadata": {},
   "outputs": [],
   "source": []
  },
  {
   "cell_type": "code",
   "execution_count": null,
   "metadata": {},
   "outputs": [],
   "source": [
    "ejm[::-1]"
   ]
  },
  {
   "cell_type": "markdown",
   "metadata": {},
   "source": [
    "### Operaciones con tuplas \n",
    "\n",
    "Se pueden hacer algunas operaciones con tuplas (eso no significa que las tuplas dejen de ser inmutables)"
   ]
  },
  {
   "cell_type": "code",
   "execution_count": null,
   "metadata": {},
   "outputs": [],
   "source": [
    "tupla_a = (1,2,3,4)\n",
    "tupla_b = (5,6,7,8)\n",
    "tupla_a + tupla_b"
   ]
  },
  {
   "cell_type": "code",
   "execution_count": null,
   "metadata": {},
   "outputs": [],
   "source": [
    "tupla_a - tupla_b ## no se puede restar"
   ]
  },
  {
   "cell_type": "code",
   "execution_count": null,
   "metadata": {},
   "outputs": [],
   "source": [
    "tupla_a * 5"
   ]
  },
  {
   "cell_type": "code",
   "execution_count": null,
   "metadata": {},
   "outputs": [],
   "source": [
    "1 in tupla_a"
   ]
  },
  {
   "cell_type": "markdown",
   "metadata": {},
   "source": [
    "Volviendo a las listas: Tomar en cuenta que cuando una lista se altera, el id sigue  siendo el mismo. Cuando hacemos una modificación a una tupla, eso no pasa (pues es inmutable)"
   ]
  },
  {
   "cell_type": "code",
   "execution_count": null,
   "metadata": {},
   "outputs": [],
   "source": [
    "lst_a = [1,2,3]\n",
    "id(lst_a)"
   ]
  },
  {
   "cell_type": "code",
   "execution_count": null,
   "metadata": {},
   "outputs": [],
   "source": [
    "lst_a.append(4)\n",
    "id(lst_a)"
   ]
  },
  {
   "cell_type": "code",
   "execution_count": null,
   "metadata": {},
   "outputs": [],
   "source": []
  },
  {
   "cell_type": "code",
   "execution_count": null,
   "metadata": {},
   "outputs": [],
   "source": []
  },
  {
   "cell_type": "markdown",
   "metadata": {},
   "source": [
    "### ¿Por qué usar tuplas y no listas? \n",
    "\n",
    "Las tuplas tienen varias restricciones, y si las ven es porque el programa les está informando que la información proporcionada  es \"fija\".   \n",
    "Cuando veamos los diccionarios, nos daremos cuenta que las tuplas pueden ser identificadores (keys), pero las listas no. "
   ]
  },
  {
   "cell_type": "markdown",
   "metadata": {},
   "source": [
    "### Desempaque de tuplas\n",
    "\n",
    "En programación, podemos usar el \"desempaque\" de las tuplas: "
   ]
  },
  {
   "cell_type": "code",
   "execution_count": null,
   "metadata": {},
   "outputs": [],
   "source": [
    "a, b, c = (1,\"ojo\",3)"
   ]
  },
  {
   "cell_type": "code",
   "execution_count": null,
   "metadata": {},
   "outputs": [],
   "source": [
    "print(a)\n",
    "print(b)\n",
    "print(c)"
   ]
  },
  {
   "cell_type": "markdown",
   "metadata": {},
   "source": [
    "Esto es útil cuando queremos retornar más de un elemento de una función. "
   ]
  },
  {
   "cell_type": "code",
   "execution_count": null,
   "metadata": {},
   "outputs": [],
   "source": [
    "def grado_escolar(edad):\n",
    "    \n",
    "    ''' calcula el grado escolar al que pertences segun tu edad\n",
    "    Input: \n",
    "    edad : int\n",
    "    output: tupla, compuestad de \n",
    "    grado: string\n",
    "    esp: especifico que grado\n",
    "    \n",
    "    '''\n",
    "    \n",
    "    if ((edad < 6) | (edad > 16)):\n",
    "        return \"No está en edad escolar\"\n",
    "    #assert edad > 5 & edad < 17\n",
    "    elif ((edad >=6) & (edad < 12)):\n",
    "        grado = \"Primaria\"\n",
    "        if edad == 6:\n",
    "            esp = \"1er grado\"\n",
    "        elif edad == 7:\n",
    "            esp = \"2do grado\"\n",
    "        elif edad == 8:\n",
    "            esp = \"3er grado\"\n",
    "        elif edad == 9:\n",
    "            esp = \"4to grado\"\n",
    "        elif edad == 10:\n",
    "            esp = \"5to grado\"\n",
    "        else:\n",
    "            esp = \"6to grado\"\n",
    "        \n",
    "    else:\n",
    "        grado = \"Secundaria\"\n",
    "        if edad == 12:\n",
    "            esp = \"1er año\"\n",
    "        elif edad == 13:\n",
    "            esp = \"2do año\"\n",
    "        elif edad == 14:\n",
    "            esp = \"3er año\"\n",
    "        elif edad == 15:\n",
    "            esp = \"4to año\"\n",
    "        else:\n",
    "            esp = \"5to año\"\n",
    "            \n",
    "    return grado, esp"
   ]
  },
  {
   "cell_type": "code",
   "execution_count": null,
   "metadata": {},
   "outputs": [],
   "source": [
    "tipo = grado_escolar(7)## El  resultado será una tupla... Hay varios programas que cuando botan más de un elemento, son especificados así"
   ]
  },
  {
   "cell_type": "code",
   "execution_count": null,
   "metadata": {},
   "outputs": [],
   "source": [
    "tipo"
   ]
  },
  {
   "cell_type": "code",
   "execution_count": null,
   "metadata": {},
   "outputs": [],
   "source": [
    "## También podemos llamar a los resultados de la función asi:\n",
    "\n",
    "grado, anio = grado_escolar(14) "
   ]
  },
  {
   "cell_type": "code",
   "execution_count": null,
   "metadata": {},
   "outputs": [],
   "source": [
    "grado"
   ]
  },
  {
   "cell_type": "code",
   "execution_count": null,
   "metadata": {},
   "outputs": [],
   "source": [
    "anio"
   ]
  },
  {
   "cell_type": "markdown",
   "metadata": {},
   "source": [
    "### Otro uso del desempaque de tuplas:"
   ]
  },
  {
   "cell_type": "code",
   "execution_count": null,
   "metadata": {},
   "outputs": [],
   "source": [
    "nom_mascota = [(\"Carla\", \"conejo\"), (\"Cristina\", \"gato\"), (\"Diego\", \"perro\")]"
   ]
  },
  {
   "cell_type": "code",
   "execution_count": null,
   "metadata": {},
   "outputs": [],
   "source": [
    "for nombre, mascota in nom_mascota:\n",
    "    print(nombre, \"tiene un\", mascota)"
   ]
  },
  {
   "cell_type": "code",
   "execution_count": null,
   "metadata": {},
   "outputs": [],
   "source": [
    "for nombre, mascota in nom_mascota:\n",
    "    print(nombre, \"tiene un\", mascota)"
   ]
  },
  {
   "cell_type": "code",
   "execution_count": null,
   "metadata": {},
   "outputs": [],
   "source": [
    "## Ejemplo de uso de la función de calcula grado escolar en un loop:\n",
    "\n",
    "lst = [] # almacenamos el resultado en una lista\n",
    "edades = [11, 12, 5, 6, 14, 16, 2,11]\n",
    "\n",
    "for edad in edades:\n",
    "    grado, esp = grado_escolar(edad)\n",
    "    lst.append((edad, grado, esp )) ## formamos una tupla que adherimos a nuestra lista\n",
    "\n",
    "\n"
   ]
  },
  {
   "cell_type": "code",
   "execution_count": null,
   "metadata": {},
   "outputs": [],
   "source": [
    "lst"
   ]
  },
  {
   "cell_type": "markdown",
   "metadata": {},
   "source": [
    "## Conjuntos\n",
    "\n",
    "Los conjuntos son tipos de datos **mutables** pero los elementos que los componen  son **únicos**. \n",
    "\n",
    "Estos son creados usando llaves {}"
   ]
  },
  {
   "cell_type": "code",
   "execution_count": null,
   "metadata": {},
   "outputs": [],
   "source": [
    "set_a = {1,2,3,4,4,4,4}\n",
    "set_a"
   ]
  },
  {
   "cell_type": "code",
   "execution_count": null,
   "metadata": {},
   "outputs": [],
   "source": [
    "set_mult = {1,True, False, True, \"hola\"}\n",
    "set_mult"
   ]
  },
  {
   "cell_type": "code",
   "execution_count": null,
   "metadata": {},
   "outputs": [],
   "source": [
    "type(set_mult)"
   ]
  },
  {
   "cell_type": "code",
   "execution_count": null,
   "metadata": {},
   "outputs": [],
   "source": [
    "set_b = set('abracadabra')"
   ]
  },
  {
   "cell_type": "code",
   "execution_count": null,
   "metadata": {},
   "outputs": [],
   "source": [
    "set_b"
   ]
  },
  {
   "cell_type": "markdown",
   "metadata": {},
   "source": [
    "### Operaciones con conjuntos\n",
    "\n",
    "Lo más interesante que se puede hacer con los conjuntos, es hacer operaciones **de conjuntos** con ellos. A continuación veremos cómo hacemos esto:"
   ]
  },
  {
   "cell_type": "code",
   "execution_count": null,
   "metadata": {},
   "outputs": [],
   "source": [
    "set_a = set(range(1,10))\n",
    "set_b = set(range(5,15))\n",
    "\n",
    "print(set_a)\n",
    "print(set_b)"
   ]
  },
  {
   "cell_type": "markdown",
   "metadata": {},
   "source": [
    "#### Unión "
   ]
  },
  {
   "cell_type": "code",
   "execution_count": null,
   "metadata": {},
   "outputs": [],
   "source": [
    "set_a | set_b"
   ]
  },
  {
   "cell_type": "code",
   "execution_count": null,
   "metadata": {},
   "outputs": [],
   "source": [
    "set_a.union(set_b)"
   ]
  },
  {
   "cell_type": "markdown",
   "metadata": {},
   "source": [
    "#### Intersección"
   ]
  },
  {
   "cell_type": "code",
   "execution_count": null,
   "metadata": {},
   "outputs": [],
   "source": [
    "set_a & set_b"
   ]
  },
  {
   "cell_type": "code",
   "execution_count": null,
   "metadata": {},
   "outputs": [],
   "source": [
    "set_a.intersection(set_b)"
   ]
  },
  {
   "cell_type": "markdown",
   "metadata": {},
   "source": [
    "#### Diferencia"
   ]
  },
  {
   "cell_type": "code",
   "execution_count": null,
   "metadata": {},
   "outputs": [],
   "source": [
    "set_a - set_b"
   ]
  },
  {
   "cell_type": "code",
   "execution_count": null,
   "metadata": {},
   "outputs": [],
   "source": [
    "set_b - set_a"
   ]
  },
  {
   "cell_type": "markdown",
   "metadata": {},
   "source": [
    "#### Pertenencia"
   ]
  },
  {
   "cell_type": "code",
   "execution_count": null,
   "metadata": {},
   "outputs": [],
   "source": [
    "1 in set_a"
   ]
  },
  {
   "cell_type": "code",
   "execution_count": null,
   "metadata": {},
   "outputs": [],
   "source": [
    "1 in set_b"
   ]
  },
  {
   "cell_type": "markdown",
   "metadata": {},
   "source": [
    "#### Subconjunto"
   ]
  },
  {
   "cell_type": "code",
   "execution_count": null,
   "metadata": {},
   "outputs": [],
   "source": [
    "{1,2,3,4}.issubset(set_a)"
   ]
  },
  {
   "cell_type": "code",
   "execution_count": null,
   "metadata": {},
   "outputs": [],
   "source": [
    "{1,2,3,4}.issubset(set_b)"
   ]
  },
  {
   "cell_type": "markdown",
   "metadata": {},
   "source": [
    "### Cómo modificar un conjunto"
   ]
  },
  {
   "cell_type": "code",
   "execution_count": null,
   "metadata": {},
   "outputs": [],
   "source": [
    "set_a = set(range(1,10))\n",
    "set_a\n",
    "set_a.add(10)\n"
   ]
  },
  {
   "cell_type": "code",
   "execution_count": null,
   "metadata": {},
   "outputs": [],
   "source": [
    "set_a"
   ]
  },
  {
   "cell_type": "code",
   "execution_count": null,
   "metadata": {},
   "outputs": [],
   "source": [
    "set_a.remove(10)\n",
    "set_a"
   ]
  },
  {
   "cell_type": "code",
   "execution_count": null,
   "metadata": {},
   "outputs": [],
   "source": [
    "len(set_a) ## Número de elementos de la lista (ojo son UNICOS)."
   ]
  },
  {
   "cell_type": "markdown",
   "metadata": {},
   "source": [
    "#### OJO los conjuntos son valores no ordenados (a diferencia de las listas)."
   ]
  },
  {
   "cell_type": "markdown",
   "metadata": {},
   "source": [
    "## Diccionarios\n",
    "\n",
    "Esta es una de las estructuras más versátiles y poderosas dentro de Python. Es una estructura de datos mutable que se basa en un índice, o **key** (clave?, es un identificador único) y un valor. Es decir, el par key-value (clave-valor) son la base de esta estructura. \n",
    "\n",
    "Los diccionarios llevan ese nombre porque, así como los diccionarios, por ejemplo la RAE, el _key_ (clave) está ligado a una definición (valor, o valores).\n",
    "\n",
    "\n",
    "### Cómo crear un diccionario\n",
    "\n",
    "Para crear un diccionario usamos las llaves de los sets, pero también empleamos los `:`. \n",
    "El elemento a la izquierda de ``:`` es el key(clave) y aquel a la derecha es el value (valor). Los diccionarios tienen un único key. "
   ]
  },
  {
   "cell_type": "code",
   "execution_count": null,
   "metadata": {},
   "outputs": [],
   "source": [
    "ejem_dict =  {\"Carla\": \"conejo\", \"Cristina\": \"gato\",  \"Diego\": \"perro\"}\n"
   ]
  },
  {
   "cell_type": "code",
   "execution_count": null,
   "metadata": {},
   "outputs": [],
   "source": [
    "ejem_dict =  {\"Carla\": [\"salario\", \"direccion\", \"telefono\"], \"Cristina\": \"gato\",  \"Diego\": \"perro\"}\n"
   ]
  },
  {
   "cell_type": "code",
   "execution_count": null,
   "metadata": {},
   "outputs": [],
   "source": [
    "type(ejem_dict)"
   ]
  },
  {
   "cell_type": "code",
   "execution_count": null,
   "metadata": {},
   "outputs": [],
   "source": [
    "ejem_dict =  {\"Carla\": \"conejo\", \"Cristina\": \"gato\",  \"Diego\": \"perro\", \"Carla\": \"gato\"}\n",
    "## No reconocerá al 2do Carla porque ya está siendo usado.\n"
   ]
  },
  {
   "cell_type": "code",
   "execution_count": null,
   "metadata": {},
   "outputs": [],
   "source": [
    "ejem_dict"
   ]
  },
  {
   "cell_type": "code",
   "execution_count": null,
   "metadata": {},
   "outputs": [],
   "source": [
    "ejem_dict"
   ]
  },
  {
   "cell_type": "markdown",
   "metadata": {},
   "source": [
    "#### Los keys de los diccionarios tienen que ser elementos inmutables \n",
    "Por ejemplo, una lista no puede ser un key (sin embargo, una forma de resolver esto, es volverlo una tupla). "
   ]
  },
  {
   "cell_type": "code",
   "execution_count": null,
   "metadata": {},
   "outputs": [],
   "source": [
    "otro_ejem_dict =  {[\"Carla\", \"Cristina\"]: \"conejo\", \"Cristina2\": \"gato\",  \"Diego\": \"perro\"}"
   ]
  },
  {
   "cell_type": "code",
   "execution_count": null,
   "metadata": {},
   "outputs": [],
   "source": [
    "otro_ejem_dict =  {(\"Carla\", \"Cristina\"): \"conejo\", \"Cristina2\": \"gato\",  \"Diego\": \"perro\"}"
   ]
  },
  {
   "cell_type": "code",
   "execution_count": null,
   "metadata": {},
   "outputs": [],
   "source": [
    "otro_ejem_dict"
   ]
  },
  {
   "cell_type": "markdown",
   "metadata": {},
   "source": [
    "#### Los values de los diccionarios pueden ser cualquier cosa\n",
    "Por ejemplo, ahora las mismas personas que tienen mascotas juegan dados y obtienen los siguientes números:"
   ]
  },
  {
   "cell_type": "code",
   "execution_count": null,
   "metadata": {},
   "outputs": [],
   "source": [
    "otro_ejem_dict =  {\"Carla\": [1,3,4,2,2], \"Cristina\": [6,5,3,1,3],  \"Diego\": [3,4,2,5,1]}"
   ]
  },
  {
   "cell_type": "markdown",
   "metadata": {},
   "source": [
    "### Creando  diccionarios\n",
    "\n",
    "Usando el constructor de diccionarios, tambien podemos  crearlos haciendo lo siguiente:"
   ]
  },
  {
   "cell_type": "code",
   "execution_count": null,
   "metadata": {},
   "outputs": [],
   "source": [
    "dict_1 = dict(Carla = 12, Cristina = 13 , Diego = 14, Rebeca = 15, Hitoshi =  16)\n",
    "dict_1"
   ]
  },
  {
   "cell_type": "code",
   "execution_count": null,
   "metadata": {},
   "outputs": [],
   "source": [
    "dict_2 = dict(Carla =  [1,3,4,2,2], Cristina = [6,5,3,1,3],  Diego = [3,4,2,5,1])\n",
    "dict_2"
   ]
  },
  {
   "cell_type": "code",
   "execution_count": null,
   "metadata": {},
   "outputs": [],
   "source": [
    "dict_2 = dict(Carla =  {2:[1,3,4,2,2]} , Cristina = [6,5,3,1,3],  Diego = [3,4,2,5,1])\n",
    "dict_2"
   ]
  },
  {
   "cell_type": "code",
   "execution_count": null,
   "metadata": {},
   "outputs": [],
   "source": [
    "dict_3 = dict([(\"Carla\",[1,3,4,2,2]), (\"Cristina\",[6,5,3,1,3]),  (\"Diego\" ,[3,4,2,5,1])])\n",
    "\n",
    "dict_3"
   ]
  },
  {
   "cell_type": "markdown",
   "metadata": {},
   "source": [
    "Muchas veces nos sirve crear un diccionario vacío (que irremos llenando)"
   ]
  },
  {
   "cell_type": "code",
   "execution_count": null,
   "metadata": {},
   "outputs": [],
   "source": [
    "dict_vacio = {}\n",
    "type(dict_vacio)"
   ]
  },
  {
   "cell_type": "markdown",
   "metadata": {},
   "source": [
    "### Seleccionando valores en un diccionario"
   ]
  },
  {
   "cell_type": "code",
   "execution_count": null,
   "metadata": {},
   "outputs": [],
   "source": [
    "dict_1['Carla']"
   ]
  },
  {
   "cell_type": "code",
   "execution_count": null,
   "metadata": {},
   "outputs": [],
   "source": [
    "dict_1['Juan'] ##dict_1 no tiene como key a Juan, por eso no sale nada. "
   ]
  },
  {
   "cell_type": "markdown",
   "metadata": {},
   "source": [
    "### Modificando un diccionario"
   ]
  },
  {
   "cell_type": "code",
   "execution_count": null,
   "metadata": {},
   "outputs": [],
   "source": [
    "dict_1"
   ]
  },
  {
   "cell_type": "code",
   "execution_count": null,
   "metadata": {},
   "outputs": [],
   "source": [
    "dict_1['Carla'] = 438485348534"
   ]
  },
  {
   "cell_type": "code",
   "execution_count": null,
   "metadata": {},
   "outputs": [],
   "source": [
    "dict_1['Diego']"
   ]
  },
  {
   "cell_type": "code",
   "execution_count": null,
   "metadata": {},
   "outputs": [],
   "source": [
    "dict_1['Juan']"
   ]
  },
  {
   "cell_type": "code",
   "execution_count": null,
   "metadata": {},
   "outputs": [],
   "source": [
    "dict_1['Juan'] = 16"
   ]
  },
  {
   "cell_type": "code",
   "execution_count": null,
   "metadata": {},
   "outputs": [],
   "source": [
    "dict_1['Juan']"
   ]
  },
  {
   "cell_type": "code",
   "execution_count": null,
   "metadata": {},
   "outputs": [],
   "source": [
    "del dict_1[\"Juan\"]"
   ]
  },
  {
   "cell_type": "markdown",
   "metadata": {},
   "source": [
    "### Métodos de un diccionario \n",
    "A continuación veremos los métodos de un diccionario: \n"
   ]
  },
  {
   "cell_type": "markdown",
   "metadata": {},
   "source": [
    "El método get()"
   ]
  },
  {
   "cell_type": "code",
   "execution_count": null,
   "metadata": {},
   "outputs": [],
   "source": [
    "dict_1.get('Hitoshi')"
   ]
  },
  {
   "cell_type": "markdown",
   "metadata": {},
   "source": [
    "Viendo los keys y los  values de un diccionario:"
   ]
  },
  {
   "cell_type": "code",
   "execution_count": null,
   "metadata": {},
   "outputs": [],
   "source": [
    "dict_1.keys()"
   ]
  },
  {
   "cell_type": "code",
   "execution_count": null,
   "metadata": {},
   "outputs": [],
   "source": [
    "dict_1.values()"
   ]
  },
  {
   "cell_type": "markdown",
   "metadata": {},
   "source": [
    "### Iterando  por un diccionario:"
   ]
  },
  {
   "cell_type": "code",
   "execution_count": null,
   "metadata": {},
   "outputs": [],
   "source": [
    "for  key, val in dict_1.items():\n",
    "    dict_1[key] = val + 2"
   ]
  },
  {
   "cell_type": "code",
   "execution_count": null,
   "metadata": {},
   "outputs": [],
   "source": [
    "dict_1.items()"
   ]
  },
  {
   "cell_type": "code",
   "execution_count": null,
   "metadata": {},
   "outputs": [],
   "source": [
    "for val in dict_1.values():\n",
    "    print(val)"
   ]
  },
  {
   "cell_type": "code",
   "execution_count": null,
   "metadata": {},
   "outputs": [],
   "source": [
    "for key in dict_1.keys():\n",
    "    print(key)"
   ]
  },
  {
   "cell_type": "code",
   "execution_count": null,
   "metadata": {},
   "outputs": [],
   "source": [
    "for key in dict_1:\n",
    "    print(key)"
   ]
  },
  {
   "cell_type": "code",
   "execution_count": null,
   "metadata": {},
   "outputs": [],
   "source": [
    "dict_vacio = {}\n",
    "\n",
    "nombres = ['Carla', 'Cristina', 'Diego', 'Hitoshi', 'Lila', 'John']\n",
    "\n",
    "for nombre in nombres:\n",
    "    dict_vacio[nombre] = 1"
   ]
  },
  {
   "cell_type": "code",
   "execution_count": null,
   "metadata": {},
   "outputs": [],
   "source": [
    "dict_vacio"
   ]
  },
  {
   "cell_type": "code",
   "execution_count": null,
   "metadata": {},
   "outputs": [],
   "source": []
  }
 ],
 "metadata": {
  "kernelspec": {
   "display_name": "Python 3",
   "language": "python",
   "name": "python3"
  },
  "language_info": {
   "codemirror_mode": {
    "name": "ipython",
    "version": 3
   },
   "file_extension": ".py",
   "mimetype": "text/x-python",
   "name": "python",
   "nbconvert_exporter": "python",
   "pygments_lexer": "ipython3",
   "version": "3.8.5"
  }
 },
 "nbformat": 4,
 "nbformat_minor": 4
}
