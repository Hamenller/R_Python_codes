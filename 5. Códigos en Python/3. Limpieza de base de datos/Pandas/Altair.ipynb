{
 "cells": [
  {
   "cell_type": "markdown",
   "metadata": {},
   "source": [
    "# Altair\n",
    "\n",
    "[Altair](https://altair-viz.github.io/index.html) is a declarative statistical visualization library for Python, based on Vega and Vega-Lite, and the source is available on GitHub.\n",
    "\n",
    "With Altair, you can spend more time understanding your data and its meaning. Altair’s API is simple, friendly and consistent and built on top of the powerful Vega-Lite visualization grammar. This elegant simplicity produces beautiful and effective visualizations with a minimal amount of code. Altair offers a powerful and concise visualization grammar that enables you to build a wide range of statistical visualizations quickly.\n",
    "\n",
    "Qué significa [**declarativo (declarative)**](https://en.wikipedia.org/wiki/Declarative_programming)\n",
    "Declarativo  quiere decir que esta lenguaje se enfoca en **qué** queremos y no en cómo lo tendremos (no tenemos que escribir instrucciones detalladas de cómo hará el programa para graficar nuestros datos). \n",
    "\n",
    "Está basado en la gramática de los gráficos: \n",
    "\n",
    "A grammar of graphics is a tool that enables us to concisely describe the components of a graphic. Such a grammar allows us to move beyond named graphics (e.g., the “scatterplot”) and gain insight into the deep structure that underlies statistical graphics. [(Wickham, 2010)](https://byrneslab.net/classes/biol607/readings/wickham_layered-grammar.pdf).\n",
    "\n",
    "Los elementos que componen al GoG son:\n",
    "- Datos\n",
    "- Coordenadas\n",
    "- Escalas\n",
    "- Estética\n",
    "- Geometrías\n",
    "- Estadísticas\n",
    "- Facetas \n",
    "\n",
    "\n",
    "https://towardsdatascience.com/a-comprehensive-guide-to-the-grammar-of-graphics-for-effective-visualization-of-multi-dimensional-1f92b4ed4149\n",
    "\n",
    "\n"
   ]
  },
  {
   "cell_type": "code",
   "execution_count": 1,
   "metadata": {},
   "outputs": [
    {
     "ename": "SyntaxError",
     "evalue": "invalid syntax (<ipython-input-1-80fec3abca87>, line 1)",
     "output_type": "error",
     "traceback": [
      "\u001b[0;36m  File \u001b[0;32m\"<ipython-input-1-80fec3abca87>\"\u001b[0;36m, line \u001b[0;32m1\u001b[0m\n\u001b[0;31m    aimport pandas as pd\u001b[0m\n\u001b[0m            ^\u001b[0m\n\u001b[0;31mSyntaxError\u001b[0m\u001b[0;31m:\u001b[0m invalid syntax\n"
     ]
    }
   ],
   "source": [
    "import pandas as pd\n",
    "import altair as alt"
   ]
  },
  {
   "cell_type": "markdown",
   "metadata": {},
   "source": [
    "Vamos a trabajar con los datos del último [reporte de felicidad](https://www.kaggle.com/ajaypalsinghlo/world-happiness-report-2021/code). Altair asume que nuestra base de datos es _ordenada_(\"tidy\")<sup>1</sup>.\n",
    "\n",
    "\n",
    "<sup>1</sup>Las bases de datos _tidy_ son fáciles de manejar, modelar y visualizar, y tienen una estructura específica: cada variable es una columna, cada observación es una fila, y cada tipo de unidad observacional es una tabla. [(Wickham, 2014)](https://www.jstatsoft.org/article/view/v059i10)"
   ]
  },
  {
   "cell_type": "code",
   "execution_count": null,
   "metadata": {},
   "outputs": [],
   "source": [
    "happy_all = pd.read_csv(\"./data/world-happiness-report.csv\")\n",
    "happy_21 = pd.read_csv(\"./data/world-happiness-report-2021.csv\")"
   ]
  },
  {
   "cell_type": "code",
   "execution_count": null,
   "metadata": {},
   "outputs": [],
   "source": [
    "happy = pd.merge(happy_all[happy_all['year'] == 2019],\n",
    "                  happy_21[['Country name', \"Regional indicator\" ]],\n",
    "                  on = \"Country name\",\n",
    "                  how  = \"inner\",\n",
    "                 indicator = True)"
   ]
  },
  {
   "cell_type": "code",
   "execution_count": null,
   "metadata": {},
   "outputs": [],
   "source": [
    "happy.head(5)"
   ]
  },
  {
   "cell_type": "markdown",
   "metadata": {},
   "source": [
    "## El objeto `Chart`\n",
    "\n",
    "El objeto más importante de Altair es el `Chart`, que toma como único argumento un dataframe. \n"
   ]
  },
  {
   "cell_type": "code",
   "execution_count": null,
   "metadata": {},
   "outputs": [],
   "source": [
    "#alt.Chart(happy)"
   ]
  },
  {
   "cell_type": "markdown",
   "metadata": {},
   "source": [
    "Ya podemos empezar a decidir nuestro gráfico. Primero queremos decidir qué marcas (marks) geométricas queremos que tenga. Elegimos el atributo `mark_point()`. \n",
    "Así como `point`, existen otros tipos de _marks_\n",
    "- point\n",
    "- line\n",
    "- bar\n",
    "- area\n",
    "- rect\n",
    "- geoshape\n",
    "- text\n",
    "- circle\n",
    "- square\n",
    "- rule\n",
    "- tick"
   ]
  },
  {
   "cell_type": "code",
   "execution_count": null,
   "metadata": {},
   "outputs": [],
   "source": [
    "alt.Chart(happy).mark_rect()"
   ]
  },
  {
   "cell_type": "markdown",
   "metadata": {},
   "source": [
    "Aquí todavía no estamos dando una ubicación a los datos, así que está graficando todo en un mismo punto. Sin embargo, podemos especificar posiciones para nuestos puntos. Para ello usaremos el método `encode` para darle _encodings_ visuales a nuestos datos. En este caso, en el eje y colocaremos a los países de Latinoamérica."
   ]
  },
  {
   "cell_type": "code",
   "execution_count": null,
   "metadata": {},
   "outputs": [],
   "source": [
    "happy_lac = happy[happy['Regional indicator'] == \"Latin America and Caribbean\"]"
   ]
  },
  {
   "cell_type": "code",
   "execution_count": null,
   "metadata": {},
   "outputs": [],
   "source": [
    "happy[happy['Country name'] == 'Venezuela']"
   ]
  },
  {
   "cell_type": "code",
   "execution_count": null,
   "metadata": {},
   "outputs": [],
   "source": [
    "alt.Chart(happy_lac).mark_point().encode(\n",
    "    x = \"Country name\")"
   ]
  },
  {
   "cell_type": "markdown",
   "metadata": {},
   "source": [
    "El método del encoding crea un un mapeo de key-value entre varios encodings (x, y, color, forma, tamaño, etc) a las variables de nuestra base de datos, tan sólo usando sus nombres. Noten que Altair detecta el tipo de datos de un dataframe de pandas.  Aún tenemos varios puntos que se superponen, los separaremos agregando un encoding para x. \n"
   ]
  },
  {
   "cell_type": "code",
   "execution_count": null,
   "metadata": {},
   "outputs": [],
   "source": [
    "alt.Chart(happy_lac).mark_point().encode(\n",
    "    x = \"Life Ladder\",\n",
    "    y = \"Country name\"\n",
    "    )"
   ]
  },
  {
   "cell_type": "code",
   "execution_count": null,
   "metadata": {},
   "outputs": [],
   "source": [
    "#happy_lac[['Life Ladder', 'Country name']]"
   ]
  },
  {
   "cell_type": "markdown",
   "metadata": {},
   "source": [
    "Una forma más generalizada de realizar este mismo códig, es agregar `alt.X`  y `alt.Y`, lo cual permitirá agregar más parámetros, y por tanto, más personalización a nuestro gráfico. "
   ]
  },
  {
   "cell_type": "code",
   "execution_count": null,
   "metadata": {},
   "outputs": [],
   "source": [
    "alt.Chart(happy_lac).mark_point().encode(\n",
    "    alt.X(\"Life Ladder\"),\n",
    "    alt.Y(\"Country name\")\n",
    ")"
   ]
  },
  {
   "cell_type": "markdown",
   "metadata": {},
   "source": [
    "¿ Qué pasa si queremos un gráfico de barras?"
   ]
  },
  {
   "cell_type": "code",
   "execution_count": null,
   "metadata": {},
   "outputs": [],
   "source": [
    "alt.Chart(happy_lac).mark_bar().encode(\n",
    "    alt.Y(\"Life Ladder\"),\n",
    "    alt.X(\"Country name\")\n",
    ")"
   ]
  },
  {
   "cell_type": "code",
   "execution_count": null,
   "metadata": {},
   "outputs": [],
   "source": [
    "alt.Chart(happy_lac).mark_point().encode(\n",
    "    alt.X(\"Life Ladder\"),\n",
    "    alt.Y(\"Country name\")\n",
    ")"
   ]
  },
  {
   "cell_type": "markdown",
   "metadata": {},
   "source": [
    "A veces es necesario decirle explícitamente a Altair el tipo de datos de nuestras variables. \n",
    "Estos tipos pueden ser/se especifican de la siguiente forma:\n",
    "\n",
    "- `'nombre_variable:N'` Tipo de datos Nominal (datos categóricos no ordenados),\n",
    "\n",
    "- `'nombre_variable:O'` Tipo de datos Ordinal (datos categóricos ordenados),\n",
    "\n",
    "- `'nombre_variable:Q'` Tipo de datos cuantitativo (datos numéricos) y\n",
    "\n",
    "- `'nombre_variable:T'` Variables de tiempo como fechas o años (casi no hemos visto esto)\n",
    "\n",
    "Volviendo al primer ejemplo:"
   ]
  },
  {
   "cell_type": "code",
   "execution_count": null,
   "metadata": {},
   "outputs": [],
   "source": [
    "alt.Chart(happy_lac).mark_point().encode(\n",
    "    x = \"Life Ladder:Q\",\n",
    "    y = \"Country name:N\"\n",
    "    )"
   ]
  },
  {
   "cell_type": "markdown",
   "metadata": {},
   "source": [
    "En el siguiente ejemplo haremos un scatterplot de la relación entre felicidad y PBI:"
   ]
  },
  {
   "cell_type": "code",
   "execution_count": null,
   "metadata": {},
   "outputs": [],
   "source": [
    "alt.Chart(happy).mark_point().encode(\n",
    "    x = alt.X(\"Life Ladder:Q\"),\n",
    "    y = alt.Y(\"Log GDP per capita:Q\")\n",
    "    )"
   ]
  },
  {
   "cell_type": "code",
   "execution_count": null,
   "metadata": {},
   "outputs": [],
   "source": [
    "happy.columns"
   ]
  },
  {
   "cell_type": "markdown",
   "metadata": {},
   "source": [
    "Podemos agregar un encoding adicional: El color. En este caso, color significará la región de pertenencia. "
   ]
  },
  {
   "cell_type": "code",
   "execution_count": null,
   "metadata": {},
   "outputs": [],
   "source": [
    "alt.Chart(happy).mark_point().encode(\n",
    "    x = alt.X(\"Life Ladder:Q\"),\n",
    "        y = alt.Y(\"Log GDP per capita:Q\"),\n",
    "    color = \"Regional indicator\"\n",
    "    )\n",
    "# Notar que  las regiones son variables nominales, por ello elige diferentes colores como encoding. "
   ]
  },
  {
   "cell_type": "markdown",
   "metadata": {},
   "source": [
    "¿Qué pasa si coloreamos por una variable cuantitativa?"
   ]
  },
  {
   "cell_type": "code",
   "execution_count": null,
   "metadata": {},
   "outputs": [],
   "source": [
    "alt.Chart(happy).mark_point().encode(\n",
    "    x = alt.X(\"Life Ladder:Q\"),\n",
    "    y = alt.Y(\"Log GDP per capita:Q\"),\n",
    "    color = 'Healthy life expectancy at birth'\n",
    "    )"
   ]
  },
  {
   "cell_type": "markdown",
   "metadata": {},
   "source": [
    "Agregando interactividad básica:"
   ]
  },
  {
   "cell_type": "code",
   "execution_count": null,
   "metadata": {},
   "outputs": [],
   "source": [
    "alt.Chart(happy).mark_point().encode(\n",
    "    x = alt.X(\"Life Ladder:Q\"),\n",
    "    y = alt.Y(\"Log GDP per capita:Q\"),\n",
    "    color = \"Regional indicator\"\n",
    "    ).interactive()\n"
   ]
  },
  {
   "cell_type": "markdown",
   "metadata": {},
   "source": [
    "Qué pasaría si queremos agregar el _tooltip_ "
   ]
  },
  {
   "cell_type": "code",
   "execution_count": null,
   "metadata": {},
   "outputs": [],
   "source": [
    "alt.Chart(happy).mark_point().encode(\n",
    "    x = alt.X(\"Life Ladder:Q\"),\n",
    "    y = alt.Y(\"Log GDP per capita:Q\"),\n",
    "    color = \"Regional indicator\", \n",
    "    tooltip = [\"Country name\", \"Life Ladder\"]\n",
    "    ).interactive()"
   ]
  },
  {
   "cell_type": "markdown",
   "metadata": {},
   "source": [
    "Qué pasa si queremos agregar un gráfico por región:"
   ]
  },
  {
   "cell_type": "code",
   "execution_count": null,
   "metadata": {},
   "outputs": [],
   "source": [
    "alt.Chart(happy).mark_point().encode(\n",
    "    x = alt.X(\"Life Ladder:Q\"),\n",
    "    y = alt.Y(\"Log GDP per capita:Q\"),\n",
    "    color = alt.Color(\"Regional indicator\"),\n",
    "    column = alt.Column(\"Regional indicator\")\n",
    "    )"
   ]
  },
  {
   "cell_type": "code",
   "execution_count": null,
   "metadata": {},
   "outputs": [],
   "source": [
    "alt.Chart(happy).mark_point(filled = True).encode(\n",
    "    x = alt.X(\"Life Ladder:Q\"),\n",
    "    y = alt.Y(\"Log GDP per capita:Q\"),\n",
    "    color = alt.Color(\"Regional indicator\", \n",
    "            legend=alt.Legend(orient='bottom', titleOrient='left')),\n",
    "    column = alt.Column(\"Regional indicator\")\n",
    "    ).properties(width=150, height=150)"
   ]
  },
  {
   "cell_type": "markdown",
   "metadata": {},
   "source": [
    "Qué pasa si queremos agregar un encoding más respecto al tamaño de los puntos:"
   ]
  },
  {
   "cell_type": "code",
   "execution_count": null,
   "metadata": {},
   "outputs": [],
   "source": [
    "alt.Chart(happy).mark_point().encode(\n",
    "    x = alt.X(\"Life Ladder:Q\"),\n",
    "    y = alt.Y(\"Log GDP per capita:Q\"),\n",
    "    color = alt.Color(\"Regional indicator\"),\n",
    "    size = alt.Size('Generosity')\n",
    "    ).interactive()"
   ]
  },
  {
   "cell_type": "code",
   "execution_count": null,
   "metadata": {},
   "outputs": [],
   "source": [
    "happy_peru = happy_all[happy_all['Country name'] == 'Peru']"
   ]
  },
  {
   "cell_type": "code",
   "execution_count": null,
   "metadata": {},
   "outputs": [],
   "source": [
    "elem1 = alt.Chart(happy_peru).mark_line().encode(\n",
    "x = alt.X('year'),\n",
    "y = alt.Y('Life Ladder:Q')\n",
    ")"
   ]
  },
  {
   "cell_type": "code",
   "execution_count": null,
   "metadata": {},
   "outputs": [],
   "source": [
    "elem2 = alt.Chart(happy_peru).mark_area().encode(\n",
    "x = alt.X('year'),\n",
    "y = alt.Y('Life Ladder:Q')\n",
    ")\n",
    "\n",
    "#color='red', opacity = 0.5"
   ]
  },
  {
   "cell_type": "code",
   "execution_count": null,
   "metadata": {},
   "outputs": [],
   "source": [
    "elem1 + elem2"
   ]
  }
 ],
 "metadata": {
  "kernelspec": {
   "display_name": "Python 3",
   "language": "python",
   "name": "python3"
  },
  "language_info": {
   "codemirror_mode": {
    "name": "ipython",
    "version": 3
   },
   "file_extension": ".py",
   "mimetype": "text/x-python",
   "name": "python",
   "nbconvert_exporter": "python",
   "pygments_lexer": "ipython3",
   "version": "3.8.5"
  }
 },
 "nbformat": 4,
 "nbformat_minor": 4
}
