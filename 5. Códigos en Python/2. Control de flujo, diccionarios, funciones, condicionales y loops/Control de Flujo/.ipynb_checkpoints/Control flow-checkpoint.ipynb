{
 "cells": [
  {
   "cell_type": "markdown",
   "metadata": {},
   "source": [
    "# Flow Control (Control de flujos)"
   ]
  },
  {
   "cell_type": "markdown",
   "metadata": {},
   "source": [
    "El flow control se refiere a cómo queremos que nuestras instrucciones (programa) se ejecuten. Por cómo, se referirá sobre todo al **_orden_** que queremos que tengan nuestros statements (sentencias?) y las **_condiciones_** bajo las que queremos que se ejecuten.\n",
    "\n",
    "Por ejemplo, muchas veces no necesitamos que _todas las líneas_ de nuestras instrucciones se ejecuten, sino pensar en que dependiendo de ciertas condicionalidades, algunas instrucciones se activarán y otras no. Esta clase tendrá 2 grandes partes: \n",
    "\n",
    "[- Statements condicionales](#scondic)   \n",
    "[- Statements en bucle](#loop)"
   ]
  },
  {
   "cell_type": "markdown",
   "metadata": {},
   "source": [
    "\n",
    "<img src=\"img/ctrl_1.png\" width=\"500\">\n"
   ]
  },
  {
   "cell_type": "markdown",
   "metadata": {},
   "source": [
    "<a class=\"anchor\" id=\"scondic\"></a>\n",
    "\n",
    "## Statements condicionales\n",
    "\n",
    "[- if statements](#if_est)    \n",
    "[- else statements](#els_est)  \n",
    "[- elif statements](#elif_est)   \n",
    "[- Diferencias if elif statements](#ifeli_est)   "
   ]
  },
  {
   "cell_type": "markdown",
   "metadata": {},
   "source": [
    "<a class=\"anchor\" id=\"if_est\"></a>\n",
    "\n",
    "### ``` if ``` statements\n",
    "Los statements condifionales (if statements) nos permiten realizar cosas basadas en una condicionalidad.\n",
    "\n",
    "La estructura general de un statement condicional es la siguiente:  \n",
    "\n",
    "```python\n",
    "if condition <booleano>:\n",
    "        <un statement condicional>\n",
    "else:\n",
    "        <otro statement condicional>\n",
    "```\n",
    "       \n",
    "        \n",
    "El ```if``` siempre es evaluado basado en un booleano!       \n",
    "\n",
    "Estructura importante:   \n",
    "- la palabra ``` if ```  \n",
    "- ``` condition ```  \n",
    "- ``` :```  \n",
    "- ``` indented block (bloque indentado) ```  \n",
    "\n",
    "A continuación un ejemplo:\n"
   ]
  },
  {
   "cell_type": "code",
   "execution_count": 3,
   "metadata": {},
   "outputs": [
    {
     "name": "stdout",
     "output_type": "stream",
     "text": [
      "mayor que 1\n",
      "esto igual se imprime porque está fuera del bloque indentado\n"
     ]
    }
   ],
   "source": [
    "x = 5 \n",
    "\n",
    "if x > 1:\n",
    "    print(\"mayor que 1\")\n",
    "print(\"esto igual se imprime porque está fuera del bloque indentado\")"
   ]
  },
  {
   "cell_type": "code",
   "execution_count": null,
   "metadata": {},
   "outputs": [],
   "source": [
    "x = 50 \n",
    "if  x % 5 == False: ## Caso especial en el que x%5 = 0. En booleano, 0 = False\n",
    "    print (\"divisible por 5\")\n"
   ]
  },
  {
   "cell_type": "markdown",
   "metadata": {},
   "source": [
    "50/5"
   ]
  },
  {
   "cell_type": "code",
   "execution_count": null,
   "metadata": {},
   "outputs": [],
   "source": [
    "x = 50 \n",
    "if  x % 5: ## Caso especial en el que x%5 = 0. En booleano, 0 = False\n",
    "    print (\"divisible por 5\")"
   ]
  },
  {
   "cell_type": "markdown",
   "metadata": {},
   "source": [
    "<a class=\"anchor\" id=\"els_est\"></a>\n",
    "\n",
    "### Agregando el ```else```\n",
    "\n",
    "El statement else se evalúa si el ```if``` es falso"
   ]
  },
  {
   "cell_type": "code",
   "execution_count": null,
   "metadata": {},
   "outputs": [],
   "source": [
    "x = -5\n",
    "\n",
    "if x >= 0:\n",
    "    print(\"número positivo\")\n",
    "else:\n",
    "    print(\"número negativo\")"
   ]
  },
  {
   "cell_type": "markdown",
   "metadata": {},
   "source": [
    "<a class=\"anchor\" id=\"elif_est\"></a>\n",
    "\n",
    "### Agregando el ```elif```\n",
    "\n",
    "Los ```elif``` van antes de los ```else``` y evalúa alguna otra condición que nos importa cuando el ```if``` no se cumple. Los elif son _mutuamente excluyentes_ entre sí y el ``` if ```. "
   ]
  },
  {
   "cell_type": "code",
   "execution_count": null,
   "metadata": {},
   "outputs": [],
   "source": [
    "x = 0\n",
    "\n",
    "if x >= 0:\n",
    "    print(\"número positivo\")\n",
    "elif x == 0:\n",
    "    print(\"cero\")\n",
    "else:\n",
    "    print(\"número negativo\")\n",
    "\n",
    "          "
   ]
  },
  {
   "cell_type": "markdown",
   "metadata": {},
   "source": [
    "<a class=\"anchor\" id=\"ifeli_est\"></a>\n",
    "\n",
    "### La diferencia entre el ```elif``` y el ```if```\n",
    "\n",
    "Aquí hay un punto mega importante que hay que notar: los  ```elif``` y los ```else```  indidican que, apenas se cumpla dicha condición, por default  el control flow termine, sin embargo, en cambio, los ```if``` seguirán evaluando las demás condiciones. "
   ]
  },
  {
   "cell_type": "code",
   "execution_count": null,
   "metadata": {},
   "outputs": [],
   "source": [
    "x = 1000000\n",
    "\n",
    "if x > 0:\n",
    "    print(\"número positivo\")\n",
    "if x > 4:\n",
    "    print(\"número > 4\")\n",
    "if x > 10000:\n",
    "    print(\"número mayor a 10000\")\n",
    "else:\n",
    "    print(\"no imprime porque no llega hasta aquí\")"
   ]
  },
  {
   "cell_type": "code",
   "execution_count": null,
   "metadata": {},
   "outputs": [],
   "source": [
    "x = 1000000\n",
    "\n",
    "if x > 0:\n",
    "    print(\"número positivo\")\n",
    "elif x > 4:\n",
    "    print(\"número > 4\")\n",
    "elif x > 10000:\n",
    "    print(\"número mayor a 10000\")\n",
    "else:\n",
    "    print(\"este statement no se imprime\")"
   ]
  },
  {
   "cell_type": "markdown",
   "metadata": {},
   "source": [
    "En el ejemplo de la lámpara, vemos que la secuencia describe condiciones ```elif``` ya que después de enchufar la lámpara, la lámpara ya prende. En el ejemplo anterior: "
   ]
  },
  {
   "cell_type": "markdown",
   "metadata": {},
   "source": [
    "<img src=\"img/ctrl_1.png\" width=\"500\">"
   ]
  },
  {
   "cell_type": "markdown",
   "metadata": {},
   "source": [
    "Viendo esto en código:"
   ]
  },
  {
   "cell_type": "code",
   "execution_count": null,
   "metadata": {},
   "outputs": [],
   "source": [
    "\n",
    "lampara_desenchufada = True\n",
    "foco_no_quemado = True\n",
    "lampara_malograda = True\n",
    "\n",
    "if lampara_desenchufada:\n",
    "    print(\"enchufar la lámpara\")\n",
    "elif foco_no_quemado:\n",
    "    print(\"cambiar foco\")\n",
    "elif lampara_malograda:\n",
    "    print(\"reparar lámpara\")\n",
    "else:\n",
    "    print(\"ya cambia  tu lámpara ya\")\n",
    "    "
   ]
  },
  {
   "cell_type": "markdown",
   "metadata": {},
   "source": [
    "Sin embargo, el flow de las instrucciones con el `if` se vería asi"
   ]
  },
  {
   "cell_type": "markdown",
   "metadata": {},
   "source": [
    "<img src=\"img/ctrl_2.png\" width=\"500\">"
   ]
  },
  {
   "cell_type": "code",
   "execution_count": null,
   "metadata": {},
   "outputs": [],
   "source": [
    "lampara_desenchufada = True\n",
    "foco_no_quemado = True\n",
    "lampara_malograda = True\n",
    "\n",
    "if lampara_desenchufada:\n",
    "    print(\"enchufar la lampara\")\n",
    "if foco_no_quemado:\n",
    "    print(\"cambiar foco\")\n",
    "if lampara_malograda:\n",
    "    print(\"reparar lámpara\")\n",
    "else:\n",
    "    print(\"ya cambia tu lámpara ya\")"
   ]
  },
  {
   "cell_type": "code",
   "execution_count": null,
   "metadata": {},
   "outputs": [],
   "source": [
    "lampara_desenchufada = True\n",
    "foco_no_quemado = True\n",
    "lampara_malograda = False\n",
    "\n",
    "if lampara_desenchufada:\n",
    "    print(\"enchufar la lámpara\")\n",
    "if foco_no_quemado:\n",
    "    print(\"cambiar foco\")\n",
    "if lampara_malograda:\n",
    "    print(\"reparar lámpara\")\n",
    "else:\n",
    "    print(\"ya cambia  tu lámpara ya\")"
   ]
  },
  {
   "cell_type": "markdown",
   "metadata": {},
   "source": [
    "[Vuelve al principio](#scondic)"
   ]
  },
  {
   "cell_type": "markdown",
   "metadata": {},
   "source": [
    "<a class=\"anchor\" id=\"loop\"></a>\n",
    "\n",
    "## Statements en bucle\n",
    "\n",
    "[- for loops](#forloop)  \n",
    "[- loops anidados](#nested)  \n",
    "[- while loops](#while)  \n",
    "[- break y continue](#break)  "
   ]
  },
  {
   "cell_type": "markdown",
   "metadata": {},
   "source": [
    "<a class=\"anchor\" id=\"forloop\"></a>\n",
    "\n",
    "### ``` for ``` loops\n",
    "\n",
    "Los for loops sirven para **repetir** una misma acción en una serie de valores. Es decir, el ``for`` **itera** a través de valores\n",
    "\n",
    "La estructura de los ```for``` es:\n",
    "\n",
    "```python\n",
    "for valor in <grupo de valores>:\n",
    "    hacer algo\n",
    "\n",
    "```"
   ]
  },
  {
   "cell_type": "code",
   "execution_count": null,
   "metadata": {},
   "outputs": [],
   "source": [
    "edades = [5, 13, 17, 33, 45, 60]\n",
    "\n",
    "for edad in edades:\n",
    "    edad_mayor = edad + 5\n",
    "    print(\"hoy tengo \" + str(edad) + \", en 5 años tendré \" + str(edad_mayor))\n",
    "    "
   ]
  },
  {
   "cell_type": "code",
   "execution_count": null,
   "metadata": {},
   "outputs": [],
   "source": [
    "total = 0\n",
    "\n",
    "for i in range(1, 11, 5):\n",
    "    print(i)\n",
    "    #total += i\n",
    "#print(\"el total es\", total) "
   ]
  },
  {
   "cell_type": "code",
   "execution_count": null,
   "metadata": {},
   "outputs": [],
   "source": [
    "# for i in range(30):\n",
    "#     print(i)"
   ]
  },
  {
   "cell_type": "markdown",
   "metadata": {},
   "source": [
    " #### OJO!!!! : cuando esten iterando por una lista, no modifiquen la misma lista!!!! : NO HAGAN ESTOOO:"
   ]
  },
  {
   "cell_type": "code",
   "execution_count": null,
   "metadata": {},
   "outputs": [],
   "source": [
    "edades = [5, 17, 33, 45, 60]\n",
    "for elem in edades:\n",
    "    print(edades)\n",
    "    edades.pop(3)   #### NUNCA HAGAN ESTOOOO"
   ]
  },
  {
   "cell_type": "markdown",
   "metadata": {},
   "source": [
    "LO MEJOR ES CREAR UNA LISTA NUEVA SI QUEREMOS MODIFICAR LA ANTIGUA"
   ]
  },
  {
   "cell_type": "code",
   "execution_count": null,
   "metadata": {},
   "outputs": [],
   "source": [
    "edades = [5, 17, 33, 45, 60]\n",
    "\n",
    "new_lst = []\n",
    "\n",
    "for edad in edades:\n",
    "    edad +=5\n",
    "    new_lst.append(edad) ## se puede usar los métodos \n",
    "print(new_lst)\n",
    "print(edades) ## el término \"edad\" no modifica la lista en sí"
   ]
  },
  {
   "cell_type": "code",
   "execution_count": null,
   "metadata": {},
   "outputs": [],
   "source": [
    "edades2 = [5, 17, 33, 45, 60]\n",
    "edades2.append(65)\n",
    "edades2"
   ]
  },
  {
   "cell_type": "markdown",
   "metadata": {},
   "source": [
    "Podemos introducir statements condicionales a nuestros `for` loops"
   ]
  },
  {
   "cell_type": "code",
   "execution_count": null,
   "metadata": {},
   "outputs": [],
   "source": [
    "edades = [5, 17, 33, 45, 60]\n",
    "\n",
    "for edad in edades:\n",
    "    if edad > 20:\n",
    "        print(edad)\n",
    "    else:\n",
    "        edad += 1\n",
    "        print(edad)\n"
   ]
  },
  {
   "cell_type": "code",
   "execution_count": null,
   "metadata": {},
   "outputs": [],
   "source": [
    "\n",
    "ingreso_anual = [10_000, 20_000, 50_000, 120_000, 1000000, 6_000_000]\n",
    "uit = 4600\n",
    "\n",
    "\n",
    "for ingreso in ingreso_anual:\n",
    "    if ingreso <= 5 * uit:\n",
    "        impuesto = 0.08 * ingreso\n",
    "        print(\"si mi ingreso es\", str(ingreso), \"mi impuesto es\", str(impuesto))\n",
    "    elif (ingreso > 5 * uit) & (ingreso <= 20 * uit):\n",
    "        impuesto = 0.14 * ingreso\n",
    "        print(\"si mi ingreso es\", str(ingreso), \"mi impuesto es\", str(impuesto))\n",
    "    elif (ingreso > 20 * uit) & (ingreso <= 35 * uit):\n",
    "        impuesto = 0.17 * ingreso\n",
    "        print(\"si mi ingreso es\", str(ingreso), \"mi impuesto es\", str(impuesto))\n",
    "    elif (ingreso > 35 * uit) & (ingreso <= 45 * uit):\n",
    "        impuesto = 0.2 * ingreso\n",
    "        print(\"si mi ingreso es\", str(ingreso), \"mi impuesto es\", str(impuesto))      \n",
    "    else:\n",
    "        impuesto = 0.3 * ingreso\n",
    "        print(\"si mi ingreso es\", str(ingreso), \"mi impuesto es\", str(impuesto))"
   ]
  },
  {
   "cell_type": "markdown",
   "metadata": {},
   "source": [
    "En el ejemplo anterior que teníamos de focalización de Cuna más\n",
    "\n",
    "<img src=\"img/focalizacion.png\">"
   ]
  },
  {
   "cell_type": "code",
   "execution_count": null,
   "metadata": {},
   "outputs": [],
   "source": [
    "rural = False\n",
    "#Definiendo un distrito rural\n",
    "## Significa que es el area a evaluar es rural o no\n",
    "# pobreza = 20\n",
    "# centros_rural = 60\n",
    "# desnutricion_cronica = 35\n",
    "# es_juntos = True\n",
    "\n",
    "pobreza = 30\n",
    "num_ccpp_urbano = 3\n",
    "\n",
    "if rural:\n",
    "    UMBRAL_POBREZA = 50\n",
    "    UMBRAL_RURAL = 50\n",
    "    DESNUTRICION_CRONICA = 30\n",
    "    \n",
    "    es_cunamas = ((pobreza >= UMBRAL_POBREZA) and (centros_rural >= UMBRAL_RURAL) and \\\n",
    "    (desnutricion_cronica >= DESNUTRICION_CRONICA)  \\\n",
    "    and es_juntos) \n",
    "if not rural:\n",
    "    UMBRAL_POBREZA = 19.1\n",
    "    CCPP_URBANO = 1\n",
    "    es_cunamas =((pobreza >= UMBRAL_POBREZA) and (num_ccpp_urbano >= CCPP_URBANO)) "
   ]
  },
  {
   "cell_type": "code",
   "execution_count": null,
   "metadata": {},
   "outputs": [],
   "source": [
    "es_cunamas"
   ]
  },
  {
   "cell_type": "markdown",
   "metadata": {},
   "source": [
    "Qué pasaría si tenemos varios distritos?"
   ]
  },
  {
   "cell_type": "code",
   "execution_count": null,
   "metadata": {},
   "outputs": [],
   "source": [
    "rural = [True, True, False, True, False]\n",
    "pobreza = [40, 55, 25, 60, 30]\n",
    "num_ccpp_urbano =[1,2,3,4,5]\n",
    "desnutricion_cronica = [50,30,40,20,45]\n",
    "centros_rural = [60,55,40,50,20]\n",
    "es_juntos = [True, True, True, True, True]\n",
    "cuna_o_no = []"
   ]
  },
  {
   "cell_type": "code",
   "execution_count": null,
   "metadata": {},
   "outputs": [],
   "source": [
    "for i in range(5):\n",
    "    \n",
    "    distrito_rural = rural[i]\n",
    "    distrito_pobreza = pobreza[i]\n",
    "    distrito_cc_rural = centros_rural[i]\n",
    "    distrito_dc = desnutricion_cronica[i]\n",
    "    distrito_ccpp_urb = num_ccpp_urbano[i]\n",
    "    distrito_juntos = es_juntos[i]\n",
    "    \n",
    "    if distrito_rural:\n",
    "        UMBRAL_POBREZA = 50\n",
    "        UMBRAL_RURAL = 50\n",
    "        DESNUTRICION_CRONICA = 30\n",
    "    \n",
    "        es_cunamas = ((distrito_pobreza >= UMBRAL_POBREZA) and (distrito_cc_rural >= UMBRAL_RURAL) and \\\n",
    "        (distrito_dc >= DESNUTRICION_CRONICA)  \\\n",
    "        and distrito_juntos) \n",
    "        cuna_o_no.append(es_cunamas)\n",
    "    if not distrito_rural:\n",
    "        UMBRAL_POBREZA = 19.1\n",
    "        CCPP_URBANO = 1\n",
    "        es_cunamas =((distrito_pobreza >= UMBRAL_POBREZA) and (distrito_ccpp_urb >= CCPP_URBANO)) \n",
    "        cuna_o_no.append(es_cunamas)"
   ]
  },
  {
   "cell_type": "code",
   "execution_count": null,
   "metadata": {},
   "outputs": [],
   "source": [
    "cuna_o_no"
   ]
  },
  {
   "cell_type": "markdown",
   "metadata": {},
   "source": [
    "[Vuelve al principio de la sección](#loop)"
   ]
  },
  {
   "cell_type": "markdown",
   "metadata": {},
   "source": [
    "<a class=\"anchor\" id=\"nested\"></a>\n",
    "\n",
    "### Loops anidados\n",
    "\n",
    "Son los loops dentro de loops. En el ejemplo, imaginemos que queramos exponenciar los elementos de ```lst_a``` por los elementos de la ```lst_b```"
   ]
  },
  {
   "cell_type": "code",
   "execution_count": null,
   "metadata": {},
   "outputs": [],
   "source": [
    "lst_a = [1, 2, 3, 4, 5]\n",
    "lst_b  = [2, 3]\n",
    "\n",
    "for num in lst_a:\n",
    "    for exp in lst_b:\n",
    "        result = num ** exp\n",
    "        print(str(num) + \" elevado  al valor de \" + str(exp) + \" es \" + str(result))"
   ]
  },
  {
   "cell_type": "code",
   "execution_count": null,
   "metadata": {},
   "outputs": [],
   "source": [
    "lst_a = [1, 2, 3, 4, 5]\n",
    "lst_b  = [2, 3]\n",
    "\n",
    "for exp in lst_b:\n",
    "    for num in lst_a:\n",
    "        result = num ** exp\n",
    "        print(str(num) + \" elevado  al valor de \" + str(exp) + \" es \" + str(result))"
   ]
  },
  {
   "cell_type": "markdown",
   "metadata": {},
   "source": [
    "El teorema de Pitágoras dice que la hipotenusa al cuadrago de un triángulo rectángulo es igual a la suma de los cuadrados de sus lados, o que $a^2 + b^2 = c^2$. Un trío pitagórico es el conjunto de 3 números enteros que cumplen dicha igualdad. ¿Qué set de números cumplirían dicha igualdad en los 25 primeros números enteros?"
   ]
  },
  {
   "cell_type": "code",
   "execution_count": null,
   "metadata": {},
   "outputs": [],
   "source": [
    "set_a = range(1,25)\n",
    "set_b = range(1,25)\n",
    "set_c = range(1,25)\n",
    "\n",
    "for a in set_a:\n",
    "    for b in set_b:\n",
    "        for c in set_c:\n",
    "            if a**2 + b**2 == c**2:\n",
    "                print(a,b,c)\n"
   ]
  },
  {
   "cell_type": "markdown",
   "metadata": {},
   "source": [
    "[Vuelve al principio de la sección](#loop)"
   ]
  },
  {
   "cell_type": "markdown",
   "metadata": {},
   "source": [
    "<a class=\"anchor\" id=\"while\"></a>\n",
    "\n",
    "###  ```while``` loops\n",
    "\n",
    "Los while loops repiten una acción siempre y cuando **se cumpla** una condición. La estructura de esta operación es:\n",
    "\n",
    "```python\n",
    "while condicion is True:\n",
    "    repetir una acción\n",
    "    hasta que la condicion sea False\n",
    "\n",
    "```"
   ]
  },
  {
   "cell_type": "code",
   "execution_count": null,
   "metadata": {},
   "outputs": [],
   "source": [
    "suma = 0\n",
    "N = 1000\n",
    "i = 0\n",
    "\n",
    "while i < N:\n",
    "    suma +=i\n",
    "    i+=1\n",
    "    #print(i)\n",
    "print(suma)"
   ]
  },
  {
   "cell_type": "markdown",
   "metadata": {},
   "source": [
    "Imaginemos que mis ingresos son 100 soles y solo los gasto en juegos de switch, que cuestan 7 soles. Mientras que me alcance el dinero, quiero  comprar un juego de switch por día. ¿Cuántos juegos (adquiridos por día) puedo  comprar?"
   ]
  },
  {
   "cell_type": "code",
   "execution_count": null,
   "metadata": {},
   "outputs": [],
   "source": [
    "ingresos = 100\n",
    "gastos = 0\n",
    "\n",
    "precio_juegos_switch = 7\n",
    "\n",
    "juegos_que_compre = 0\n",
    "\n",
    "while gastos < ingresos:\n",
    "    gastos += precio_juegos_switch\n",
    "    juegos_que_compre += 1\n",
    "    \n",
    "print(f'Me alcanzan para {juegos_que_compre} juegos, en {juegos_que_compre} días y me gasté {gastos} soles')\n",
    "\n"
   ]
  },
  {
   "cell_type": "markdown",
   "metadata": {},
   "source": [
    "¿cómo modifico el programa en caso quiera comprar más de un juego por día?"
   ]
  },
  {
   "cell_type": "code",
   "execution_count": null,
   "metadata": {},
   "outputs": [],
   "source": [
    "ingresos = 100\n",
    "gastos = 0\n",
    "\n",
    "precio_juegos_switch = 7\n",
    "juegos_por_dia = 3\n",
    "juegos_que_compre = 0\n",
    "dias = 0 \n",
    "while gastos < ingresos:\n",
    "    gastos += precio_juegos_switch*juegos_por_dia\n",
    "    juegos_que_compre += juegos_por_dia\n",
    "    dias += 1\n",
    "    \n",
    "print(f'Me alcanzan para {juegos_que_compre} juegos, en {dias} días y me gasté {gastos} soles')\n",
    "\n",
    "\n"
   ]
  },
  {
   "cell_type": "markdown",
   "metadata": {},
   "source": [
    "[Vuelve al principio de la sección](#loop)"
   ]
  },
  {
   "cell_type": "markdown",
   "metadata": {},
   "source": [
    "<a class=\"anchor\" id=\"break\"></a>\n",
    "\n",
    "### ``` break``` y ``` continue```. \n",
    "A veces queremos que nuestro programa termine temprano cuando una condición dentro de nuestro buccle ya se ha cumplido. Cuando este es el caso, usamos el ```break``` para que el programa arroje los resultados que tiene a dicho \"corte\". \n",
    "\n",
    "Por otro lado, hay veces donde queremos que el programa \"ignore\" nuestras instrucciones dependiendo de una condición. Es decir, el bucle pasará por alto esto"
   ]
  },
  {
   "cell_type": "code",
   "execution_count": null,
   "metadata": {},
   "outputs": [],
   "source": [
    "## Ejemplo de break\n",
    "suma = 0\n",
    "N = 1000\n",
    "i = 0\n",
    "while i < N:\n",
    "    suma +=i\n",
    "    i+= 1\n",
    "    #print(i)\n",
    "    if suma > 5000:\n",
    "        break\n",
    "    \n",
    "#print(suma, \" esta es la suma\")\n",
    "\n"
   ]
  },
  {
   "cell_type": "code",
   "execution_count": null,
   "metadata": {},
   "outputs": [],
   "source": [
    "ingresos = 100\n",
    "gastos = 0\n",
    "\n",
    "precio_juegos_switch = 7\n",
    "juegos_que_compre = 0\n",
    "\n",
    "while gastos < ingresos:\n",
    "    if gastos + juegos_switch > ingresos:\n",
    "        break\n",
    "    else:\n",
    "        gastos += juegos_switch\n",
    "        juegos_que_compre += 1\n",
    "    \n",
    "print(f'Me alcanzan para {juegos_que_compre} juegos y me gasté {gastos} soles')"
   ]
  },
  {
   "cell_type": "code",
   "execution_count": null,
   "metadata": {},
   "outputs": [],
   "source": [
    "### Ejemplo de continue\n",
    "abecedario = list('abcdefghijklmnopqrstuvwxyz')\n",
    "vocales = ['a','e','i','o','u']\n",
    "for letra in abecedario:\n",
    "    if  letra in vocales:\n",
    "        continue\n",
    "    print(letra, \"no es una vocal\")"
   ]
  },
  {
   "cell_type": "code",
   "execution_count": null,
   "metadata": {},
   "outputs": [],
   "source": [
    "## el list es un constructor que vuelve una serie de strings en elementos individuales de una lista\n",
    "abecedario = list('abcdefghijklmnopqrstuvwxyz')\n",
    "abecedario"
   ]
  },
  {
   "cell_type": "markdown",
   "metadata": {},
   "source": [
    "#### Más ejemplos"
   ]
  },
  {
   "cell_type": "markdown",
   "metadata": {},
   "source": [
    "1.  Si listamos todos los números naturales por debajo de 10, que son múltiplos de 3 o 5, nos quedamos con 3, 5, 6 y 9. La suma de estos es 23. Propón una solución tal que la suma de todos los múltiplos debajo de 3 o 5 debajo de un número n sean pasados. \n"
   ]
  },
  {
   "cell_type": "code",
   "execution_count": null,
   "metadata": {},
   "outputs": [],
   "source": [
    "N = 35\n",
    "\n",
    "suma = 0\n",
    "\n",
    "for n in range(N):\n",
    "    if (n % 3) == 0 or (n % 5) == 0:\n",
    "        print(n)\n",
    "        suma +=n\n",
    "print(suma)"
   ]
  },
  {
   "cell_type": "markdown",
   "metadata": {},
   "source": [
    "2. #### Un jueguito de dados (adaptado de (https://www.geeksforgeeks.org/game-of-craps-in-python)\n",
    "\n",
    "Cuando tiro 2 dados, hay 6 combinaciones que suman 7 [(1,6), (6,1), (2,5), (5,2), (3,4), (4,3)], mientras que hay solo 2 combinaciones que suman 11 [(5,6), (6,5)], lo cual nos dice  que hay 3 veces más probabilidad de obtener 7 que 11. Chequea esto realizando una simulación en donde se lanzan los dados 1000 veces, y comprueba que el ratio del número de veces en los que sale 7 respecto al número de veces donde sale 11 es 3.\n"
   ]
  },
  {
   "cell_type": "code",
   "execution_count": null,
   "metadata": {},
   "outputs": [],
   "source": [
    "import random"
   ]
  },
  {
   "cell_type": "code",
   "execution_count": null,
   "metadata": {},
   "outputs": [],
   "source": [
    "sims = 1000\n",
    "es_7 = 0\n",
    "es_11 = 0\n",
    "\n",
    "for i in range(sims):\n",
    "    suma_dados = random.randint(1,6) + random.randint(1,6)\n",
    "    if suma_dados == 7:\n",
    "        es_7 +=1\n",
    "    elif suma_dados == 11:\n",
    "        es_11 += 1\n",
    "        "
   ]
  },
  {
   "cell_type": "code",
   "execution_count": null,
   "metadata": {},
   "outputs": [],
   "source": [
    "es_7 / es_11"
   ]
  },
  {
   "cell_type": "markdown",
   "metadata": {},
   "source": [
    "[Vuelve al principio](#scondic)  \n",
    "[Vuelve al principio de la sección](#loop)"
   ]
  },
  {
   "cell_type": "markdown",
   "metadata": {},
   "source": [
    "## Referencias:\n",
    "\n",
    "Para esta clase, el capítulo de Flow Control de \"Automating the Boring Stuff\" fue tomado como principal referencia. \n",
    "Se encuentra gratis aquí: https://automatetheboringstuff.com/"
   ]
  },
  {
   "cell_type": "code",
   "execution_count": null,
   "metadata": {},
   "outputs": [],
   "source": []
  }
 ],
 "metadata": {
  "kernelspec": {
   "display_name": "Python 3",
   "language": "python",
   "name": "python3"
  },
  "language_info": {
   "codemirror_mode": {
    "name": "ipython",
    "version": 3
   },
   "file_extension": ".py",
   "mimetype": "text/x-python",
   "name": "python",
   "nbconvert_exporter": "python",
   "pygments_lexer": "ipython3",
   "version": "3.8.5"
  }
 },
 "nbformat": 4,
 "nbformat_minor": 4
}
