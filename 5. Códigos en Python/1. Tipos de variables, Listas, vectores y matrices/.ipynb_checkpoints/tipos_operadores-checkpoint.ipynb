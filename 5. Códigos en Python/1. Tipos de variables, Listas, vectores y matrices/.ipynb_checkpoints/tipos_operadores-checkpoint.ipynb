{
 "cells": [
  {
   "cell_type": "markdown",
   "metadata": {},
   "source": [
    "# Clase 1: Variables, tipos de datos, operadores y expresiones"
   ]
  },
  {
   "cell_type": "markdown",
   "metadata": {},
   "source": [
    "<a class=\"anchor\" id=\"principio\"></a>\n",
    "\n",
    "## Introducción"
   ]
  },
  {
   "cell_type": "markdown",
   "metadata": {},
   "source": [
    "En esta primera sesión revisaremos las piezas más pequeñas que conforman un programa. En esencia un programa es una serie de instrucciones que escribimos en un lenguaje determinado para que la máquina nos entienda. \n",
    "Veremos 4 elementos iniciales importantes para poder escribir programas:\n",
    "\n",
    "[1. Variables](#variables)   \n",
    "[2. Tipos de datos](#tipos-de-datos)  \n",
    "[3. Operadores](#operadores)  \n",
    "[4. Expresiones](#expresiones)  "
   ]
  },
  {
   "cell_type": "markdown",
   "metadata": {},
   "source": [
    "<a class=\"anchor\" id=\"variables\"></a>\n",
    "## 1. Variables"
   ]
  },
  {
   "cell_type": "markdown",
   "metadata": {},
   "source": [
    "Las variables son todo aquello que definiremos con un nombre, y a lo que nos referiremos después si queremos usarlo. Las variables pueden ser datos, texto, números, pero también cosas más complicadas como funciones, o incluso otros programas. \n",
    "\n",
    "Las variables son, también, un nombre simbólico que representa la ubicación en la memoria de una computadora. "
   ]
  },
  {
   "cell_type": "markdown",
   "metadata": {},
   "source": [
    "Se utiliza el operador = para asignarle el valor a la variable"
   ]
  },
  {
   "cell_type": "code",
   "execution_count": 1,
   "metadata": {},
   "outputs": [
    {
     "name": "stdout",
     "output_type": "stream",
     "text": [
      "Buenos días con todas y todos\n"
     ]
    }
   ],
   "source": [
    "bienvenida = \"Buenos días con todas y todos\"\n",
    "print(bienvenida)"
   ]
  },
  {
   "cell_type": "code",
   "execution_count": 2,
   "metadata": {},
   "outputs": [
    {
     "name": "stdout",
     "output_type": "stream",
     "text": [
      "6\n"
     ]
    }
   ],
   "source": [
    "operacion = 1 + 2 + 3\n",
    "print(operacion)"
   ]
  },
  {
   "cell_type": "markdown",
   "metadata": {},
   "source": [
    "Se puede reasignar el valor de una variable: "
   ]
  },
  {
   "cell_type": "code",
   "execution_count": 3,
   "metadata": {},
   "outputs": [
    {
     "name": "stdout",
     "output_type": "stream",
     "text": [
      "15\n"
     ]
    }
   ],
   "source": [
    "operacion = 4 + 5 + 6\n",
    "print(operacion)"
   ]
  },
  {
   "cell_type": "markdown",
   "metadata": {},
   "source": [
    "No se puede llamar a una variable no definida!"
   ]
  },
  {
   "cell_type": "code",
   "execution_count": 4,
   "metadata": {},
   "outputs": [
    {
     "ename": "NameError",
     "evalue": "name 'nueva_operacion' is not defined",
     "output_type": "error",
     "traceback": [
      "\u001b[0;31m---------------------------------------------------------------------------\u001b[0m",
      "\u001b[0;31mNameError\u001b[0m                                 Traceback (most recent call last)",
      "\u001b[0;32m<ipython-input-4-f2a851930a89>\u001b[0m in \u001b[0;36m<module>\u001b[0;34m\u001b[0m\n\u001b[0;32m----> 1\u001b[0;31m \u001b[0mnueva_operacion\u001b[0m\u001b[0;34m\u001b[0m\u001b[0;34m\u001b[0m\u001b[0m\n\u001b[0m",
      "\u001b[0;31mNameError\u001b[0m: name 'nueva_operacion' is not defined"
     ]
    }
   ],
   "source": [
    "nueva_operacion"
   ]
  },
  {
   "cell_type": "markdown",
   "metadata": {},
   "source": [
    "[Volver a inicio](#principio)"
   ]
  },
  {
   "cell_type": "markdown",
   "metadata": {},
   "source": [
    "<a class=\"anchor\" id=\"tipos-de-datos\"></a>\n",
    "\n",
    "## 2. Tipos de datos"
   ]
  },
  {
   "cell_type": "markdown",
   "metadata": {},
   "source": [
    "Todas las variables de python son de algún (y único) tipo. De los ejemplos anteriores tenemos: "
   ]
  },
  {
   "cell_type": "code",
   "execution_count": null,
   "metadata": {},
   "outputs": [],
   "source": [
    "type(bienvenida)"
   ]
  },
  {
   "cell_type": "code",
   "execution_count": null,
   "metadata": {},
   "outputs": [],
   "source": [
    "type(operacion)"
   ]
  },
  {
   "cell_type": "markdown",
   "metadata": {},
   "source": [
    "Los tipos más básicos son: \n",
    "- integers/floats(números)\n",
    "- strings\n",
    "- booleans"
   ]
  },
  {
   "cell_type": "markdown",
   "metadata": {},
   "source": [
    "Más generalmente,  los tipos de datos son:  \n",
    "\n",
    "\n",
    "\n",
    "\n",
    "| Tipo              | Nombre                                                  |\n",
    "|------------------------|-------------------------------------------------------|\n",
    "| Texto                   | str                                        |\n",
    "| Números       | integers(int), floats(float), complejos(complex) |\n",
    "| Secuencias                 | listas(list) ,tuplas (tuple), rango(range)                             |\n",
    "| Mapeo | diccionarios (dict)                                  |\n",
    "| Conjuntos                  | conjuntos(set), frozenset                                          |\n",
    "| Booleans                   | bool                                        |\n",
    "| Binarios                   | bytes, bytearray, memoryview                                        |\n",
    "\n",
    "Esta clase pondrá énfasis en los más básicos.\n"
   ]
  },
  {
   "cell_type": "markdown",
   "metadata": {},
   "source": [
    "### Números (Integers y floats)"
   ]
  },
  {
   "cell_type": "code",
   "execution_count": null,
   "metadata": {},
   "outputs": [],
   "source": [
    "num = 20\n",
    "type(num)"
   ]
  },
  {
   "cell_type": "code",
   "execution_count": null,
   "metadata": {},
   "outputs": [],
   "source": [
    "num = 20.1\n",
    "type(num)"
   ]
  },
  {
   "cell_type": "markdown",
   "metadata": {},
   "source": [
    "Los integers almacenan el número exacto asignado. \n",
    "En cambio, los floats almacenan una aproximación de ese número, llamado _punto flotante_. La diferencia entre ambos es la parte decimal."
   ]
  },
  {
   "cell_type": "code",
   "execution_count": null,
   "metadata": {},
   "outputs": [],
   "source": [
    "num = 20.0\n",
    "type(num)\n",
    "\n"
   ]
  },
  {
   "cell_type": "markdown",
   "metadata": {},
   "source": [
    "OJO: Python tiene palabras reservadas. No llamar a una variable como un tipo de dato _int_, _str_, _float_. Estos son ejemplos de palabras reservadas en Python que no se deben utilizar como nombres. "
   ]
  },
  {
   "cell_type": "code",
   "execution_count": null,
   "metadata": {},
   "outputs": [],
   "source": [
    "import keyword\n",
    "print(keyword.kwlist)"
   ]
  },
  {
   "cell_type": "code",
   "execution_count": null,
   "metadata": {},
   "outputs": [],
   "source": [
    "import builtins\n",
    "dir(builtins)"
   ]
  },
  {
   "cell_type": "markdown",
   "metadata": {},
   "source": [
    "OJO: Tener precaución al hacer que un programa dependa de un _float_, por ejemplo: "
   ]
  },
  {
   "cell_type": "code",
   "execution_count": null,
   "metadata": {},
   "outputs": [],
   "source": [
    "import math \n",
    "\n",
    "pi_manual = 3.141592653589793\n",
    "pi_aprox = 3.141592653589\n",
    "\n",
    "print(math.pi == pi_manual, \"si es que pi_exacto == pi manual\")\n",
    "print(math.pi == pi_aprox, \"si es que pi_exacto == pi aproximado\")\n",
    "\n",
    "if pi_aprox == math.pi:\n",
    "    print(pi_aprox,\" sí es pi!\")\n",
    "else:\n",
    "    print(pi_aprox,\" no es pi!\")"
   ]
  },
  {
   "cell_type": "code",
   "execution_count": null,
   "metadata": {},
   "outputs": [],
   "source": [
    "math.pi"
   ]
  },
  {
   "cell_type": "markdown",
   "metadata": {},
   "source": [
    "### Strings"
   ]
  },
  {
   "cell_type": "markdown",
   "metadata": {},
   "source": [
    "Hay diferentes formas de crear strings, por ejemplo:"
   ]
  },
  {
   "cell_type": "code",
   "execution_count": null,
   "metadata": {},
   "outputs": [],
   "source": [
    "mensaje = \"Aquí uso dos apóstrofes\"\n",
    "print(mensaje)"
   ]
  },
  {
   "cell_type": "code",
   "execution_count": null,
   "metadata": {},
   "outputs": [],
   "source": [
    "mensaje = 'Aquí uso un apóstrofe'\n",
    "print(mensaje)"
   ]
  },
  {
   "cell_type": "code",
   "execution_count": null,
   "metadata": {},
   "outputs": [],
   "source": [
    "haiku = '''¿Es un imperio\n",
    "esa luz que se apaga\n",
    "o una luciérnaga?'''\n",
    "print(haiku)"
   ]
  },
  {
   "cell_type": "code",
   "execution_count": null,
   "metadata": {},
   "outputs": [],
   "source": [
    "haiku = \"\"\"Al Fuji subes\n",
    "despacio —pero subes,\n",
    "caracolito.\"\"\"\n",
    "print(haiku)"
   ]
  },
  {
   "cell_type": "markdown",
   "metadata": {},
   "source": [
    "### Booleans"
   ]
  },
  {
   "cell_type": "markdown",
   "metadata": {},
   "source": [
    "Los booleans son variables que simplemente indican Verdadero (True) o Falso (False)"
   ]
  },
  {
   "cell_type": "code",
   "execution_count": null,
   "metadata": {},
   "outputs": [],
   "source": [
    "la_true = True\n",
    "la_fols = False"
   ]
  },
  {
   "cell_type": "code",
   "execution_count": null,
   "metadata": {},
   "outputs": [],
   "source": [
    "print(la_true)\n",
    "print(la_fols)"
   ]
  },
  {
   "cell_type": "markdown",
   "metadata": {},
   "source": [
    "Los booleans se evalúan como 1 (True) y 0 (False), por ello: "
   ]
  },
  {
   "cell_type": "code",
   "execution_count": null,
   "metadata": {},
   "outputs": [],
   "source": [
    "la_true > la_fols"
   ]
  },
  {
   "cell_type": "markdown",
   "metadata": {},
   "source": [
    "### el valor `None`"
   ]
  },
  {
   "cell_type": "markdown",
   "metadata": {},
   "source": [
    "Este es un valor especial que se usa cuando queremos definir una variable que aún no tiene un valor, y que usualmente será actualizada luego. Es como una variable vacía"
   ]
  },
  {
   "cell_type": "code",
   "execution_count": null,
   "metadata": {},
   "outputs": [],
   "source": [
    "almuerzo  = None\n",
    "if almuerzo is None:\n",
    "    comer_almuerzo = True\n",
    "print(comer_almuerzo)"
   ]
  },
  {
   "cell_type": "code",
   "execution_count": null,
   "metadata": {},
   "outputs": [],
   "source": [
    "almuerzo = None\n",
    "if almuerzo == None:\n",
    "    almuerzo = 1"
   ]
  },
  {
   "cell_type": "markdown",
   "metadata": {},
   "source": [
    "#### Consideraciones a tener en cuenta\n",
    "\n",
    "1) Python es sensible a mayúsculas y minúsculas, tengan esto en cuenta cuando nombren a sus variables"
   ]
  },
  {
   "cell_type": "code",
   "execution_count": null,
   "metadata": {},
   "outputs": [],
   "source": [
    "ab = 12\n",
    "AB = 24\n",
    "Ab = 36\n",
    "print(ab + AB + Ab)"
   ]
  },
  {
   "cell_type": "markdown",
   "metadata": {},
   "source": [
    "2) Hay convenciones para nombrar variables en python. Nosotros usaremos el snake case, o el _minusculas_con_guion_bajo_.      \n",
    "\n",
    "Este es el default para nombrar variables en python.  \n",
    "\n",
    "\n",
    "(Por ejemplo hay otras, como el CamelCase, que es primera letra mayúscula y sin espacios)."
   ]
  },
  {
   "cell_type": "markdown",
   "metadata": {},
   "source": [
    "#### 3) Dynamic Typing\n",
    "\n",
    "El lenguaje python es lo que se conoce como tipeado dinámicamente. Es decir, cuando creamos una variable, no hace falta definir de qué tipo es ya que Python _adivina_ a qué tipo corresponde la variable. Asimismo, cuando reemplazamos la variable por otra, este reemplazo puede ser _de otro tipo_. \n",
    "\n",
    "Esto es bueno pero puede crear inconvenientes: \n",
    "\n"
   ]
  },
  {
   "cell_type": "code",
   "execution_count": null,
   "metadata": {},
   "outputs": [],
   "source": [
    "num_a = 15\n",
    "num_b = 20\n",
    "num_c = num_a + num_b \n",
    "print(\"num_c:\", num_c)\n",
    "num_a = \"ah\"  # Volví a definir num_a, cambié el tipo y sale error\n",
    "num_d = num_a + num_b \n",
    "print(num_d)"
   ]
  },
  {
   "cell_type": "markdown",
   "metadata": {},
   "source": [
    "4) Los strings vienen con métodos adicionales. Por ejemplo los strings vienen con métodos para volverlos mayúscula."
   ]
  },
  {
   "cell_type": "code",
   "execution_count": null,
   "metadata": {},
   "outputs": [],
   "source": [
    "bienvenida = \"Buenos días con todas y todos\"\n",
    "bienvenida.upper()"
   ]
  },
  {
   "cell_type": "markdown",
   "metadata": {},
   "source": [
    "[Volver a inicio](#principio)"
   ]
  },
  {
   "cell_type": "markdown",
   "metadata": {},
   "source": [
    "En general, los _strings_ vendrán con estos _métodos_ adicionales con los que valen la pena familarizarse"
   ]
  },
  {
   "cell_type": "markdown",
   "metadata": {},
   "source": [
    "<a class=\"anchor\" id=\"operadores\"></a>\n",
    "\n",
    "## 3. Operadores"
   ]
  },
  {
   "cell_type": "markdown",
   "metadata": {},
   "source": [
    "Los operadores nos permitirán hacer justo eso: Operaciones!. Vamos a ver los más importantes:"
   ]
  },
  {
   "cell_type": "markdown",
   "metadata": {},
   "source": [
    "### Operadores aritméticos"
   ]
  },
  {
   "cell_type": "code",
   "execution_count": null,
   "metadata": {},
   "outputs": [],
   "source": [
    "# Suma\n",
    "a = 4 + 5 + 1000000000000000\n",
    "a"
   ]
  },
  {
   "cell_type": "code",
   "execution_count": null,
   "metadata": {},
   "outputs": [],
   "source": [
    "# Resta\n",
    "20 - 21 "
   ]
  },
  {
   "cell_type": "code",
   "execution_count": null,
   "metadata": {},
   "outputs": [],
   "source": [
    "# Multiplicación \n",
    "4*5*686858483"
   ]
  },
  {
   "cell_type": "code",
   "execution_count": null,
   "metadata": {},
   "outputs": [],
   "source": [
    "# División \n",
    "50/5"
   ]
  },
  {
   "cell_type": "code",
   "execution_count": null,
   "metadata": {},
   "outputs": [],
   "source": [
    "# Exponencial\n",
    "2**3"
   ]
  },
  {
   "cell_type": "code",
   "execution_count": null,
   "metadata": {},
   "outputs": [],
   "source": [
    "# Piso (la parte entera de la división)\n",
    "250 // 6"
   ]
  },
  {
   "cell_type": "code",
   "execution_count": null,
   "metadata": {},
   "outputs": [],
   "source": [
    "# Módulo (el residuo de la división)\n",
    "250 % 6"
   ]
  },
  {
   "cell_type": "code",
   "execution_count": null,
   "metadata": {},
   "outputs": [],
   "source": [
    "11 % 2"
   ]
  },
  {
   "cell_type": "markdown",
   "metadata": {},
   "source": [
    "Python puede mezclar estos operadores!\n"
   ]
  },
  {
   "cell_type": "code",
   "execution_count": null,
   "metadata": {},
   "outputs": [],
   "source": [
    "1 + 5 + 7 / 6 **2 + 250 % 8"
   ]
  },
  {
   "cell_type": "markdown",
   "metadata": {},
   "source": [
    "Sin embargo, ten en cuenta que existe un orden de evaluación de estos operadores, que corresponden a las reglas matemáticas convencionales. El orden en el que los operadores serán evaluados son:"
   ]
  },
  {
   "cell_type": "markdown",
   "metadata": {},
   "source": [
    "| Operador              | Nombre                                                  |\n",
    "|------------------------|-------------------------------------------------------|\n",
    "| `**`                   | Exponencial                                        |\n",
    "| `*, /, //, %, @`       | multiplicación, división, piso, módulo, at |\n",
    "| `+, -`                 | más, menos                            |\n",
    "| `<, <=, >, >=, !=, ==` | Operadores de comparación                                  |\n",
    "| `not`                   | Booleano NOT                                        |\n",
    "| `and`                   | Booleano AND                                        |\n",
    "| `or`                   | Booleano OR                                        |\n"
   ]
  },
  {
   "cell_type": "markdown",
   "metadata": {},
   "source": [
    "Esto hace variar la prioridad del operador. La forma como \"rompemos\" esta prioridad es utilizando paréntesis (). En el ejemplo anterior:  "
   ]
  },
  {
   "cell_type": "code",
   "execution_count": null,
   "metadata": {},
   "outputs": [],
   "source": [
    "(1 + 5 + 7) / 6 **2 + 250 % 8"
   ]
  },
  {
   "cell_type": "code",
   "execution_count": null,
   "metadata": {},
   "outputs": [],
   "source": [
    "(1 + 5 + 7) / 6 **(2 + 250) % 8"
   ]
  },
  {
   "cell_type": "code",
   "execution_count": null,
   "metadata": {},
   "outputs": [],
   "source": [
    "1 + ((5 + 7) / 6 **2) + (250 % 8)"
   ]
  },
  {
   "cell_type": "markdown",
   "metadata": {},
   "source": [
    "### Operadores de comparación\n",
    "\n",
    "Los siguientes operadores realizan comparaciones entre valores/variables\n",
    "\n",
    "* `>`     Mayor que\n",
    "* `<`     Menor que\n",
    "* `>=`  Mayor o igual que\n",
    "* `<=`  Menor o igual que\n",
    "* `==`  Igual a\n",
    "* `!=`  No igual a\n",
    "\n",
    "Cuando se comparan estos valores, el resultado será True o False. "
   ]
  },
  {
   "cell_type": "code",
   "execution_count": null,
   "metadata": {},
   "outputs": [],
   "source": [
    "10 > 12"
   ]
  },
  {
   "cell_type": "code",
   "execution_count": null,
   "metadata": {},
   "outputs": [],
   "source": [
    "1 < 4"
   ]
  },
  {
   "cell_type": "code",
   "execution_count": null,
   "metadata": {},
   "outputs": [],
   "source": [
    "10 >= 10"
   ]
  },
  {
   "cell_type": "code",
   "execution_count": null,
   "metadata": {},
   "outputs": [],
   "source": [
    "10 == 10"
   ]
  },
  {
   "cell_type": "code",
   "execution_count": null,
   "metadata": {},
   "outputs": [],
   "source": [
    "3.14 == 3.1416"
   ]
  },
  {
   "cell_type": "markdown",
   "metadata": {},
   "source": [
    "Los operadores aritméticos y de comparación se pueden mezclar!"
   ]
  },
  {
   "cell_type": "code",
   "execution_count": null,
   "metadata": {},
   "outputs": [],
   "source": [
    "5 * 6 > 3 **2 - 1"
   ]
  },
  {
   "cell_type": "markdown",
   "metadata": {},
   "source": [
    "### Operadores lógicos/ booleanos\n",
    "\n",
    "Python usa los siguientes 3 operadores booleanos:\n",
    "* `and`\n",
    "* `or`\n",
    "* `not`\n",
    "\n",
    "Estos operadores evalúan dos expresiones que tienen que devolver True o False"
   ]
  },
  {
   "cell_type": "code",
   "execution_count": null,
   "metadata": {},
   "outputs": [],
   "source": [
    "(5 > 4) and (8 > 6)"
   ]
  },
  {
   "cell_type": "code",
   "execution_count": null,
   "metadata": {},
   "outputs": [],
   "source": [
    "(8 * 5) < 64 and (10 < 7)"
   ]
  },
  {
   "cell_type": "code",
   "execution_count": null,
   "metadata": {},
   "outputs": [],
   "source": [
    "(5 > 4) or (8 < 6)"
   ]
  },
  {
   "cell_type": "code",
   "execution_count": null,
   "metadata": {},
   "outputs": [],
   "source": [
    "not (8 < 6)"
   ]
  },
  {
   "cell_type": "markdown",
   "metadata": {},
   "source": [
    "### Operadores de asignación aumentada\n",
    "\n",
    "Estos operadores se vale del `=` y los operadores aritméticos para reasignar un valor, en base a un valor base. Estos son: \n",
    "\n",
    "- `+=`\n",
    "- `-=`\n",
    "- `*=`\n",
    "- `/=`\n",
    "- `//=`\n",
    "- `%=`\n",
    "- `**=`  \n",
    "\n",
    "Veremos cómo funcionan"
   ]
  },
  {
   "cell_type": "code",
   "execution_count": null,
   "metadata": {},
   "outputs": [],
   "source": [
    "x = 1"
   ]
  },
  {
   "cell_type": "code",
   "execution_count": null,
   "metadata": {},
   "outputs": [],
   "source": [
    "x += 9 \n",
    "x"
   ]
  },
  {
   "cell_type": "code",
   "execution_count": null,
   "metadata": {},
   "outputs": [],
   "source": [
    "x -= 9\n",
    "x"
   ]
  },
  {
   "cell_type": "code",
   "execution_count": null,
   "metadata": {},
   "outputs": [],
   "source": [
    "x /= 0.2\n",
    "x"
   ]
  },
  {
   "cell_type": "code",
   "execution_count": null,
   "metadata": {},
   "outputs": [],
   "source": [
    "x = x/0.2"
   ]
  },
  {
   "cell_type": "code",
   "execution_count": null,
   "metadata": {},
   "outputs": [],
   "source": [
    "x //= 2\n",
    "x"
   ]
  },
  {
   "cell_type": "code",
   "execution_count": null,
   "metadata": {},
   "outputs": [],
   "source": [
    "y  = 10\n",
    "y %= 3\n",
    "y"
   ]
  },
  {
   "cell_type": "code",
   "execution_count": null,
   "metadata": {},
   "outputs": [],
   "source": [
    "z = 2\n",
    "z **= 3\n",
    "z"
   ]
  },
  {
   "cell_type": "markdown",
   "metadata": {},
   "source": [
    "[Volver a inicio](#principio)"
   ]
  },
  {
   "cell_type": "markdown",
   "metadata": {},
   "source": [
    "<a class=\"anchor\" id=\"expresiones\"></a>\n",
    "\n",
    "## 4. ¡Finalmente! : Expresiones\n",
    "\n",
    " Las expresiones se dan cuando combinamos las variables, los tipos y los operadores y las volvemos instrucciones. Estas instrucciones serán evaluadas por python para producir nuevos valores.\n",
    " \n",
    "\n",
    "Podemos usar los elementos que tenemos para armar reglas lógicas complejas.   \n",
    "Ejemplo: Criterios de elegibilidad de Cuna Más \n",
    "\n",
    "Los criterios de elegibilidad de Cuna Más son:\n",
    "\n"
   ]
  },
  {
   "cell_type": "markdown",
   "metadata": {},
   "source": [
    "<img src=\"img/focalizacion.png\" width=\"1000\">\n"
   ]
  },
  {
   "cell_type": "code",
   "execution_count": null,
   "metadata": {},
   "outputs": [],
   "source": [
    "#para distritos con centros  poblados rurales:\n",
    "UMBRAL_POBREZA = 50\n",
    "UMBRAL_RURAL = 50\n",
    "DESNUTRICION_CRONICA = 30\n",
    "\n",
    "#Definiendo un distrito \n",
    "pobreza = 20\n",
    "centros_rural = 60\n",
    "desnutricion_cronica = 35\n",
    "es_juntos = True\n",
    "rural = True ## Significa que es el area a evaluar es rural o no\n",
    "\n",
    "((pobreza >= UMBRAL_POBREZA) and (centros_rural >= UMBRAL_RURAL) and \\\n",
    "(desnutricion_cronica >= DESNUTRICION_CRONICA)  \\\n",
    "and es_juntos) and rural  \n"
   ]
  },
  {
   "cell_type": "markdown",
   "metadata": {},
   "source": [
    "### Cómo comentar tu código"
   ]
  },
  {
   "cell_type": "code",
   "execution_count": null,
   "metadata": {},
   "outputs": [],
   "source": [
    "a = 1 # Este es un comentario!\n",
    "\n",
    "# Todo lo que escribamos despues del michi será ignorado por el programa y tomado como comentario. \n"
   ]
  },
  {
   "cell_type": "markdown",
   "metadata": {},
   "source": [
    "### Tip final\n",
    "SIEMPRE COMENTEN SU CODIGO PARA SABER QUE SUCEDE!\n"
   ]
  },
  {
   "cell_type": "markdown",
   "metadata": {},
   "source": [
    "[Volver a inicio](#principio)"
   ]
  },
  {
   "cell_type": "code",
   "execution_count": null,
   "metadata": {},
   "outputs": [],
   "source": []
  }
 ],
 "metadata": {
  "kernelspec": {
   "display_name": "Python 3",
   "language": "python",
   "name": "python3"
  },
  "language_info": {
   "codemirror_mode": {
    "name": "ipython",
    "version": 3
   },
   "file_extension": ".py",
   "mimetype": "text/x-python",
   "name": "python",
   "nbconvert_exporter": "python",
   "pygments_lexer": "ipython3",
   "version": "3.8.5"
  }
 },
 "nbformat": 4,
 "nbformat_minor": 4
}
