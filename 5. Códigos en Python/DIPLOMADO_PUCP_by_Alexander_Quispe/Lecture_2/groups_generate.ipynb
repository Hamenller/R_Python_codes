{
 "cells": [
  {
   "cell_type": "code",
   "execution_count": 1,
   "metadata": {},
   "outputs": [],
   "source": [
    "import numpy as np"
   ]
  },
  {
   "cell_type": "code",
   "execution_count": 31,
   "metadata": {},
   "outputs": [],
   "source": [
    "np.random.seed(123)\n",
    "students = np.arange( 1, 50 )"
   ]
  },
  {
   "cell_type": "code",
   "execution_count": 32,
   "metadata": {},
   "outputs": [],
   "source": [
    "original = np.arange( 0 , 49 ).tolist()\n",
    "results = []"
   ]
  },
  {
   "cell_type": "code",
   "execution_count": 33,
   "metadata": {},
   "outputs": [],
   "source": [
    "for i in range(10):\n",
    "    try:\n",
    "        values = np.random.choice( original, size=5, replace=False)\n",
    "    except:\n",
    "        values = np.random.choice( original, size=4, replace=False)\n",
    "    original = list(set(original).difference(values))\n",
    "    results.append( values )"
   ]
  },
  {
   "cell_type": "code",
   "execution_count": 34,
   "metadata": {},
   "outputs": [],
   "source": [
    "import pandas as pd"
   ]
  },
  {
   "cell_type": "code",
   "execution_count": 35,
   "metadata": {},
   "outputs": [],
   "source": [
    "data1 = pd.read_excel( r\"C:\\Users\\Anzony\\Downloads\\diplomado_pucp.xlsx\" )"
   ]
  },
  {
   "cell_type": "code",
   "execution_count": 36,
   "metadata": {},
   "outputs": [
    {
     "data": {
      "text/plain": [
       "14    GASTAÑADUY FIESTAS, JESUS EDUARDO\n",
       "20        VILLENA TAGLE, CLAUDIA ARIANA\n",
       "34     DE LA CRUZ ORIUNDO, JOSE EDUARDO\n",
       "1              BALBIN INGA, NOE AUGUSTO\n",
       "Name: name_last_name, dtype: object"
      ]
     },
     "execution_count": 36,
     "metadata": {},
     "output_type": "execute_result"
    }
   ],
   "source": [
    "data1.iloc[results[9] , 2 ]"
   ]
  },
  {
   "cell_type": "code",
   "execution_count": 23,
   "metadata": {},
   "outputs": [
    {
     "data": {
      "text/plain": [
       "[array([13,  9, 22, 18, 42]),\n",
       " array([12, 17, 35, 47,  4]),\n",
       " array([30, 16, 32,  5, 11]),\n",
       " array([20,  2, 19, 43,  3]),\n",
       " array([28, 44, 33,  8, 39]),\n",
       " array([29, 45, 14, 23,  6]),\n",
       " array([38,  1, 27,  7, 48]),\n",
       " array([40, 25, 46, 41, 15]),\n",
       " array([ 0, 31, 21, 24, 26]),\n",
       " array([36, 37, 10, 34])]"
      ]
     },
     "execution_count": 23,
     "metadata": {},
     "output_type": "execute_result"
    }
   ],
   "source": [
    "results"
   ]
  }
 ],
 "metadata": {
  "hide_input": false,
  "kernelspec": {
   "display_name": "Python 3",
   "language": "python",
   "name": "python3"
  },
  "language_info": {
   "codemirror_mode": {
    "name": "ipython",
    "version": 3
   },
   "file_extension": ".py",
   "mimetype": "text/x-python",
   "name": "python",
   "nbconvert_exporter": "python",
   "pygments_lexer": "ipython3",
   "version": "3.8.6"
  }
 },
 "nbformat": 4,
 "nbformat_minor": 4
}
