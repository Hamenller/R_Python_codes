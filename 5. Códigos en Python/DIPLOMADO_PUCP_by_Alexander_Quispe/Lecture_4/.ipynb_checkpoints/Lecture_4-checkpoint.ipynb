{
 "cells": [
  {
   "cell_type": "code",
   "execution_count": 3,
   "metadata": {
    "hide_input": true
   },
   "outputs": [],
   "source": [
    "import numpy as np\n",
    "import pandas as pd"
   ]
  },
  {
   "cell_type": "markdown",
   "metadata": {},
   "source": [
    "# 4. If and Loops"
   ]
  },
  {
   "cell_type": "markdown",
   "metadata": {},
   "source": [
    "- <a href='#def'>4.1. If condition</a>\n",
    "     - <a href='#4.1.1.'>4.1.1. The structure of the code </a> \n",
    "     - <a href='#4.1.2.'>4.1.2. If condition with more than 1 expression </a> \n",
    "     - <a href='#4.1.3.'>4.1.3. Logical Operators </a> \n",
    "     - <a href='#4.1.4.'>4.1.4. Python Identity Operators </a> \n",
    "     - <a href='#4.1.5.'>4.1.5. Final IF condition structure </a>\n",
    "     - <a href='#4.1.6.'>4.1.6. Python Nested if Statement </a> \n",
    "- <a href='#4.2.'>4.2. For Loops </a> \n",
    "     - <a href='#4.2.1.'>4.2.1. In numpy </a> \n",
    "     - <a href='#4.2.2.'> 4.2.2. In List </a> \n",
    "     - <a href='#4.2.3.'> 4.2.3. In Dictionary </a> \n",
    "     - <a href='#4.2.4.'> 4.2.4. For loop using range</a>\n",
    "     - <a href='#4.2.5.'> 4.2.5. Nested For Loop</a>\n",
    "     - <a href='#4.2.6.'> 4.2.6. Iterations over Pandas</a>\n",
    "- <a href='#4.3.'> 4.3. Pass, Continue, Break, Try</a>\n",
    "     - <a href='#4.3.1.'>4.3.1. Pass</a>\n",
    "     - <a href='#4.3.2.'>4.3.2. Continue</a>\n",
    "     - <a href='#4.3.3.'>4.3.3. Break</a>\n",
    "     - <a href='#4.3.4.'>4.3.4. Try </a>\n",
    "     \n",
    "- <a href='#4.4.'>4.4. While Loop </a>\n",
    "     - <a href='#4.4.1.'>4.4.1. Structure </a>\n",
    "- <a href='#4.5.'>4.5. References </a>  "
   ]
  },
  {
   "cell_type": "markdown",
   "metadata": {},
   "source": [
    "## 4.1. <a id='def'> If condition </a>\n",
    "\n",
    "Function **if** test conditions. \n",
    "- Equals: a == b\n",
    "- Not Equals: a != b\n",
    "- Less than: a < b\n",
    "- Less than or equal to: a <= b\n",
    "- Greater than: a > b\n",
    "- Greater than or equal to: a >= b\n",
    "\n",
    "<img src=\"../_images/if-statement.jpg\" alt=\"image info\" />"
   ]
  },
  {
   "cell_type": "markdown",
   "metadata": {},
   "source": [
    "## 4.1.1.  <a id='4.1.1.'> The structure of the code </a> <br>\n",
    "\n",
    "<font size=\"4\">\n",
    "if <font color='green'>test expresion</font>:<br>\n",
    "&nbsp;&nbsp;&nbsp;&nbsp;Code to excute<br>\n",
    "</font>\n",
    "\n",
    "The function **if** tests the veracity of a logic expression. The result of test statement should be a **<font color='red'>boolean</font>**. In other words, the output of the test statemen must be **<font color='red'>True</font>** or **<font color='red'>False</font>**. To sum, any function that its output is **boolean** can be used as a test expression in the **if** function. "
   ]
  },
  {
   "cell_type": "markdown",
   "metadata": {},
   "source": [
    "#### Examples"
   ]
  },
  {
   "cell_type": "code",
   "execution_count": 17,
   "metadata": {},
   "outputs": [],
   "source": [
    "A = 30\n",
    "B = 20"
   ]
  },
  {
   "cell_type": "code",
   "execution_count": 2,
   "metadata": {},
   "outputs": [
    {
     "data": {
      "text/plain": [
       "True"
      ]
     },
     "execution_count": 2,
     "metadata": {},
     "output_type": "execute_result"
    }
   ],
   "source": [
    "result = A > B\n",
    "result"
   ]
  },
  {
   "cell_type": "code",
   "execution_count": 23,
   "metadata": {},
   "outputs": [
    {
     "name": "stdout",
     "output_type": "stream",
     "text": [
      " Is A greater than B? \t False\n"
     ]
    }
   ],
   "source": [
    "A = 20\n",
    "B = 30\n",
    "\n",
    "result = A == B\n",
    "print( f' Is A greater than B? \\t {result}') # f'' help us to use numeric variables in strings"
   ]
  },
  {
   "cell_type": "code",
   "execution_count": 25,
   "metadata": {},
   "outputs": [],
   "source": [
    "A = 30\n",
    "B = 30\n",
    "\n",
    "if A != B:\n",
    "    print( 'A is not equal B' )"
   ]
  },
  {
   "cell_type": "code",
   "execution_count": 26,
   "metadata": {},
   "outputs": [
    {
     "name": "stdout",
     "output_type": "stream",
     "text": [
      "result A == B \tFalse \n",
      "\n",
      "result A != B \t  True \n",
      "\n",
      "result A > B \t False \n",
      "\n"
     ]
    }
   ],
   "source": [
    "A = 20\n",
    "B = 30\n",
    "\n",
    "result = A == B\n",
    "print( f'result A == B \\t{result} \\n')\n",
    "\n",
    "result = A != B\n",
    "print(f'result A != B \\t  {result} \\n' )\n",
    "\n",
    "result = A > B\n",
    "print(f'result A > B \\t {result} \\n')"
   ]
  },
  {
   "cell_type": "code",
   "execution_count": 31,
   "metadata": {},
   "outputs": [
    {
     "name": "stdout",
     "output_type": "stream",
     "text": [
      "0\n"
     ]
    }
   ],
   "source": [
    "A = 20\n",
    "B = 30\n",
    "\n",
    "result = A == B\n",
    "print(int(result))"
   ]
  },
  {
   "cell_type": "markdown",
   "metadata": {},
   "source": [
    "### 4.1.2.   <a id='4.1.2.'> If condition with more than 1 expression </a> \n",
    "\n",
    "We will use **elif**. This function allows us to add more test expressions.  <br><br>\n",
    "\n",
    "\n",
    "\n",
    "<font size=\"4\">\n",
    "if <font color='green'>test expresion1</font>: <br>\n",
    "&nbsp;&nbsp;&nbsp;&nbsp;Code1<br><br>\n",
    "elif <font color='green'>test expresion2</font>:<br>\n",
    "&nbsp;&nbsp;&nbsp;&nbsp;Code2<br><br>\n",
    "elif <font color='green'>test expresion3</font>:<br>\n",
    "&nbsp;&nbsp;&nbsp;&nbsp;Code3<br><br>\n",
    "elif <font color='green'>test expresion4</font>:<br>\n",
    "&nbsp;&nbsp;&nbsp;&nbsp;Code4<br><br>\n",
    "elif <font color='green'>test expresion5</font>:<br>\n",
    "&nbsp;&nbsp;&nbsp;&nbsp;Code5<br><br>\n",
    "else :<br>\n",
    "&nbsp;&nbsp;&nbsp;&nbsp;Code6<br><br>\n",
    "</font>\n",
    "\n",
    "Python will read the conditions of the test in order. \n",
    "If **Test expression 1** is `True`, the rest of the test expressions will not be evaluated. \n",
    "R execute **Code2** and will not test the next conditions. <br>\n",
    "\n",
    "In case no Test expression is `True`, the **Code6** will be excuted."
   ]
  },
  {
   "cell_type": "markdown",
   "metadata": {},
   "source": [
    "#### Examples"
   ]
  },
  {
   "cell_type": "code",
   "execution_count": 41,
   "metadata": {},
   "outputs": [
    {
     "ename": "TypeError",
     "evalue": "'>' not supported between instances of 'str' and 'int'",
     "output_type": "error",
     "traceback": [
      "\u001b[1;31m---------------------------------------------------------------------------\u001b[0m",
      "\u001b[1;31mTypeError\u001b[0m                                 Traceback (most recent call last)",
      "\u001b[1;32m<ipython-input-41-f0ae58fee80f>\u001b[0m in \u001b[0;36m<module>\u001b[1;34m\u001b[0m\n\u001b[0;32m      5\u001b[0m     \u001b[0mprint\u001b[0m\u001b[1;33m(\u001b[0m \u001b[1;34m'jose misma edad yoseph'\u001b[0m \u001b[1;33m)\u001b[0m\u001b[1;33m\u001b[0m\u001b[1;33m\u001b[0m\u001b[0m\n\u001b[0;32m      6\u001b[0m \u001b[1;33m\u001b[0m\u001b[0m\n\u001b[1;32m----> 7\u001b[1;33m \u001b[1;32melif\u001b[0m \u001b[0mA\u001b[0m \u001b[1;33m>\u001b[0m \u001b[0mB\u001b[0m\u001b[1;33m:\u001b[0m\u001b[1;33m\u001b[0m\u001b[1;33m\u001b[0m\u001b[0m\n\u001b[0m\u001b[0;32m      8\u001b[0m     \u001b[0mprint\u001b[0m\u001b[1;33m(\u001b[0m \u001b[1;34m'Jose es mayor que yoseph'\u001b[0m \u001b[1;33m)\u001b[0m\u001b[1;33m\u001b[0m\u001b[1;33m\u001b[0m\u001b[0m\n\u001b[0;32m      9\u001b[0m \u001b[1;33m\u001b[0m\u001b[0m\n",
      "\u001b[1;31mTypeError\u001b[0m: '>' not supported between instances of 'str' and 'int'"
     ]
    }
   ],
   "source": [
    "A = \"no nacio\"\n",
    "B = 22\n",
    "\n",
    "if A == B:\n",
    "    print( 'jose misma edad yoseph' )\n",
    "    \n",
    "elif A > B:\n",
    "    print( 'Jose es mayor que yoseph' )\n",
    "    \n",
    "elif A < B:\n",
    "    print( 'Jose es menor que yoseph' )\n",
    "    \n",
    "else:\n",
    "    print(\"no nacieron\")"
   ]
  },
  {
   "cell_type": "code",
   "execution_count": 7,
   "metadata": {},
   "outputs": [
    {
     "name": "stdout",
     "output_type": "stream",
     "text": [
      "A is less than B. Condition 4 is true.\n"
     ]
    }
   ],
   "source": [
    "# A = 20\n",
    "# B = 30\n",
    "\n",
    "if A == B:\n",
    "     print ('A is the same as B. Condition 1 is true.')\n",
    "    \n",
    "elif A > B:\n",
    "     print ('A is greater than B. Condition 2 is true.')\n",
    "    \n",
    "elif A < B:\n",
    "     print ('A is less than B. Condition 4 is true.')\n",
    "    \n",
    "    \n",
    "else:\n",
    "     print ('When neither condition is true, this phrase is printed.')"
   ]
  },
  {
   "cell_type": "markdown",
   "metadata": {},
   "source": [
    "### 4.1.3.   <a id='4.1.3.'> [Logical Operators](https://www.geeksforgeeks.org/python-logical-operators-with-examples-improvement-needed/) </a> \n",
    "\n",
    "\n",
    "Three key logical operators: **<font color = 'red' >and</font>**, **<font color = 'red' > or</font>**, and **<font color = 'red' > not</font>**."
   ]
  },
  {
   "cell_type": "code",
   "execution_count": 8,
   "metadata": {},
   "outputs": [
    {
     "name": "stdout",
     "output_type": "stream",
     "text": [
      "B is greater than C and greater than A. Condition 3 is true.\n"
     ]
    }
   ],
   "source": [
    "A = 20\n",
    "B = 30\n",
    "C = 25\n",
    "\n",
    "if ( A == B ) and ( A < C ):\n",
    "     print ('A is equal to B and less than C. Condition 1 is true.')\n",
    "    \n",
    "elif ( A > B ) or ( A > C ):\n",
    "     print ('A is greater than B or greater than C. Condition 2 is true.')\n",
    "\n",
    "elif ( B > C ) and ( B > A ):\n",
    "     print ('B is greater than C and greater than A. Condition 3 is true.')\n",
    "    \n",
    "else:\n",
    "     print ('When neither condition is true, this phrase is printed.')"
   ]
  },
  {
   "cell_type": "code",
   "execution_count": 9,
   "metadata": {},
   "outputs": [
    {
     "name": "stdout",
     "output_type": "stream",
     "text": [
      "A is not equal to 27. Condition 1 is true.\n"
     ]
    }
   ],
   "source": [
    "# A = 20\n",
    "# B = 30\n",
    "# C = 25\n",
    "\n",
    "if not (A> 27):\n",
    "     print ('A is not equal to 27. Condition 1 is true.')\n",
    "        \n",
    "else:\n",
    "     print ('When neither condition is true, this phrase is printed.')"
   ]
  },
  {
   "cell_type": "markdown",
   "metadata": {},
   "source": [
    "### 4.1.4.   <a id='4.1.4.'> [Python Identity Operators](https://www.w3schools.com/python/gloss_python_identity_operators.asp) </a> \n",
    "\n",
    "These operators help us to compare whether variables refer to the same object.\n",
    "We have **<font color = 'red' >is</font>**, and **<font color = 'red' > is not</font>** as identity operators."
   ]
  },
  {
   "cell_type": "code",
   "execution_count": 10,
   "metadata": {},
   "outputs": [],
   "source": [
    "C = None\n",
    "C"
   ]
  },
  {
   "cell_type": "code",
   "execution_count": 11,
   "metadata": {},
   "outputs": [
    {
     "name": "stdout",
     "output_type": "stream",
     "text": [
      "Ohh C is None :(\n"
     ]
    }
   ],
   "source": [
    "if C is None:\n",
    "    print( 'Ohh C is None :(')"
   ]
  },
  {
   "cell_type": "code",
   "execution_count": 12,
   "metadata": {},
   "outputs": [
    {
     "name": "stdout",
     "output_type": "stream",
     "text": [
      "C is not a float\n"
     ]
    }
   ],
   "source": [
    "if C is not float:\n",
    "    print( 'C is not a float')"
   ]
  },
  {
   "cell_type": "markdown",
   "metadata": {},
   "source": [
    "#### Difference between **<font color = 'red' > ==</font>** and **<font color = 'red' > is</font>** operator in Python\n",
    "\n",
    "1. **<font color = 'red' > ==</font>** operator compares the values of both the operands and checks for value equality.\n",
    "2. **<font color = 'red' > is</font>** operator checks whether both the operands refer to the same object or not (present in the same memory location)."
   ]
  },
  {
   "cell_type": "code",
   "execution_count": 13,
   "metadata": {},
   "outputs": [
    {
     "data": {
      "text/plain": [
       "True"
      ]
     },
     "execution_count": 13,
     "metadata": {},
     "output_type": "execute_result"
    }
   ],
   "source": [
    "a = 5\n",
    "b = 5\n",
    "\n",
    "a is b"
   ]
  },
  {
   "cell_type": "code",
   "execution_count": 14,
   "metadata": {
    "scrolled": true
   },
   "outputs": [
    {
     "data": {
      "text/plain": [
       "array([ True,  True,  True,  True])"
      ]
     },
     "execution_count": 14,
     "metadata": {},
     "output_type": "execute_result"
    }
   ],
   "source": [
    "a = np.arange(0, 4)\n",
    "b = np.array( [0, 1 , 2 , 3 ] )\n",
    "\n",
    "a == b    "
   ]
  },
  {
   "cell_type": "code",
   "execution_count": 15,
   "metadata": {},
   "outputs": [
    {
     "data": {
      "text/plain": [
       "False"
      ]
     },
     "execution_count": 15,
     "metadata": {},
     "output_type": "execute_result"
    }
   ],
   "source": [
    "a is b"
   ]
  },
  {
   "cell_type": "markdown",
   "metadata": {},
   "source": [
    "### 4.1.5.   <a id='4.1.5.'> Final IF condition structure </a> \n"
   ]
  },
  {
   "cell_type": "markdown",
   "metadata": {},
   "source": [
    "The strict way to run the if conditions is as follows: <br>\n",
    "\n",
    "<font size = \"4\">\n",
    "\n",
    "\n",
    "if <font color = 'green'> condition1 </font>: <font color = 'red'> (Required) </font> <br>\n",
    "&nbsp; &nbsp; &nbsp; &nbsp; &nbsp; &nbsp; code1 <br> <br>\n",
    "elif <font color = 'green'> condition2 </font>:**(Optional)**<br>\n",
    "&nbsp; &nbsp; &nbsp; &nbsp; &nbsp; &nbsp; code2 <br> <br>\n",
    "elif <font color = 'green'> condition3 </font>:**(Optional)**<br>\n",
    "&nbsp; &nbsp; &nbsp; &nbsp; &nbsp; &nbsp; code3 <br> <br>\n",
    "elif <font color = 'green'> condition4 </font>:**(Optional)**<br>\n",
    "&nbsp; &nbsp; &nbsp; &nbsp; &nbsp; &nbsp; code4 <br> <br>\n",
    "else: <font color = 'red'> (Required) </font> <br>\n",
    "&nbsp; &nbsp; &nbsp; &nbsp; &nbsp; &nbsp; code5 <br>\n",
    "<br>\n",
    "</font>"
   ]
  },
  {
   "cell_type": "markdown",
   "metadata": {},
   "source": [
    "### 4.1.6.   <a id='4.1.6.'> Python Nested if Statement </a> "
   ]
  },
  {
   "cell_type": "code",
   "execution_count": 16,
   "metadata": {},
   "outputs": [
    {
     "name": "stdout",
     "output_type": "stream",
     "text": [
      "FREE\n"
     ]
    }
   ],
   "source": [
    "total = 100\n",
    "#country = \"PE\"\n",
    "country = \"AR\"\n",
    "if country == \"PE\":\n",
    "    if total <= 50:\n",
    "        print(\"Shipping Cost is  $50\")\n",
    "    elif total <= 100:\n",
    "        print(\"Shipping Cost is $25\")\n",
    "    elif total <= 150:\n",
    "        print(\"Shipping Costs $5\")\n",
    "    else:\n",
    "        print(\"FREE\")\n",
    "        \n",
    "if country == \"AR\": \n",
    "    if total <= 50:\n",
    "        print(\"Shipping Cost is  $100\")\n",
    "    else:\n",
    "        print(\"FREE\")"
   ]
  },
  {
   "cell_type": "markdown",
   "metadata": {},
   "source": [
    "The **if** function is not only useful with logical expressions, but also with functions whose result is a **<font color = 'red' > Boolean </font>** (**True** or **False**).<br>\n",
    "For example, the **isinstance** function evaluates whether a variable is string, bool, int, float and returns a Boolean (True or False) as a result. For more information [here](https://docs.python.org/3/library/functions.html#isinstance). <br>"
   ]
  },
  {
   "cell_type": "code",
   "execution_count": 17,
   "metadata": {
    "scrolled": true
   },
   "outputs": [
    {
     "data": {
      "text/plain": [
       "False"
      ]
     },
     "execution_count": 17,
     "metadata": {},
     "output_type": "execute_result"
    }
   ],
   "source": [
    "# The result of isinstance is a Boolean. Then it can be used as a condition in the if function.\n",
    "isinstance (A, str)"
   ]
  },
  {
   "cell_type": "code",
   "execution_count": 18,
   "metadata": {},
   "outputs": [
    {
     "name": "stdout",
     "output_type": "stream",
     "text": [
      "A is an integer\n"
     ]
    }
   ],
   "source": [
    "A = 20\n",
    "# A = np.array([3, 4, 5])\n",
    "\n",
    "if isinstance( A, str ):\n",
    "    print( 'A is a string' )\n",
    "\n",
    "elif isinstance( A, bool ):\n",
    "    print( 'A is a boolean' )\n",
    "\n",
    "elif isinstance( A, float ):\n",
    "    print( 'A is a float' )\n",
    "\n",
    "elif isinstance( A, int ):\n",
    "    print( 'A is an integer' )\n",
    "\n",
    "elif isinstance( A, complex ):\n",
    "    print( 'A is a complex' )\n",
    "\n",
    "else:\n",
    "    print( 'A is another type of variable')"
   ]
  },
  {
   "cell_type": "markdown",
   "metadata": {},
   "source": [
    "## 4.2.   <a id='4.2.'> For Loops </a> \n",
    "\n",
    "\n",
    "A for loop is used for iterating over a sequence. It executes a code a definite number of times. It has the following structure:\n",
    "\n",
    "<img src=\"../_images/for_loop.jpg\" alt=\"image info\" />\n",
    "\n"
   ]
  },
  {
   "cell_type": "markdown",
   "metadata": {},
   "source": [
    "### 4.2.1. <a id='4.2.1.'> In numpy </a> "
   ]
  },
  {
   "cell_type": "code",
   "execution_count": 19,
   "metadata": {},
   "outputs": [
    {
     "data": {
      "text/plain": [
       "array([15, 20, 25, 30, 35, 40, 48])"
      ]
     },
     "execution_count": 19,
     "metadata": {},
     "output_type": "execute_result"
    }
   ],
   "source": [
    "sequence = np.array( [15, 20, 25, 30 , 35 , 40 , 48 ] )\n",
    "sequence"
   ]
  },
  {
   "cell_type": "code",
   "execution_count": 20,
   "metadata": {},
   "outputs": [
    {
     "name": "stdout",
     "output_type": "stream",
     "text": [
      "15\n",
      "20\n",
      "25\n",
      "30\n",
      "35\n",
      "40\n",
      "48\n"
     ]
    }
   ],
   "source": [
    "i = 0\n",
    "for element in sequence:\n",
    "    print( element )"
   ]
  },
  {
   "cell_type": "markdown",
   "metadata": {},
   "source": [
    "### 4.2.2 <a id='4.2.2.'> In List </a> "
   ]
  },
  {
   "cell_type": "code",
   "execution_count": 21,
   "metadata": {},
   "outputs": [
    {
     "name": "stdout",
     "output_type": "stream",
     "text": [
      "<class 'list'>\n",
      "<class 'list'>\n",
      "<class 'list'>\n"
     ]
    }
   ],
   "source": [
    "class_age = [ [11, 12, 11] , [15, 16, 16] , [17, 17, 18]]\n",
    "\n",
    "for age in class_age:\n",
    "    print( type(age) )"
   ]
  },
  {
   "cell_type": "code",
   "execution_count": 22,
   "metadata": {},
   "outputs": [
    {
     "name": "stdout",
     "output_type": "stream",
     "text": [
      "<class 'int'>\n",
      "<class 'int'>\n",
      "<class 'int'>\n",
      "<class 'int'>\n",
      "<class 'int'>\n"
     ]
    }
   ],
   "source": [
    "ages = [ 21, 23, 25, 24, 20]\n",
    "\n",
    "for age in ages:\n",
    "    print( type(age) )"
   ]
  },
  {
   "cell_type": "markdown",
   "metadata": {},
   "source": [
    "### 4.2.3  <a id='4.2.3.'>In Dictionary </a> "
   ]
  },
  {
   "cell_type": "code",
   "execution_count": 23,
   "metadata": {},
   "outputs": [],
   "source": [
    "class_1 = {\"students\" : ['Miguel', 'Anthony', 'Paul', 'Rodrigo', 'Jason'] , \"age\" : [20, 18, 15, 20, 22]}"
   ]
  },
  {
   "cell_type": "code",
   "execution_count": 24,
   "metadata": {},
   "outputs": [
    {
     "name": "stdout",
     "output_type": "stream",
     "text": [
      "Miguel\n",
      "Anthony\n",
      "Paul\n",
      "Rodrigo\n",
      "Jason\n",
      "20\n",
      "18\n",
      "15\n",
      "20\n",
      "22\n"
     ]
    }
   ],
   "source": [
    "for key in class_1.keys():\n",
    "    for val in class_1[key]:\n",
    "         print (val)"
   ]
  },
  {
   "cell_type": "code",
   "execution_count": 25,
   "metadata": {},
   "outputs": [
    {
     "name": "stdout",
     "output_type": "stream",
     "text": [
      "students\n",
      "age\n"
     ]
    }
   ],
   "source": [
    "for key in class_1.keys():\n",
    "    print(key)"
   ]
  },
  {
   "cell_type": "code",
   "execution_count": 26,
   "metadata": {},
   "outputs": [
    {
     "name": "stdout",
     "output_type": "stream",
     "text": [
      "['Miguel', 'Anthony', 'Paul', 'Rodrigo', 'Jason']\n",
      "[20, 18, 15, 20, 22]\n"
     ]
    }
   ],
   "source": [
    "for val in class_1.values():\n",
    "    print( val )"
   ]
  },
  {
   "cell_type": "code",
   "execution_count": 27,
   "metadata": {
    "scrolled": true
   },
   "outputs": [
    {
     "name": "stdout",
     "output_type": "stream",
     "text": [
      "students ['Miguel', 'Anthony', 'Paul', 'Rodrigo', 'Jason']\n",
      "age [20, 18, 15, 20, 22]\n"
     ]
    }
   ],
   "source": [
    "for key, val in class_1.items():\n",
    "    print( key, val )"
   ]
  },
  {
   "cell_type": "code",
   "execution_count": 28,
   "metadata": {},
   "outputs": [],
   "source": [
    "dict1 = {}\n",
    "\n",
    "for i in range(5):\n",
    "    dict1[f'random_{i+1}' ] = np.random.rand(3)"
   ]
  },
  {
   "cell_type": "code",
   "execution_count": 29,
   "metadata": {
    "scrolled": true
   },
   "outputs": [
    {
     "data": {
      "text/plain": [
       "{'random_1': array([0.02184541, 0.71720644, 0.82908648]),\n",
       " 'random_2': array([0.99672352, 0.03471837, 0.03216628]),\n",
       " 'random_3': array([0.49782027, 0.30472323, 0.81707752]),\n",
       " 'random_4': array([0.3082226 , 0.29324095, 0.33570983]),\n",
       " 'random_5': array([0.14995226, 0.0819421 , 0.84735964])}"
      ]
     },
     "execution_count": 29,
     "metadata": {},
     "output_type": "execute_result"
    }
   ],
   "source": [
    "dict1"
   ]
  },
  {
   "cell_type": "markdown",
   "metadata": {},
   "source": [
    "### 4.2.4 <a id = '4.2.4.'>  For loop using range </a>"
   ]
  },
  {
   "cell_type": "code",
   "execution_count": 30,
   "metadata": {},
   "outputs": [
    {
     "name": "stdout",
     "output_type": "stream",
     "text": [
      "Miguel is 20 years old.\n",
      "Anthony is 18 years old.\n",
      "Paul is 15 years old.\n",
      "Rodrigo is 20 years old.\n",
      "Jason is 22 years old.\n"
     ]
    }
   ],
   "source": [
    "# Class\n",
    "students = ['Miguel', 'Anthony', 'Paul', 'Rodrigo', 'Jason']\n",
    "\n",
    "# Ages\n",
    "ages = [20, 18, 15, 20, 22]\n",
    "\n",
    "for index in range (0, len (students)):\n",
    "     print (f'{ students[index] } is { ages[index] } years old.')"
   ]
  },
  {
   "cell_type": "markdown",
   "metadata": {},
   "source": [
    "### 4.2.5 <a id='4.2.5.'>  Nested For Loop </a>\n",
    "\n",
    "A for loop inside of another for loop."
   ]
  },
  {
   "cell_type": "code",
   "execution_count": 31,
   "metadata": {},
   "outputs": [
    {
     "data": {
      "text/plain": [
       "[[11, 12, 11], [15, 16, 16], [17, 17, 18]]"
      ]
     },
     "execution_count": 31,
     "metadata": {},
     "output_type": "execute_result"
    }
   ],
   "source": [
    "age_class = [ [11, 12, 11] , [15, 16, 16] , [17, 17, 18]]\n",
    "age_class"
   ]
  },
  {
   "cell_type": "code",
   "execution_count": 32,
   "metadata": {},
   "outputs": [
    {
     "name": "stdout",
     "output_type": "stream",
     "text": [
      "[11, 12, 11]\n",
      "11\n",
      "12\n",
      "11\n",
      "[15, 16, 16]\n",
      "15\n",
      "16\n",
      "16\n",
      "[17, 17, 18]\n",
      "17\n",
      "17\n",
      "18\n"
     ]
    }
   ],
   "source": [
    "for classs in age_class:\n",
    "    print( classs )\n",
    "    \n",
    "    for age in classs:\n",
    "        print( age )"
   ]
  },
  {
   "cell_type": "code",
   "execution_count": 33,
   "metadata": {},
   "outputs": [
    {
     "name": "stdout",
     "output_type": "stream",
     "text": [
      "Justin is 20\n",
      "Pogba is 18\n",
      "Paul is 15\n",
      "Carrillo is 20\n",
      "Xavi is 22\n"
     ]
    }
   ],
   "source": [
    "# sequence\n",
    "students = [ 'Justin' , 'Pogba', 'Paul', 'Carrillo', 'Xavi' ]\n",
    "\n",
    "# age\n",
    "gr_age = [ 20, 18, 15, 20, 22]\n",
    "\n",
    "# Loops\n",
    "for student, age in zip( students , gr_age ):\n",
    "    print(f'{ student } is { age }')"
   ]
  },
  {
   "cell_type": "code",
   "execution_count": 34,
   "metadata": {},
   "outputs": [
    {
     "name": "stdout",
     "output_type": "stream",
     "text": [
      "Justin is 20\n",
      "Pogba is 18\n",
      "Paul is 15\n",
      "Carrillo is 20\n"
     ]
    }
   ],
   "source": [
    "## Diferent dimmensions\n",
    "# sequence\n",
    "students = [ 'Justin' , 'Pogba', 'Paul', 'Carrillo', 'Xavi' ]\n",
    "\n",
    "# Edades\n",
    "gr_age = [ 20, 18, 15, 20 ]\n",
    "\n",
    "for student, age in zip( students , gr_age ):\n",
    "    print(f'{ student } is { age }')"
   ]
  },
  {
   "cell_type": "markdown",
   "metadata": {},
   "source": [
    "### 4.2.6. <a id = '4.2.6.'> Iterations over Pandas</a>"
   ]
  },
  {
   "cell_type": "markdown",
   "metadata": {},
   "source": [
    "[Marine fishing extraction by destination and main species (thousands of tons)](https://estadisticas.bcrp.gob.pe/estadisticas/series/anuales/extraccion-pesquera-maritima-por-destino-y-principales-especies-miles-de-toneladas)"
   ]
  },
  {
   "cell_type": "code",
   "execution_count": 9,
   "metadata": {
    "scrolled": false
   },
   "outputs": [],
   "source": [
    "extraction_fish = pd.read_csv( r\"..\\_data\\production_fish.csv\" )"
   ]
  },
  {
   "cell_type": "code",
   "execution_count": 10,
   "metadata": {},
   "outputs": [
    {
     "data": {
      "text/plain": [
       "Index(['year', 'Consumo Industrial - Anchoveta',\n",
       "       'Consumo Humano - Congelado - Concha de abanico',\n",
       "       'Consumo Humano - Congelado - Langostino',\n",
       "       'Consumo Humano - Congelado - Merluza',\n",
       "       'Consumo Humano - Congelado - Calamar gigante',\n",
       "       'Consumo Humano - Conservas - Atún',\n",
       "       'Consumo Humano - Conservas - Caballa',\n",
       "       'Consumo Humano - Conservas - Jurel',\n",
       "       'Consumo Humano - Conservas - Sardina',\n",
       "       'Consumo Humano - Fresco - Concha de abanico',\n",
       "       'Consumo Humano - Fresco - Jurel', 'Consumo Humano - Fresco - Liza',\n",
       "       'Consumo Humano - Fresco - Tollo', 'total_production'],\n",
       "      dtype='object')"
      ]
     },
     "execution_count": 10,
     "metadata": {},
     "output_type": "execute_result"
    }
   ],
   "source": [
    "extraction_fish.columns"
   ]
  },
  {
   "cell_type": "code",
   "execution_count": 12,
   "metadata": {},
   "outputs": [
    {
     "data": {
      "text/html": [
       "<div>\n",
       "<style scoped>\n",
       "    .dataframe tbody tr th:only-of-type {\n",
       "        vertical-align: middle;\n",
       "    }\n",
       "\n",
       "    .dataframe tbody tr th {\n",
       "        vertical-align: top;\n",
       "    }\n",
       "\n",
       "    .dataframe thead th {\n",
       "        text-align: right;\n",
       "    }\n",
       "</style>\n",
       "<table border=\"1\" class=\"dataframe\">\n",
       "  <thead>\n",
       "    <tr style=\"text-align: right;\">\n",
       "      <th></th>\n",
       "      <th>Consumo Industrial - Anchoveta</th>\n",
       "      <th>Consumo Humano - Congelado - Concha de abanico</th>\n",
       "      <th>Consumo Humano - Congelado - Langostino</th>\n",
       "      <th>Consumo Humano - Congelado - Merluza</th>\n",
       "      <th>Consumo Humano - Congelado - Calamar gigante</th>\n",
       "      <th>Consumo Humano - Conservas - Atún</th>\n",
       "      <th>Consumo Humano - Conservas - Caballa</th>\n",
       "      <th>Consumo Humano - Conservas - Jurel</th>\n",
       "      <th>Consumo Humano - Conservas - Sardina</th>\n",
       "      <th>Consumo Humano - Fresco - Concha de abanico</th>\n",
       "      <th>Consumo Humano - Fresco - Jurel</th>\n",
       "      <th>Consumo Humano - Fresco - Liza</th>\n",
       "    </tr>\n",
       "  </thead>\n",
       "  <tbody>\n",
       "    <tr>\n",
       "      <th>0</th>\n",
       "      <td>8628.396000</td>\n",
       "      <td>13.537000</td>\n",
       "      <td>9.021000</td>\n",
       "      <td>23.279000</td>\n",
       "      <td>235.630000</td>\n",
       "      <td>9.877000</td>\n",
       "      <td>25.711000</td>\n",
       "      <td>20.481000</td>\n",
       "      <td>0.165000</td>\n",
       "      <td>1.843080</td>\n",
       "      <td>56.167940</td>\n",
       "      <td>5.875600</td>\n",
       "    </tr>\n",
       "    <tr>\n",
       "      <th>1</th>\n",
       "      <td>5891.838000</td>\n",
       "      <td>14.714000</td>\n",
       "      <td>11.295000</td>\n",
       "      <td>25.189000</td>\n",
       "      <td>365.729000</td>\n",
       "      <td>11.336000</td>\n",
       "      <td>58.245000</td>\n",
       "      <td>122.904000</td>\n",
       "      <td>0.048000</td>\n",
       "      <td>4.048000</td>\n",
       "      <td>136.827000</td>\n",
       "      <td>3.166000</td>\n",
       "    </tr>\n",
       "    <tr>\n",
       "      <th>2</th>\n",
       "      <td>6084.713000</td>\n",
       "      <td>19.937000</td>\n",
       "      <td>13.548000</td>\n",
       "      <td>28.358488</td>\n",
       "      <td>379.556594</td>\n",
       "      <td>3.713293</td>\n",
       "      <td>26.248739</td>\n",
       "      <td>82.910307</td>\n",
       "      <td>0.001020</td>\n",
       "      <td>4.822991</td>\n",
       "      <td>134.887316</td>\n",
       "      <td>9.317622</td>\n",
       "    </tr>\n",
       "    <tr>\n",
       "      <th>3</th>\n",
       "      <td>6159.387000</td>\n",
       "      <td>18.790000</td>\n",
       "      <td>12.817000</td>\n",
       "      <td>26.348398</td>\n",
       "      <td>484.162082</td>\n",
       "      <td>3.283711</td>\n",
       "      <td>47.694121</td>\n",
       "      <td>58.864202</td>\n",
       "      <td>0.000000</td>\n",
       "      <td>0.828187</td>\n",
       "      <td>80.092885</td>\n",
       "      <td>14.514054</td>\n",
       "    </tr>\n",
       "    <tr>\n",
       "      <th>4</th>\n",
       "      <td>5828.636000</td>\n",
       "      <td>24.634372</td>\n",
       "      <td>11.877399</td>\n",
       "      <td>36.774763</td>\n",
       "      <td>355.106589</td>\n",
       "      <td>2.017061</td>\n",
       "      <td>51.355908</td>\n",
       "      <td>14.289041</td>\n",
       "      <td>0.000000</td>\n",
       "      <td>1.843072</td>\n",
       "      <td>47.079175</td>\n",
       "      <td>17.311344</td>\n",
       "    </tr>\n",
       "    <tr>\n",
       "      <th>5</th>\n",
       "      <td>3330.413040</td>\n",
       "      <td>60.001250</td>\n",
       "      <td>14.477939</td>\n",
       "      <td>25.647697</td>\n",
       "      <td>327.571909</td>\n",
       "      <td>9.182845</td>\n",
       "      <td>9.729522</td>\n",
       "      <td>5.774274</td>\n",
       "      <td>0.000000</td>\n",
       "      <td>2.824749</td>\n",
       "      <td>10.404933</td>\n",
       "      <td>9.706363</td>\n",
       "    </tr>\n",
       "    <tr>\n",
       "      <th>6</th>\n",
       "      <td>7000.092781</td>\n",
       "      <td>92.027637</td>\n",
       "      <td>23.384478</td>\n",
       "      <td>28.544458</td>\n",
       "      <td>373.195661</td>\n",
       "      <td>6.586856</td>\n",
       "      <td>20.478814</td>\n",
       "      <td>83.277943</td>\n",
       "      <td>0.054463</td>\n",
       "      <td>0.873130</td>\n",
       "      <td>72.955117</td>\n",
       "      <td>12.124808</td>\n",
       "    </tr>\n",
       "    <tr>\n",
       "      <th>7</th>\n",
       "      <td>3693.871080</td>\n",
       "      <td>38.933390</td>\n",
       "      <td>22.707220</td>\n",
       "      <td>21.054780</td>\n",
       "      <td>457.072670</td>\n",
       "      <td>1.115060</td>\n",
       "      <td>9.978510</td>\n",
       "      <td>43.693940</td>\n",
       "      <td>0.088460</td>\n",
       "      <td>0.744610</td>\n",
       "      <td>72.930470</td>\n",
       "      <td>17.162420</td>\n",
       "    </tr>\n",
       "    <tr>\n",
       "      <th>8</th>\n",
       "      <td>4754.118210</td>\n",
       "      <td>89.293284</td>\n",
       "      <td>19.111372</td>\n",
       "      <td>31.187461</td>\n",
       "      <td>410.759534</td>\n",
       "      <td>7.136436</td>\n",
       "      <td>26.600553</td>\n",
       "      <td>7.197624</td>\n",
       "      <td>0.000000</td>\n",
       "      <td>2.180252</td>\n",
       "      <td>54.454541</td>\n",
       "      <td>12.530821</td>\n",
       "    </tr>\n",
       "    <tr>\n",
       "      <th>9</th>\n",
       "      <td>2255.453460</td>\n",
       "      <td>52.266500</td>\n",
       "      <td>21.762990</td>\n",
       "      <td>30.770800</td>\n",
       "      <td>465.007580</td>\n",
       "      <td>4.734540</td>\n",
       "      <td>29.576440</td>\n",
       "      <td>8.882560</td>\n",
       "      <td>0.000000</td>\n",
       "      <td>0.608160</td>\n",
       "      <td>46.346459</td>\n",
       "      <td>12.248670</td>\n",
       "    </tr>\n",
       "    <tr>\n",
       "      <th>10</th>\n",
       "      <td>3616.481500</td>\n",
       "      <td>14.843150</td>\n",
       "      <td>26.772210</td>\n",
       "      <td>25.644130</td>\n",
       "      <td>426.932300</td>\n",
       "      <td>11.082120</td>\n",
       "      <td>15.314910</td>\n",
       "      <td>2.769796</td>\n",
       "      <td>0.164140</td>\n",
       "      <td>0.615910</td>\n",
       "      <td>17.536930</td>\n",
       "      <td>12.463520</td>\n",
       "    </tr>\n",
       "    <tr>\n",
       "      <th>11</th>\n",
       "      <td>2732.733740</td>\n",
       "      <td>10.090130</td>\n",
       "      <td>29.253750</td>\n",
       "      <td>25.800210</td>\n",
       "      <td>246.124700</td>\n",
       "      <td>10.884490</td>\n",
       "      <td>57.675170</td>\n",
       "      <td>0.412040</td>\n",
       "      <td>0.007490</td>\n",
       "      <td>0.579750</td>\n",
       "      <td>12.472050</td>\n",
       "      <td>15.757580</td>\n",
       "    </tr>\n",
       "    <tr>\n",
       "      <th>12</th>\n",
       "      <td>3165.490240</td>\n",
       "      <td>4.596090</td>\n",
       "      <td>38.760070</td>\n",
       "      <td>37.147430</td>\n",
       "      <td>252.429930</td>\n",
       "      <td>11.802750</td>\n",
       "      <td>23.249140</td>\n",
       "      <td>1.052910</td>\n",
       "      <td>0.000000</td>\n",
       "      <td>0.373700</td>\n",
       "      <td>6.889530</td>\n",
       "      <td>29.061740</td>\n",
       "    </tr>\n",
       "    <tr>\n",
       "      <th>13</th>\n",
       "      <td>6072.887839</td>\n",
       "      <td>36.530349</td>\n",
       "      <td>31.505879</td>\n",
       "      <td>34.876576</td>\n",
       "      <td>319.146488</td>\n",
       "      <td>18.138975</td>\n",
       "      <td>24.610468</td>\n",
       "      <td>14.619846</td>\n",
       "      <td>0.000000</td>\n",
       "      <td>1.551366</td>\n",
       "      <td>14.720969</td>\n",
       "      <td>23.326310</td>\n",
       "    </tr>\n",
       "    <tr>\n",
       "      <th>14</th>\n",
       "      <td>3381.437222</td>\n",
       "      <td>53.112863</td>\n",
       "      <td>42.857637</td>\n",
       "      <td>28.979849</td>\n",
       "      <td>483.765239</td>\n",
       "      <td>17.839298</td>\n",
       "      <td>19.598784</td>\n",
       "      <td>27.733432</td>\n",
       "      <td>0.000000</td>\n",
       "      <td>1.226521</td>\n",
       "      <td>40.798701</td>\n",
       "      <td>24.029820</td>\n",
       "    </tr>\n",
       "    <tr>\n",
       "      <th>15</th>\n",
       "      <td>4314.558220</td>\n",
       "      <td>46.995287</td>\n",
       "      <td>34.516971</td>\n",
       "      <td>19.842900</td>\n",
       "      <td>407.384850</td>\n",
       "      <td>3.843680</td>\n",
       "      <td>28.408700</td>\n",
       "      <td>23.475890</td>\n",
       "      <td>0.000000</td>\n",
       "      <td>0.616697</td>\n",
       "      <td>48.115810</td>\n",
       "      <td>14.992172</td>\n",
       "    </tr>\n",
       "  </tbody>\n",
       "</table>\n",
       "</div>"
      ],
      "text/plain": [
       "    Consumo Industrial - Anchoveta  \\\n",
       "0                      8628.396000   \n",
       "1                      5891.838000   \n",
       "2                      6084.713000   \n",
       "3                      6159.387000   \n",
       "4                      5828.636000   \n",
       "5                      3330.413040   \n",
       "6                      7000.092781   \n",
       "7                      3693.871080   \n",
       "8                      4754.118210   \n",
       "9                      2255.453460   \n",
       "10                     3616.481500   \n",
       "11                     2732.733740   \n",
       "12                     3165.490240   \n",
       "13                     6072.887839   \n",
       "14                     3381.437222   \n",
       "15                     4314.558220   \n",
       "\n",
       "    Consumo Humano - Congelado - Concha de abanico  \\\n",
       "0                                        13.537000   \n",
       "1                                        14.714000   \n",
       "2                                        19.937000   \n",
       "3                                        18.790000   \n",
       "4                                        24.634372   \n",
       "5                                        60.001250   \n",
       "6                                        92.027637   \n",
       "7                                        38.933390   \n",
       "8                                        89.293284   \n",
       "9                                        52.266500   \n",
       "10                                       14.843150   \n",
       "11                                       10.090130   \n",
       "12                                        4.596090   \n",
       "13                                       36.530349   \n",
       "14                                       53.112863   \n",
       "15                                       46.995287   \n",
       "\n",
       "    Consumo Humano - Congelado - Langostino  \\\n",
       "0                                  9.021000   \n",
       "1                                 11.295000   \n",
       "2                                 13.548000   \n",
       "3                                 12.817000   \n",
       "4                                 11.877399   \n",
       "5                                 14.477939   \n",
       "6                                 23.384478   \n",
       "7                                 22.707220   \n",
       "8                                 19.111372   \n",
       "9                                 21.762990   \n",
       "10                                26.772210   \n",
       "11                                29.253750   \n",
       "12                                38.760070   \n",
       "13                                31.505879   \n",
       "14                                42.857637   \n",
       "15                                34.516971   \n",
       "\n",
       "    Consumo Humano - Congelado - Merluza  \\\n",
       "0                              23.279000   \n",
       "1                              25.189000   \n",
       "2                              28.358488   \n",
       "3                              26.348398   \n",
       "4                              36.774763   \n",
       "5                              25.647697   \n",
       "6                              28.544458   \n",
       "7                              21.054780   \n",
       "8                              31.187461   \n",
       "9                              30.770800   \n",
       "10                             25.644130   \n",
       "11                             25.800210   \n",
       "12                             37.147430   \n",
       "13                             34.876576   \n",
       "14                             28.979849   \n",
       "15                             19.842900   \n",
       "\n",
       "    Consumo Humano - Congelado - Calamar gigante  \\\n",
       "0                                     235.630000   \n",
       "1                                     365.729000   \n",
       "2                                     379.556594   \n",
       "3                                     484.162082   \n",
       "4                                     355.106589   \n",
       "5                                     327.571909   \n",
       "6                                     373.195661   \n",
       "7                                     457.072670   \n",
       "8                                     410.759534   \n",
       "9                                     465.007580   \n",
       "10                                    426.932300   \n",
       "11                                    246.124700   \n",
       "12                                    252.429930   \n",
       "13                                    319.146488   \n",
       "14                                    483.765239   \n",
       "15                                    407.384850   \n",
       "\n",
       "    Consumo Humano - Conservas - Atún  Consumo Humano - Conservas - Caballa  \\\n",
       "0                            9.877000                             25.711000   \n",
       "1                           11.336000                             58.245000   \n",
       "2                            3.713293                             26.248739   \n",
       "3                            3.283711                             47.694121   \n",
       "4                            2.017061                             51.355908   \n",
       "5                            9.182845                              9.729522   \n",
       "6                            6.586856                             20.478814   \n",
       "7                            1.115060                              9.978510   \n",
       "8                            7.136436                             26.600553   \n",
       "9                            4.734540                             29.576440   \n",
       "10                          11.082120                             15.314910   \n",
       "11                          10.884490                             57.675170   \n",
       "12                          11.802750                             23.249140   \n",
       "13                          18.138975                             24.610468   \n",
       "14                          17.839298                             19.598784   \n",
       "15                           3.843680                             28.408700   \n",
       "\n",
       "    Consumo Humano - Conservas - Jurel  Consumo Humano - Conservas - Sardina  \\\n",
       "0                            20.481000                              0.165000   \n",
       "1                           122.904000                              0.048000   \n",
       "2                            82.910307                              0.001020   \n",
       "3                            58.864202                              0.000000   \n",
       "4                            14.289041                              0.000000   \n",
       "5                             5.774274                              0.000000   \n",
       "6                            83.277943                              0.054463   \n",
       "7                            43.693940                              0.088460   \n",
       "8                             7.197624                              0.000000   \n",
       "9                             8.882560                              0.000000   \n",
       "10                            2.769796                              0.164140   \n",
       "11                            0.412040                              0.007490   \n",
       "12                            1.052910                              0.000000   \n",
       "13                           14.619846                              0.000000   \n",
       "14                           27.733432                              0.000000   \n",
       "15                           23.475890                              0.000000   \n",
       "\n",
       "    Consumo Humano - Fresco - Concha de abanico  \\\n",
       "0                                      1.843080   \n",
       "1                                      4.048000   \n",
       "2                                      4.822991   \n",
       "3                                      0.828187   \n",
       "4                                      1.843072   \n",
       "5                                      2.824749   \n",
       "6                                      0.873130   \n",
       "7                                      0.744610   \n",
       "8                                      2.180252   \n",
       "9                                      0.608160   \n",
       "10                                     0.615910   \n",
       "11                                     0.579750   \n",
       "12                                     0.373700   \n",
       "13                                     1.551366   \n",
       "14                                     1.226521   \n",
       "15                                     0.616697   \n",
       "\n",
       "    Consumo Humano - Fresco - Jurel  Consumo Humano - Fresco - Liza  \n",
       "0                         56.167940                        5.875600  \n",
       "1                        136.827000                        3.166000  \n",
       "2                        134.887316                        9.317622  \n",
       "3                         80.092885                       14.514054  \n",
       "4                         47.079175                       17.311344  \n",
       "5                         10.404933                        9.706363  \n",
       "6                         72.955117                       12.124808  \n",
       "7                         72.930470                       17.162420  \n",
       "8                         54.454541                       12.530821  \n",
       "9                         46.346459                       12.248670  \n",
       "10                        17.536930                       12.463520  \n",
       "11                        12.472050                       15.757580  \n",
       "12                         6.889530                       29.061740  \n",
       "13                        14.720969                       23.326310  \n",
       "14                        40.798701                       24.029820  \n",
       "15                        48.115810                       14.992172  "
      ]
     },
     "execution_count": 12,
     "metadata": {},
     "output_type": "execute_result"
    }
   ],
   "source": [
    "extraction_fish.iloc[ :, 1:-2 ]"
   ]
  },
  {
   "cell_type": "code",
   "execution_count": 6,
   "metadata": {},
   "outputs": [],
   "source": [
    "for index, row in extraction_fish.iloc[ :, 1:-2 ].iterrows():\n",
    "    extraction_fish.at[ index, 'Max_min'] = row.max() - row.min()"
   ]
  },
  {
   "cell_type": "code",
   "execution_count": 38,
   "metadata": {},
   "outputs": [
    {
     "data": {
      "text/html": [
       "<div>\n",
       "<style scoped>\n",
       "    .dataframe tbody tr th:only-of-type {\n",
       "        vertical-align: middle;\n",
       "    }\n",
       "\n",
       "    .dataframe tbody tr th {\n",
       "        vertical-align: top;\n",
       "    }\n",
       "\n",
       "    .dataframe thead th {\n",
       "        text-align: right;\n",
       "    }\n",
       "</style>\n",
       "<table border=\"1\" class=\"dataframe\">\n",
       "  <thead>\n",
       "    <tr style=\"text-align: right;\">\n",
       "      <th></th>\n",
       "      <th>year</th>\n",
       "      <th>Consumo Industrial - Anchoveta</th>\n",
       "      <th>Consumo Humano - Congelado - Concha de abanico</th>\n",
       "      <th>Consumo Humano - Congelado - Langostino</th>\n",
       "      <th>Consumo Humano - Congelado - Merluza</th>\n",
       "      <th>Consumo Humano - Congelado - Calamar gigante</th>\n",
       "      <th>Consumo Humano - Conservas - Atún</th>\n",
       "      <th>Consumo Humano - Conservas - Caballa</th>\n",
       "      <th>Consumo Humano - Conservas - Jurel</th>\n",
       "      <th>Consumo Humano - Conservas - Sardina</th>\n",
       "      <th>Consumo Humano - Fresco - Concha de abanico</th>\n",
       "      <th>Consumo Humano - Fresco - Jurel</th>\n",
       "      <th>Consumo Humano - Fresco - Liza</th>\n",
       "      <th>Consumo Humano - Fresco - Tollo</th>\n",
       "      <th>total_production</th>\n",
       "      <th>Max_min</th>\n",
       "    </tr>\n",
       "  </thead>\n",
       "  <tbody>\n",
       "    <tr>\n",
       "      <th>0</th>\n",
       "      <td>2005</td>\n",
       "      <td>8628.396</td>\n",
       "      <td>13.537000</td>\n",
       "      <td>9.021000</td>\n",
       "      <td>23.279000</td>\n",
       "      <td>235.630000</td>\n",
       "      <td>9.877000</td>\n",
       "      <td>25.711000</td>\n",
       "      <td>20.481000</td>\n",
       "      <td>0.16500</td>\n",
       "      <td>1.843080</td>\n",
       "      <td>56.167940</td>\n",
       "      <td>5.875600</td>\n",
       "      <td>0.430000</td>\n",
       "      <td>9030.413620</td>\n",
       "      <td>8628.23100</td>\n",
       "    </tr>\n",
       "    <tr>\n",
       "      <th>1</th>\n",
       "      <td>2006</td>\n",
       "      <td>5891.838</td>\n",
       "      <td>14.714000</td>\n",
       "      <td>11.295000</td>\n",
       "      <td>25.189000</td>\n",
       "      <td>365.729000</td>\n",
       "      <td>11.336000</td>\n",
       "      <td>58.245000</td>\n",
       "      <td>122.904000</td>\n",
       "      <td>0.04800</td>\n",
       "      <td>4.048000</td>\n",
       "      <td>136.827000</td>\n",
       "      <td>3.166000</td>\n",
       "      <td>1.584000</td>\n",
       "      <td>6646.923000</td>\n",
       "      <td>5891.79000</td>\n",
       "    </tr>\n",
       "    <tr>\n",
       "      <th>2</th>\n",
       "      <td>2007</td>\n",
       "      <td>6084.713</td>\n",
       "      <td>19.937000</td>\n",
       "      <td>13.548000</td>\n",
       "      <td>28.358488</td>\n",
       "      <td>379.556594</td>\n",
       "      <td>3.713293</td>\n",
       "      <td>26.248740</td>\n",
       "      <td>82.910307</td>\n",
       "      <td>0.00102</td>\n",
       "      <td>4.822991</td>\n",
       "      <td>134.887316</td>\n",
       "      <td>9.317622</td>\n",
       "      <td>2.834958</td>\n",
       "      <td>6790.849328</td>\n",
       "      <td>6084.71198</td>\n",
       "    </tr>\n",
       "    <tr>\n",
       "      <th>3</th>\n",
       "      <td>2008</td>\n",
       "      <td>6159.387</td>\n",
       "      <td>18.790000</td>\n",
       "      <td>12.817000</td>\n",
       "      <td>26.348398</td>\n",
       "      <td>484.162082</td>\n",
       "      <td>3.283711</td>\n",
       "      <td>47.694121</td>\n",
       "      <td>58.864202</td>\n",
       "      <td>0.00000</td>\n",
       "      <td>0.828187</td>\n",
       "      <td>80.092885</td>\n",
       "      <td>14.514054</td>\n",
       "      <td>2.933360</td>\n",
       "      <td>6909.715000</td>\n",
       "      <td>6159.38700</td>\n",
       "    </tr>\n",
       "    <tr>\n",
       "      <th>4</th>\n",
       "      <td>2009</td>\n",
       "      <td>5828.636</td>\n",
       "      <td>24.634372</td>\n",
       "      <td>11.877399</td>\n",
       "      <td>36.774763</td>\n",
       "      <td>355.106589</td>\n",
       "      <td>2.017061</td>\n",
       "      <td>51.355908</td>\n",
       "      <td>14.289041</td>\n",
       "      <td>0.00000</td>\n",
       "      <td>1.843072</td>\n",
       "      <td>47.079175</td>\n",
       "      <td>17.311344</td>\n",
       "      <td>4.057886</td>\n",
       "      <td>6394.982610</td>\n",
       "      <td>5828.63600</td>\n",
       "    </tr>\n",
       "  </tbody>\n",
       "</table>\n",
       "</div>"
      ],
      "text/plain": [
       "   year  Consumo Industrial - Anchoveta  \\\n",
       "0  2005                        8628.396   \n",
       "1  2006                        5891.838   \n",
       "2  2007                        6084.713   \n",
       "3  2008                        6159.387   \n",
       "4  2009                        5828.636   \n",
       "\n",
       "   Consumo Humano - Congelado - Concha de abanico  \\\n",
       "0                                       13.537000   \n",
       "1                                       14.714000   \n",
       "2                                       19.937000   \n",
       "3                                       18.790000   \n",
       "4                                       24.634372   \n",
       "\n",
       "   Consumo Humano - Congelado - Langostino  \\\n",
       "0                                 9.021000   \n",
       "1                                11.295000   \n",
       "2                                13.548000   \n",
       "3                                12.817000   \n",
       "4                                11.877399   \n",
       "\n",
       "   Consumo Humano - Congelado - Merluza  \\\n",
       "0                             23.279000   \n",
       "1                             25.189000   \n",
       "2                             28.358488   \n",
       "3                             26.348398   \n",
       "4                             36.774763   \n",
       "\n",
       "   Consumo Humano - Congelado - Calamar gigante  \\\n",
       "0                                    235.630000   \n",
       "1                                    365.729000   \n",
       "2                                    379.556594   \n",
       "3                                    484.162082   \n",
       "4                                    355.106589   \n",
       "\n",
       "   Consumo Humano - Conservas - Atún  Consumo Humano - Conservas - Caballa  \\\n",
       "0                           9.877000                             25.711000   \n",
       "1                          11.336000                             58.245000   \n",
       "2                           3.713293                             26.248740   \n",
       "3                           3.283711                             47.694121   \n",
       "4                           2.017061                             51.355908   \n",
       "\n",
       "   Consumo Humano - Conservas - Jurel  Consumo Humano - Conservas - Sardina  \\\n",
       "0                           20.481000                               0.16500   \n",
       "1                          122.904000                               0.04800   \n",
       "2                           82.910307                               0.00102   \n",
       "3                           58.864202                               0.00000   \n",
       "4                           14.289041                               0.00000   \n",
       "\n",
       "   Consumo Humano - Fresco - Concha de abanico  \\\n",
       "0                                     1.843080   \n",
       "1                                     4.048000   \n",
       "2                                     4.822991   \n",
       "3                                     0.828187   \n",
       "4                                     1.843072   \n",
       "\n",
       "   Consumo Humano - Fresco - Jurel  Consumo Humano - Fresco - Liza  \\\n",
       "0                        56.167940                        5.875600   \n",
       "1                       136.827000                        3.166000   \n",
       "2                       134.887316                        9.317622   \n",
       "3                        80.092885                       14.514054   \n",
       "4                        47.079175                       17.311344   \n",
       "\n",
       "   Consumo Humano - Fresco - Tollo  total_production     Max_min  \n",
       "0                         0.430000       9030.413620  8628.23100  \n",
       "1                         1.584000       6646.923000  5891.79000  \n",
       "2                         2.834958       6790.849328  6084.71198  \n",
       "3                         2.933360       6909.715000  6159.38700  \n",
       "4                         4.057886       6394.982610  5828.63600  "
      ]
     },
     "execution_count": 38,
     "metadata": {},
     "output_type": "execute_result"
    }
   ],
   "source": [
    "extraction_fish.head()"
   ]
  },
  {
   "cell_type": "markdown",
   "metadata": {},
   "source": [
    "#### Exercise - Create new Columns"
   ]
  },
  {
   "cell_type": "code",
   "execution_count": 39,
   "metadata": {
    "scrolled": true
   },
   "outputs": [
    {
     "data": {
      "text/html": [
       "<div>\n",
       "<style scoped>\n",
       "    .dataframe tbody tr th:only-of-type {\n",
       "        vertical-align: middle;\n",
       "    }\n",
       "\n",
       "    .dataframe tbody tr th {\n",
       "        vertical-align: top;\n",
       "    }\n",
       "\n",
       "    .dataframe thead th {\n",
       "        text-align: right;\n",
       "    }\n",
       "</style>\n",
       "<table border=\"1\" class=\"dataframe\">\n",
       "  <thead>\n",
       "    <tr style=\"text-align: right;\">\n",
       "      <th></th>\n",
       "      <th>year</th>\n",
       "      <th>Consumo Industrial - Anchoveta</th>\n",
       "      <th>Consumo Humano - Congelado - Concha de abanico</th>\n",
       "      <th>Consumo Humano - Congelado - Langostino</th>\n",
       "      <th>Consumo Humano - Congelado - Merluza</th>\n",
       "      <th>Consumo Humano - Congelado - Calamar gigante</th>\n",
       "      <th>Consumo Humano - Conservas - Atún</th>\n",
       "      <th>Consumo Humano - Conservas - Caballa</th>\n",
       "      <th>Consumo Humano - Conservas - Jurel</th>\n",
       "      <th>Consumo Humano - Conservas - Sardina</th>\n",
       "      <th>...</th>\n",
       "      <th>%_Consumo Humano - Congelado - Calamar gigante</th>\n",
       "      <th>%_Consumo Humano - Conservas - Atún</th>\n",
       "      <th>%_Consumo Humano - Conservas - Caballa</th>\n",
       "      <th>%_Consumo Humano - Conservas - Jurel</th>\n",
       "      <th>%_Consumo Humano - Conservas - Sardina</th>\n",
       "      <th>%_Consumo Humano - Fresco - Concha de abanico</th>\n",
       "      <th>%_Consumo Humano - Fresco - Jurel</th>\n",
       "      <th>%_Consumo Humano - Fresco - Liza</th>\n",
       "      <th>%_Consumo Humano - Fresco - Tollo</th>\n",
       "      <th>%_total_production</th>\n",
       "    </tr>\n",
       "  </thead>\n",
       "  <tbody>\n",
       "    <tr>\n",
       "      <th>0</th>\n",
       "      <td>2005</td>\n",
       "      <td>8628.396</td>\n",
       "      <td>13.537000</td>\n",
       "      <td>9.021000</td>\n",
       "      <td>23.279000</td>\n",
       "      <td>235.630000</td>\n",
       "      <td>9.877000</td>\n",
       "      <td>25.711000</td>\n",
       "      <td>20.481000</td>\n",
       "      <td>0.16500</td>\n",
       "      <td>...</td>\n",
       "      <td>2.609294</td>\n",
       "      <td>0.109375</td>\n",
       "      <td>0.284716</td>\n",
       "      <td>0.226800</td>\n",
       "      <td>0.001827</td>\n",
       "      <td>0.020410</td>\n",
       "      <td>0.621986</td>\n",
       "      <td>0.065065</td>\n",
       "      <td>0.004762</td>\n",
       "      <td>100.0</td>\n",
       "    </tr>\n",
       "    <tr>\n",
       "      <th>1</th>\n",
       "      <td>2006</td>\n",
       "      <td>5891.838</td>\n",
       "      <td>14.714000</td>\n",
       "      <td>11.295000</td>\n",
       "      <td>25.189000</td>\n",
       "      <td>365.729000</td>\n",
       "      <td>11.336000</td>\n",
       "      <td>58.245000</td>\n",
       "      <td>122.904000</td>\n",
       "      <td>0.04800</td>\n",
       "      <td>...</td>\n",
       "      <td>5.502230</td>\n",
       "      <td>0.170545</td>\n",
       "      <td>0.876270</td>\n",
       "      <td>1.849036</td>\n",
       "      <td>0.000722</td>\n",
       "      <td>0.060900</td>\n",
       "      <td>2.058501</td>\n",
       "      <td>0.047631</td>\n",
       "      <td>0.023831</td>\n",
       "      <td>100.0</td>\n",
       "    </tr>\n",
       "    <tr>\n",
       "      <th>2</th>\n",
       "      <td>2007</td>\n",
       "      <td>6084.713</td>\n",
       "      <td>19.937000</td>\n",
       "      <td>13.548000</td>\n",
       "      <td>28.358488</td>\n",
       "      <td>379.556594</td>\n",
       "      <td>3.713293</td>\n",
       "      <td>26.248740</td>\n",
       "      <td>82.910307</td>\n",
       "      <td>0.00102</td>\n",
       "      <td>...</td>\n",
       "      <td>5.589236</td>\n",
       "      <td>0.054681</td>\n",
       "      <td>0.386531</td>\n",
       "      <td>1.220912</td>\n",
       "      <td>0.000015</td>\n",
       "      <td>0.071022</td>\n",
       "      <td>1.986310</td>\n",
       "      <td>0.137208</td>\n",
       "      <td>0.041747</td>\n",
       "      <td>100.0</td>\n",
       "    </tr>\n",
       "    <tr>\n",
       "      <th>3</th>\n",
       "      <td>2008</td>\n",
       "      <td>6159.387</td>\n",
       "      <td>18.790000</td>\n",
       "      <td>12.817000</td>\n",
       "      <td>26.348398</td>\n",
       "      <td>484.162082</td>\n",
       "      <td>3.283711</td>\n",
       "      <td>47.694121</td>\n",
       "      <td>58.864202</td>\n",
       "      <td>0.00000</td>\n",
       "      <td>...</td>\n",
       "      <td>7.006976</td>\n",
       "      <td>0.047523</td>\n",
       "      <td>0.690247</td>\n",
       "      <td>0.851905</td>\n",
       "      <td>0.000000</td>\n",
       "      <td>0.011986</td>\n",
       "      <td>1.159134</td>\n",
       "      <td>0.210053</td>\n",
       "      <td>0.042453</td>\n",
       "      <td>100.0</td>\n",
       "    </tr>\n",
       "    <tr>\n",
       "      <th>4</th>\n",
       "      <td>2009</td>\n",
       "      <td>5828.636</td>\n",
       "      <td>24.634372</td>\n",
       "      <td>11.877399</td>\n",
       "      <td>36.774763</td>\n",
       "      <td>355.106589</td>\n",
       "      <td>2.017061</td>\n",
       "      <td>51.355908</td>\n",
       "      <td>14.289041</td>\n",
       "      <td>0.00000</td>\n",
       "      <td>...</td>\n",
       "      <td>5.552894</td>\n",
       "      <td>0.031541</td>\n",
       "      <td>0.803066</td>\n",
       "      <td>0.223441</td>\n",
       "      <td>0.000000</td>\n",
       "      <td>0.028821</td>\n",
       "      <td>0.736189</td>\n",
       "      <td>0.270702</td>\n",
       "      <td>0.063454</td>\n",
       "      <td>100.0</td>\n",
       "    </tr>\n",
       "  </tbody>\n",
       "</table>\n",
       "<p>5 rows × 30 columns</p>\n",
       "</div>"
      ],
      "text/plain": [
       "   year  Consumo Industrial - Anchoveta  \\\n",
       "0  2005                        8628.396   \n",
       "1  2006                        5891.838   \n",
       "2  2007                        6084.713   \n",
       "3  2008                        6159.387   \n",
       "4  2009                        5828.636   \n",
       "\n",
       "   Consumo Humano - Congelado - Concha de abanico  \\\n",
       "0                                       13.537000   \n",
       "1                                       14.714000   \n",
       "2                                       19.937000   \n",
       "3                                       18.790000   \n",
       "4                                       24.634372   \n",
       "\n",
       "   Consumo Humano - Congelado - Langostino  \\\n",
       "0                                 9.021000   \n",
       "1                                11.295000   \n",
       "2                                13.548000   \n",
       "3                                12.817000   \n",
       "4                                11.877399   \n",
       "\n",
       "   Consumo Humano - Congelado - Merluza  \\\n",
       "0                             23.279000   \n",
       "1                             25.189000   \n",
       "2                             28.358488   \n",
       "3                             26.348398   \n",
       "4                             36.774763   \n",
       "\n",
       "   Consumo Humano - Congelado - Calamar gigante  \\\n",
       "0                                    235.630000   \n",
       "1                                    365.729000   \n",
       "2                                    379.556594   \n",
       "3                                    484.162082   \n",
       "4                                    355.106589   \n",
       "\n",
       "   Consumo Humano - Conservas - Atún  Consumo Humano - Conservas - Caballa  \\\n",
       "0                           9.877000                             25.711000   \n",
       "1                          11.336000                             58.245000   \n",
       "2                           3.713293                             26.248740   \n",
       "3                           3.283711                             47.694121   \n",
       "4                           2.017061                             51.355908   \n",
       "\n",
       "   Consumo Humano - Conservas - Jurel  Consumo Humano - Conservas - Sardina  \\\n",
       "0                           20.481000                               0.16500   \n",
       "1                          122.904000                               0.04800   \n",
       "2                           82.910307                               0.00102   \n",
       "3                           58.864202                               0.00000   \n",
       "4                           14.289041                               0.00000   \n",
       "\n",
       "   ...  %_Consumo Humano - Congelado - Calamar gigante  \\\n",
       "0  ...                                        2.609294   \n",
       "1  ...                                        5.502230   \n",
       "2  ...                                        5.589236   \n",
       "3  ...                                        7.006976   \n",
       "4  ...                                        5.552894   \n",
       "\n",
       "   %_Consumo Humano - Conservas - Atún  \\\n",
       "0                             0.109375   \n",
       "1                             0.170545   \n",
       "2                             0.054681   \n",
       "3                             0.047523   \n",
       "4                             0.031541   \n",
       "\n",
       "   %_Consumo Humano - Conservas - Caballa  \\\n",
       "0                                0.284716   \n",
       "1                                0.876270   \n",
       "2                                0.386531   \n",
       "3                                0.690247   \n",
       "4                                0.803066   \n",
       "\n",
       "   %_Consumo Humano - Conservas - Jurel  \\\n",
       "0                              0.226800   \n",
       "1                              1.849036   \n",
       "2                              1.220912   \n",
       "3                              0.851905   \n",
       "4                              0.223441   \n",
       "\n",
       "   %_Consumo Humano - Conservas - Sardina  \\\n",
       "0                                0.001827   \n",
       "1                                0.000722   \n",
       "2                                0.000015   \n",
       "3                                0.000000   \n",
       "4                                0.000000   \n",
       "\n",
       "   %_Consumo Humano - Fresco - Concha de abanico  \\\n",
       "0                                       0.020410   \n",
       "1                                       0.060900   \n",
       "2                                       0.071022   \n",
       "3                                       0.011986   \n",
       "4                                       0.028821   \n",
       "\n",
       "   %_Consumo Humano - Fresco - Jurel  %_Consumo Humano - Fresco - Liza  \\\n",
       "0                           0.621986                          0.065065   \n",
       "1                           2.058501                          0.047631   \n",
       "2                           1.986310                          0.137208   \n",
       "3                           1.159134                          0.210053   \n",
       "4                           0.736189                          0.270702   \n",
       "\n",
       "   %_Consumo Humano - Fresco - Tollo  %_total_production  \n",
       "0                           0.004762               100.0  \n",
       "1                           0.023831               100.0  \n",
       "2                           0.041747               100.0  \n",
       "3                           0.042453               100.0  \n",
       "4                           0.063454               100.0  \n",
       "\n",
       "[5 rows x 30 columns]"
      ]
     },
     "execution_count": 39,
     "metadata": {},
     "output_type": "execute_result"
    }
   ],
   "source": [
    "for col in col_names:\n",
    "    extraction_fish[ f'%_{col}' ]  = extraction_fish[ f'{col}' ] * 100 / extraction_fish[ 'total_production' ]\n",
    "\n",
    "extraction_fish.head()"
   ]
  },
  {
   "cell_type": "markdown",
   "metadata": {},
   "source": [
    "## 4.3. <a id = '4.3.'> Pass, Continue, Break, Try</a>\n",
    "\n",
    "|Function|Description|\n",
    "|---|---|\n",
    "| `Pass`| Allows you to handle the condition <br> without the loop being impacted in any way|\n",
    "| `Continue`| The current iteration of the loop will be disrupted, <br> but the program will return to the top of the loop|\n",
    "| `Break`| The loop will exit|\n",
    "| `Try`| This command lets you test a block of code for errors.|\n",
    "| `Exception`| An exception is an event, which occurs during <br> the execution of a program that disrupts the normal <br> flow of the program's instructions. <br> It allows you to raise a message to help the user.|"
   ]
  },
  {
   "cell_type": "markdown",
   "metadata": {},
   "source": [
    "\n",
    "### 4.3.1 <a id = '4.3.1.'> Pass</a>"
   ]
  },
  {
   "cell_type": "code",
   "execution_count": 41,
   "metadata": {},
   "outputs": [
    {
     "name": "stdout",
     "output_type": "stream",
     "text": [
      "Number is 0\n",
      "Number is 1\n",
      "Number is 2\n",
      "Number is 3\n",
      "Number is 4\n",
      "Number is 5\n",
      "Number is 6\n",
      "Number is 7\n",
      "Number is 8\n",
      "Number is 9\n"
     ]
    }
   ],
   "source": [
    "for number in range(10):\n",
    "\n",
    "    print('Number is ' + str(number))\n"
   ]
  },
  {
   "cell_type": "code",
   "execution_count": 42,
   "metadata": {},
   "outputs": [],
   "source": [
    "a = 2\n",
    "if a == 1:\n",
    "    print(a)"
   ]
  },
  {
   "cell_type": "code",
   "execution_count": 43,
   "metadata": {},
   "outputs": [],
   "source": [
    "prime = [2 , 3, 5, 7]"
   ]
  },
  {
   "cell_type": "code",
   "execution_count": 44,
   "metadata": {},
   "outputs": [
    {
     "name": "stdout",
     "output_type": "stream",
     "text": [
      "Different number\n",
      "Number is 0 \n",
      "\n",
      "Different number\n",
      "Number is 1 \n",
      "\n",
      "Number is 2 \n",
      "\n",
      "Number is 3 \n",
      "\n",
      "Different number\n",
      "Number is 4 \n",
      "\n",
      "Number is 5 \n",
      "\n",
      "Different number\n",
      "Number is 6 \n",
      "\n",
      "Number is 7 \n",
      "\n",
      "Different number\n",
      "Number is 8 \n",
      "\n",
      "Different number\n",
      "Number is 9 \n",
      "\n",
      "Out of loop\n"
     ]
    }
   ],
   "source": [
    "for number in range(10):\n",
    "    \n",
    "    if (number in prime):\n",
    "        # comment\n",
    "        pass\n",
    "\n",
    "    elif number == 3:\n",
    "        #number = number + 1\n",
    "        print( f'This number is {number}' )\n",
    "\n",
    "    else:\n",
    "        #number = number + 2\n",
    "        print('Different number')\n",
    "\n",
    "    print('Number is ' + str(number), '\\n')\n",
    "\n",
    "print('Out of loop')"
   ]
  },
  {
   "cell_type": "markdown",
   "metadata": {},
   "source": [
    "### 4.3.2. <a id = '4.3.2.'>Continue</a>"
   ]
  },
  {
   "cell_type": "code",
   "execution_count": 45,
   "metadata": {},
   "outputs": [
    {
     "name": "stdout",
     "output_type": "stream",
     "text": [
      "Different number\n",
      "Number is 0 \n",
      "\n",
      "Different number\n",
      "Number is 1 \n",
      "\n",
      "Different number\n",
      "Number is 2 \n",
      "\n",
      "This number is 3\n",
      "Number is 3 \n",
      "\n",
      "Different number\n",
      "Number is 4 \n",
      "\n",
      "Different number\n",
      "Number is 6 \n",
      "\n",
      "Different number\n",
      "Number is 7 \n",
      "\n",
      "Different number\n",
      "Number is 8 \n",
      "\n",
      "Different number\n",
      "Number is 9 \n",
      "\n",
      "Out of loop\n"
     ]
    }
   ],
   "source": [
    "for number in range(10):\n",
    "    if number == 5:\n",
    "        # comment\n",
    "        continue\n",
    "\n",
    "    elif number == 3:\n",
    "        #number = number + 1\n",
    "        print( f'This number is {number}' )\n",
    "\n",
    "    else:\n",
    "        #number = number + 2\n",
    "        print('Different number')\n",
    "    \n",
    "    print('Number is ' + str(number), '\\n')\n",
    "\n",
    "print('Out of loop')"
   ]
  },
  {
   "cell_type": "markdown",
   "metadata": {},
   "source": [
    "### 4.3.3. <a id = '4.3.3.'>Break</a>"
   ]
  },
  {
   "cell_type": "code",
   "execution_count": 46,
   "metadata": {},
   "outputs": [
    {
     "name": "stdout",
     "output_type": "stream",
     "text": [
      "Different number\n",
      "Number is 0\n",
      "Different number\n",
      "Number is 1\n",
      "Different number\n",
      "Number is 2\n",
      "This number is 3\n",
      "Number is 3\n",
      "Different number\n",
      "Number is 4\n",
      "This is the output of break.\n",
      "Out of loop\n"
     ]
    }
   ],
   "source": [
    "for number in range(10):\n",
    "    if number == 5:\n",
    "        # comment\n",
    "        print('This is the output of break.')\n",
    "        break\n",
    "\n",
    "    elif number == 3:\n",
    "        #number = number + 1\n",
    "        print( f'This number is {number}' )\n",
    "\n",
    "    else:\n",
    "        #number = number + 2\n",
    "        print('Different number')\n",
    "\n",
    "    print('Number is ' + str(number))\n",
    "\n",
    "print('Out of loop')"
   ]
  },
  {
   "cell_type": "code",
   "execution_count": 47,
   "metadata": {},
   "outputs": [
    {
     "name": "stdout",
     "output_type": "stream",
     "text": [
      "Different number\n",
      "Number is 0\n",
      "Different number\n",
      "Number is 1\n",
      "Different number\n",
      "Number is 2\n",
      "This number is 3\n",
      "Number is 3\n",
      "Different number\n",
      "Number is 4\n"
     ]
    },
    {
     "ename": "Exception",
     "evalue": "This is the output of exception.",
     "output_type": "error",
     "traceback": [
      "\u001b[1;31m---------------------------------------------------------------------------\u001b[0m",
      "\u001b[1;31mException\u001b[0m                                 Traceback (most recent call last)",
      "\u001b[1;32m<ipython-input-47-a891118470e7>\u001b[0m in \u001b[0;36m<module>\u001b[1;34m\u001b[0m\n\u001b[0;32m      2\u001b[0m     \u001b[1;32mif\u001b[0m \u001b[0mnumber\u001b[0m \u001b[1;33m==\u001b[0m \u001b[1;36m5\u001b[0m\u001b[1;33m:\u001b[0m\u001b[1;33m\u001b[0m\u001b[1;33m\u001b[0m\u001b[0m\n\u001b[0;32m      3\u001b[0m         \u001b[1;31m# comment\u001b[0m\u001b[1;33m\u001b[0m\u001b[1;33m\u001b[0m\u001b[1;33m\u001b[0m\u001b[0m\n\u001b[1;32m----> 4\u001b[1;33m         \u001b[1;32mraise\u001b[0m \u001b[0mException\u001b[0m\u001b[1;33m(\u001b[0m\u001b[1;34m'This is the output of exception.'\u001b[0m\u001b[1;33m)\u001b[0m\u001b[1;33m\u001b[0m\u001b[1;33m\u001b[0m\u001b[0m\n\u001b[0m\u001b[0;32m      5\u001b[0m \u001b[1;33m\u001b[0m\u001b[0m\n\u001b[0;32m      6\u001b[0m     \u001b[1;32melif\u001b[0m \u001b[0mnumber\u001b[0m \u001b[1;33m==\u001b[0m \u001b[1;36m3\u001b[0m\u001b[1;33m:\u001b[0m\u001b[1;33m\u001b[0m\u001b[1;33m\u001b[0m\u001b[0m\n",
      "\u001b[1;31mException\u001b[0m: This is the output of exception."
     ]
    }
   ],
   "source": [
    "for number in range(10):\n",
    "    if number == 5:\n",
    "        # comment\n",
    "        raise Exception('This is the output of exception.')\n",
    "\n",
    "    elif number == 3:\n",
    "        #number = number + 1\n",
    "        print( f'This number is {number}' )\n",
    "\n",
    "    else:\n",
    "        #number = number + 2\n",
    "        print('Different number')\n",
    "\n",
    "    print('Number is ' + str(number))\n",
    "\n",
    "print('Out of loop')"
   ]
  },
  {
   "cell_type": "markdown",
   "metadata": {},
   "source": [
    "### 4.3.4. <a id = '4.3.4.'> Try </a>\n",
    "\n",
    "|Function|Description|\n",
    "|---|---|\n",
    "|`except`| Run a code if an error occurs.|\n",
    "|`else`| The code will be executed whether there is no error.|\n",
    "|`finally`| The code will be executed <br> does no matter whether or not the try raises an exception.|"
   ]
  },
  {
   "cell_type": "markdown",
   "metadata": {},
   "source": [
    "`except`: Run a code if an error occurs."
   ]
  },
  {
   "cell_type": "code",
   "execution_count": 49,
   "metadata": {},
   "outputs": [],
   "source": [
    "x = 'hola'"
   ]
  },
  {
   "cell_type": "code",
   "execution_count": 50,
   "metadata": {},
   "outputs": [
    {
     "ename": "TypeError",
     "evalue": "can only concatenate str (not \"int\") to str",
     "output_type": "error",
     "traceback": [
      "\u001b[1;31m---------------------------------------------------------------------------\u001b[0m",
      "\u001b[1;31mTypeError\u001b[0m                                 Traceback (most recent call last)",
      "\u001b[1;32m<ipython-input-50-caad3cc2172f>\u001b[0m in \u001b[0;36m<module>\u001b[1;34m\u001b[0m\n\u001b[1;32m----> 1\u001b[1;33m \u001b[0mprint\u001b[0m\u001b[1;33m(\u001b[0m\u001b[0mx\u001b[0m \u001b[1;33m+\u001b[0m \u001b[1;36m4\u001b[0m\u001b[1;33m)\u001b[0m\u001b[1;33m\u001b[0m\u001b[1;33m\u001b[0m\u001b[0m\n\u001b[0m",
      "\u001b[1;31mTypeError\u001b[0m: can only concatenate str (not \"int\") to str"
     ]
    }
   ],
   "source": [
    "print(x + 4)"
   ]
  },
  {
   "cell_type": "code",
   "execution_count": null,
   "metadata": {},
   "outputs": [],
   "source": [
    "try:\n",
    "    print(x + 4)\n",
    "except TypeError:\n",
    "    print(\"An error tipo TypeError\")\n",
    "except NameError:\n",
    "    print(\"Variable x is not defined\")\n",
    "except:\n",
    "    print(\"Something else went wrong\")"
   ]
  },
  {
   "cell_type": "markdown",
   "metadata": {},
   "source": [
    "`else`: The code will be executed whether there is no error."
   ]
  },
  {
   "cell_type": "code",
   "execution_count": null,
   "metadata": {},
   "outputs": [],
   "source": [
    "x = 6"
   ]
  },
  {
   "cell_type": "code",
   "execution_count": null,
   "metadata": {},
   "outputs": [],
   "source": [
    "try:\n",
    "    print(x + 4)\n",
    "except:\n",
    "    print(\"Something went wrong\")\n",
    "    #print( 5 + 4)\n",
    "else:\n",
    "    print(\"Nothing went wrong\")\n",
    "    t\n",
    "    try:\n",
    "        print( x + \"2\")    \n",
    "    except:\n",
    "        print(\"error 2\")"
   ]
  },
  {
   "cell_type": "markdown",
   "metadata": {},
   "source": [
    "`finally`: The code will be executed does no matter whether or not the try raises an exception."
   ]
  },
  {
   "cell_type": "code",
   "execution_count": null,
   "metadata": {},
   "outputs": [],
   "source": [
    "x = 6"
   ]
  },
  {
   "cell_type": "code",
   "execution_count": null,
   "metadata": {},
   "outputs": [],
   "source": [
    "try:\n",
    "    print(x + 4)\n",
    "except:\n",
    "    print(\"Something went wrong\")\n",
    "finally:\n",
    "    print( f'el elemento {x} ya paso por este filtro')"
   ]
  },
  {
   "cell_type": "code",
   "execution_count": null,
   "metadata": {},
   "outputs": [],
   "source": [
    "s"
   ]
  },
  {
   "cell_type": "code",
   "execution_count": null,
   "metadata": {},
   "outputs": [],
   "source": [
    "s = 16\n",
    "if s:\n",
    "    print(s)"
   ]
  },
  {
   "cell_type": "markdown",
   "metadata": {},
   "source": [
    "## 4.4. <a id='4.4.'> While Loop </a>\n",
    "While loop is used to repeat code as long as the condition is true. When the logical expression is false, the code will finish executing. [More Info](https://python101.pythonlibrary.org/chapter5_loops.html)\n",
    "<img src=\"../_images\\while_loop.jpg\">"
   ]
  },
  {
   "cell_type": "markdown",
   "metadata": {},
   "source": [
    "### 4.4.1. <a id='4.4.1.'> Structure </a>\n",
    "\n",
    "while <font color='green'>condition</font>: <br>\n",
    "&nbsp;&nbsp;&nbsp;&nbsp;&nbsp;&nbsp;code 1<br><br>\n",
    "&nbsp;&nbsp;&nbsp;&nbsp;&nbsp;&nbsp;<font color='red'>break code</font><br><br>\n",
    "\n",
    "The break code is an expression that allows the logical condition to be false at some point, because if not, the code will continue to execute infinitely."
   ]
  },
  {
   "cell_type": "code",
   "execution_count": 51,
   "metadata": {},
   "outputs": [
    {
     "name": "stdout",
     "output_type": "stream",
     "text": [
      "1\n",
      "2\n",
      "3\n",
      "4\n",
      "5\n"
     ]
    }
   ],
   "source": [
    "i = 1\n",
    "\n",
    "# condition  \"i < 6\"\n",
    "while i < 6:\n",
    "    \n",
    "    print(i)\n",
    "    \n",
    "    # break code, \n",
    "    i += 1 \n",
    "    # ==> i = i + 1"
   ]
  },
  {
   "cell_type": "markdown",
   "metadata": {},
   "source": [
    "#### Excersice\n",
    "1. Print $2^n$, but the result is less than 10,000."
   ]
  },
  {
   "cell_type": "code",
   "execution_count": 52,
   "metadata": {},
   "outputs": [
    {
     "name": "stdout",
     "output_type": "stream",
     "text": [
      "2\n",
      "4\n",
      "8\n",
      "16\n",
      "32\n",
      "64\n",
      "128\n",
      "256\n",
      "512\n",
      "1024\n",
      "2048\n",
      "4096\n",
      "8192\n"
     ]
    }
   ],
   "source": [
    "x = 2\n",
    "while x < 10000:\n",
    "    print(x)\n",
    "    \n",
    "    #break code\n",
    "    x = 2*x"
   ]
  },
  {
   "cell_type": "markdown",
   "metadata": {},
   "source": [
    "2. A teacher has 100 apples for his entire class. The first student took four apples, and the next student always took more apples than the previous one. How many children have apples?"
   ]
  },
  {
   "cell_type": "code",
   "execution_count": 53,
   "metadata": {},
   "outputs": [
    {
     "name": "stdout",
     "output_type": "stream",
     "text": [
      "2 children have apples\n",
      "3 children have apples\n",
      "4 children have apples\n",
      "5 children have apples\n",
      "6 children have apples\n",
      "7 children have apples\n",
      "8 children have apples\n",
      "9 children have apples\n",
      "10 children have apples\n",
      "11 children have apples\n",
      "12 children have apples\n"
     ]
    }
   ],
   "source": [
    "apples = 100\n",
    "last_st = 4\n",
    "i = 1\n",
    "while apples > last_st:\n",
    "    \n",
    "    # Code\n",
    "    apples = apples - last_st\n",
    "    last_st += 1\n",
    "\n",
    "    # Break code\n",
    "    i += 1\n",
    "    # What is the format function for\n",
    "    print ('{} children have apples'.format (i))\n",
    "\n",
    "# print ('{} children have apples'.format (i))"
   ]
  },
  {
   "cell_type": "markdown",
   "metadata": {},
   "source": [
    "3. Print all elements of an array."
   ]
  },
  {
   "cell_type": "code",
   "execution_count": 55,
   "metadata": {},
   "outputs": [
    {
     "name": "stdout",
     "output_type": "stream",
     "text": [
      "3\n",
      "6\n",
      "7\n",
      "10\n",
      "15\n",
      "17\n",
      "18\n",
      "31\n",
      "26\n",
      "88\n",
      "100\n",
      "120\n",
      "110\n"
     ]
    }
   ],
   "source": [
    "import numpy as np\n",
    "\n",
    "edad = np.array([ 3, 6, 7, 10, 15, 17, 18, 31, 26, 88 , 100, 120, 110])\n",
    "i = 0\n",
    "\n",
    "while i < edad.size:\n",
    "    \n",
    "    print(edad[i])\n",
    "    i += 1"
   ]
  },
  {
   "cell_type": "markdown",
   "metadata": {},
   "source": [
    "4. While loop Excersice"
   ]
  },
  {
   "cell_type": "code",
   "execution_count": 56,
   "metadata": {},
   "outputs": [
    {
     "name": "stdout",
     "output_type": "stream",
     "text": [
      "Quarantine day n° 1. \n",
      "Rebeca watch Love Alarm\n",
      "The day number 1 of quarantine is over. \n",
      " \n",
      "Quarantine day n° 2. \n",
      "Rebeca watch Love Alarm\n",
      "The day number 2 of quarantine is over. \n",
      " \n",
      "Quarantine day n° 3. \n",
      "Rebeca watch Love Alarm\n",
      "The day number 3 of quarantine is over. \n",
      " \n",
      "Quarantine day n° 4. \n",
      "Rebeca watch Love Alarm\n",
      "The day number 4 of quarantine is over. \n",
      " \n",
      "Quarantine day n° 5. \n",
      "Rebeca watch Love Alarm\n",
      "The day number 5 of quarantine is over. \n",
      " \n",
      "Quarantine day n° 6. \n",
      "Rebeca watch Love Alarm\n",
      "The day number 6 of quarantine is over. \n",
      " \n",
      "Quarantine day n° 7. \n",
      "Her family let Rebeca out on the day 7.\n",
      "Quarantine is over.\n"
     ]
    }
   ],
   "source": [
    "quarantine_days = 1\n",
    "stress_level = 2\n",
    "\n",
    "\n",
    "while quarantine_days <= 40:\n",
    "    \n",
    "    print ( f'Quarantine day n° {quarantine_days}. ')\n",
    "    \n",
    "    if stress_level> 100:\n",
    "        print (f'Her family let Rebeca out on the day {quarantine_days}.')\n",
    "        stress_level = 1\n",
    "        break\n",
    "     \n",
    "    elif quarantine_days <15:\n",
    "        \n",
    "        print (\"Rebeca watch Love Alarm\")\n",
    "    \n",
    "    elif (quarantine_days >= 15) & (quarantine_days <20):\n",
    "        \n",
    "        print (\"Rebeca reads El mundo de Sofia and Cronicas de una muerte anunciada\")\n",
    "    \n",
    "    elif (quarantine_days >= 20) & (quarantine_days <40):\n",
    "        print ('Rebeca builds her Foundation of Analysis I class')\n",
    "        \n",
    "    else:\n",
    "        print (\"The lady works out\")\n",
    "    \n",
    "    print (f'The day number {quarantine_days} of quarantine is over. \\n ')\n",
    "    \n",
    "    # Days increase\n",
    "    quarantine_days = quarantine_days + 1\n",
    "    stress_level = stress_level * 2\n",
    "\n",
    "print (\"Quarantine is over.\")"
   ]
  },
  {
   "cell_type": "markdown",
   "metadata": {},
   "source": [
    "5. Pandas with While loop"
   ]
  },
  {
   "cell_type": "code",
   "execution_count": 57,
   "metadata": {},
   "outputs": [],
   "source": [
    "import pandas as pd\n",
    "data1 = {'names': ['Martins', 'Raul', 'Estremadoyro', \"Kante\", 'Tigo', 'Betson', 'Finado', 'Alex', 'Miracles', 'Bambi'], \n",
    "     'age': [23, 25, 36, 78, 90, 32, 200, 24, 12, 18]}\n",
    "people = pd.DataFrame( data = data1)"
   ]
  },
  {
   "cell_type": "code",
   "execution_count": 58,
   "metadata": {
    "scrolled": true
   },
   "outputs": [
    {
     "data": {
      "text/html": [
       "<div>\n",
       "<style scoped>\n",
       "    .dataframe tbody tr th:only-of-type {\n",
       "        vertical-align: middle;\n",
       "    }\n",
       "\n",
       "    .dataframe tbody tr th {\n",
       "        vertical-align: top;\n",
       "    }\n",
       "\n",
       "    .dataframe thead th {\n",
       "        text-align: right;\n",
       "    }\n",
       "</style>\n",
       "<table border=\"1\" class=\"dataframe\">\n",
       "  <thead>\n",
       "    <tr style=\"text-align: right;\">\n",
       "      <th></th>\n",
       "      <th>names</th>\n",
       "      <th>age</th>\n",
       "    </tr>\n",
       "  </thead>\n",
       "  <tbody>\n",
       "    <tr>\n",
       "      <th>0</th>\n",
       "      <td>Martins</td>\n",
       "      <td>23</td>\n",
       "    </tr>\n",
       "    <tr>\n",
       "      <th>1</th>\n",
       "      <td>Raul</td>\n",
       "      <td>25</td>\n",
       "    </tr>\n",
       "    <tr>\n",
       "      <th>2</th>\n",
       "      <td>Estremadoyro</td>\n",
       "      <td>36</td>\n",
       "    </tr>\n",
       "    <tr>\n",
       "      <th>3</th>\n",
       "      <td>Kante</td>\n",
       "      <td>78</td>\n",
       "    </tr>\n",
       "    <tr>\n",
       "      <th>4</th>\n",
       "      <td>Tigo</td>\n",
       "      <td>90</td>\n",
       "    </tr>\n",
       "    <tr>\n",
       "      <th>5</th>\n",
       "      <td>Betson</td>\n",
       "      <td>32</td>\n",
       "    </tr>\n",
       "    <tr>\n",
       "      <th>6</th>\n",
       "      <td>Finado</td>\n",
       "      <td>200</td>\n",
       "    </tr>\n",
       "    <tr>\n",
       "      <th>7</th>\n",
       "      <td>Alex</td>\n",
       "      <td>24</td>\n",
       "    </tr>\n",
       "    <tr>\n",
       "      <th>8</th>\n",
       "      <td>Miracles</td>\n",
       "      <td>12</td>\n",
       "    </tr>\n",
       "    <tr>\n",
       "      <th>9</th>\n",
       "      <td>Bambi</td>\n",
       "      <td>18</td>\n",
       "    </tr>\n",
       "  </tbody>\n",
       "</table>\n",
       "</div>"
      ],
      "text/plain": [
       "          names  age\n",
       "0       Martins   23\n",
       "1          Raul   25\n",
       "2  Estremadoyro   36\n",
       "3         Kante   78\n",
       "4          Tigo   90\n",
       "5        Betson   32\n",
       "6        Finado  200\n",
       "7          Alex   24\n",
       "8      Miracles   12\n",
       "9         Bambi   18"
      ]
     },
     "execution_count": 58,
     "metadata": {},
     "output_type": "execute_result"
    }
   ],
   "source": [
    "people"
   ]
  },
  {
   "cell_type": "code",
   "execution_count": 59,
   "metadata": {},
   "outputs": [
    {
     "name": "stdout",
     "output_type": "stream",
     "text": [
      "Ohhh no a phantom\n"
     ]
    }
   ],
   "source": [
    "i = 0\n",
    "# row by row\n",
    "nrows = people.age.count()\n",
    "while i < nrows:\n",
    "  \n",
    "    if people['age'][i] > 150:\n",
    "        print('Ohhh no a phantom')\n",
    "        break\n",
    "    \n",
    "    elif people['age'][i] < 18:\n",
    "        # New column\n",
    "        people.loc[[i], [\"pass\"]] = \"No pass\"\n",
    "    \n",
    "    else:\n",
    "        people.loc[[i], [\"pass\"]] = \"Pass\"\n",
    "        \n",
    "    i += 1"
   ]
  },
  {
   "cell_type": "markdown",
   "metadata": {},
   "source": [
    "## 4.5. <a id = '4.5.'> References </a>\n",
    "\n",
    "1. [DataCamp](https://www.datacamp.com/community/tutorials/python-if-elif-else?utm_source=adwords_ppc&utm_medium=cpc&utm_campaignid=1455363063&utm_adgroupid=65083631748&utm_device=c&utm_keyword=&utm_matchtype=b&utm_network=g&utm_adpostion=&utm_creative=332602034358&utm_targetid=dsa-429603003980&utm_loc_interest_ms=&utm_loc_physical_ms=9060932&gclid=CjwKCAiA7dKMBhBCEiwAO_crFCArGqe0fxSaO2q6eTaTtigeALef5CcM1hRWgNI8hMEoVCg-uOwFDhoCu1kQAvD_BwE)\n",
    "2. https://www.programiz.com/python-programming/if-elif-else\n",
    "3. https://www.guru99.com/if-loop-python-conditional-structures.html\n",
    "4. https://www.w3schools.com/python/python_for_loops.asp\n",
    "5. https://www.programiz.com/python-programming/for-loop\n",
    "6. https://www.geeksforgeeks.org/loops-in-python/\n",
    "7. https://www.w3schools.com/python/python_while_loops.asp\n",
    "8. https://www.programiz.com/python-programming/while-loop\n",
    "9. https://www.tutorialspoint.com/python/python_while_loop.htm"
   ]
  }
 ],
 "metadata": {
  "hide_input": false,
  "kernelspec": {
   "display_name": "Python 3",
   "language": "python",
   "name": "python3"
  },
  "language_info": {
   "codemirror_mode": {
    "name": "ipython",
    "version": 3
   },
   "file_extension": ".py",
   "mimetype": "text/x-python",
   "name": "python",
   "nbconvert_exporter": "python",
   "pygments_lexer": "ipython3",
   "version": "3.8.8"
  }
 },
 "nbformat": 4,
 "nbformat_minor": 4
}
